{
 "cells": [
  {
   "cell_type": "markdown",
   "id": "769ac4c2",
   "metadata": {},
   "source": [
    "# Udacity Capstone Project\n",
    "## Starbucks Promotional Offers\n",
    "### April 2023"
   ]
  },
  {
   "cell_type": "markdown",
   "id": "28a42eef",
   "metadata": {},
   "source": [
    "# Data Sets\n",
    "The data for this project are contained in three files:\n",
    "\n",
    "- **portfolio.json** - containing offer ids and meta data about each offer (duration, type, etc.)\n",
    "- **profile.json** - demographic data for each customer\n",
    "- **transcript.json** - records for transactions, offers received, offers viewed, and offers completed\n",
    "\n",
    "## Schema details\n",
    "**portfolio.json**\n",
    "* id (string) - offer id\n",
    "* offer_type (string) - type of offer ie BOGO, discount, informational\n",
    "* difficulty (int) - minimum required spend to complete an offer\n",
    "* reward (int) - monetary reward given for completing an offer\n",
    "* duration (int) - time for offer to be open, in days\n",
    "* channels (list of strings)\n",
    "\n",
    "**profile.json**\n",
    "* age (int) - age of the customer \n",
    "* became_member_on (int) - date when customer created an app account\n",
    "* gender (str) - gender of the customer (note some entries contain 'O' for other rather than M or F)\n",
    "* id (str) - customer id\n",
    "* income (float) - customer's income\n",
    "\n",
    "**transcript.json**\n",
    "* event (str) - record description (ie transaction, offer received, offer viewed, etc.)\n",
    "* person (str) - customer id\n",
    "* time (int) - time in hours since start of test. The data begins at time t=0\n",
    "* value - (dict of strings) - either an offer id or transaction amount depending on the record"
   ]
  },
  {
   "cell_type": "code",
   "execution_count": 1,
   "id": "2d7eb3d0",
   "metadata": {},
   "outputs": [],
   "source": [
    "# import necessary libraries\n",
    "import pandas as pd\n",
    "import numpy as np\n",
    "import matplotlib.pyplot as plt\n",
    "import seaborn as sns\n",
    "from wrangle_data import clean_portfolio, clean_profile, clean_transcript, merge_data, age_bins, income_bins\n",
    "from recommendations import create_ranked_offers, popular_recommendations, create_user_item_matrix\n",
    "import math\n",
    "import json\n",
    "from sklearn.preprocessing import MultiLabelBinarizer\n",
    "%matplotlib inline"
   ]
  },
  {
   "cell_type": "code",
   "execution_count": 2,
   "id": "4cf76663",
   "metadata": {},
   "outputs": [],
   "source": [
    "# read in the json files\n",
    "portfolio = pd.read_json('data/portfolio.json', orient='records', lines=True)\n",
    "profile = pd.read_json('data/profile.json', orient='records', lines=True)\n",
    "transcript = pd.read_json('data/transcript.json', orient='records', lines=True)"
   ]
  },
  {
   "cell_type": "markdown",
   "id": "0f7defa8",
   "metadata": {},
   "source": [
    "## Data Exploration"
   ]
  },
  {
   "cell_type": "markdown",
   "id": "4be07608",
   "metadata": {},
   "source": [
    "### portfolio.json"
   ]
  },
  {
   "cell_type": "code",
   "execution_count": 3,
   "id": "629e262a",
   "metadata": {},
   "outputs": [
    {
     "data": {
      "text/html": [
       "<div>\n",
       "<style scoped>\n",
       "    .dataframe tbody tr th:only-of-type {\n",
       "        vertical-align: middle;\n",
       "    }\n",
       "\n",
       "    .dataframe tbody tr th {\n",
       "        vertical-align: top;\n",
       "    }\n",
       "\n",
       "    .dataframe thead th {\n",
       "        text-align: right;\n",
       "    }\n",
       "</style>\n",
       "<table border=\"1\" class=\"dataframe\">\n",
       "  <thead>\n",
       "    <tr style=\"text-align: right;\">\n",
       "      <th></th>\n",
       "      <th>reward</th>\n",
       "      <th>channels</th>\n",
       "      <th>difficulty</th>\n",
       "      <th>duration</th>\n",
       "      <th>offer_type</th>\n",
       "      <th>id</th>\n",
       "    </tr>\n",
       "  </thead>\n",
       "  <tbody>\n",
       "    <tr>\n",
       "      <th>0</th>\n",
       "      <td>10</td>\n",
       "      <td>[email, mobile, social]</td>\n",
       "      <td>10</td>\n",
       "      <td>7</td>\n",
       "      <td>bogo</td>\n",
       "      <td>ae264e3637204a6fb9bb56bc8210ddfd</td>\n",
       "    </tr>\n",
       "    <tr>\n",
       "      <th>1</th>\n",
       "      <td>10</td>\n",
       "      <td>[web, email, mobile, social]</td>\n",
       "      <td>10</td>\n",
       "      <td>5</td>\n",
       "      <td>bogo</td>\n",
       "      <td>4d5c57ea9a6940dd891ad53e9dbe8da0</td>\n",
       "    </tr>\n",
       "    <tr>\n",
       "      <th>2</th>\n",
       "      <td>0</td>\n",
       "      <td>[web, email, mobile]</td>\n",
       "      <td>0</td>\n",
       "      <td>4</td>\n",
       "      <td>informational</td>\n",
       "      <td>3f207df678b143eea3cee63160fa8bed</td>\n",
       "    </tr>\n",
       "    <tr>\n",
       "      <th>3</th>\n",
       "      <td>5</td>\n",
       "      <td>[web, email, mobile]</td>\n",
       "      <td>5</td>\n",
       "      <td>7</td>\n",
       "      <td>bogo</td>\n",
       "      <td>9b98b8c7a33c4b65b9aebfe6a799e6d9</td>\n",
       "    </tr>\n",
       "    <tr>\n",
       "      <th>4</th>\n",
       "      <td>5</td>\n",
       "      <td>[web, email]</td>\n",
       "      <td>20</td>\n",
       "      <td>10</td>\n",
       "      <td>discount</td>\n",
       "      <td>0b1e1539f2cc45b7b9fa7c272da2e1d7</td>\n",
       "    </tr>\n",
       "  </tbody>\n",
       "</table>\n",
       "</div>"
      ],
      "text/plain": [
       "   reward                      channels  difficulty  duration     offer_type  \\\n",
       "0      10       [email, mobile, social]          10         7           bogo   \n",
       "1      10  [web, email, mobile, social]          10         5           bogo   \n",
       "2       0          [web, email, mobile]           0         4  informational   \n",
       "3       5          [web, email, mobile]           5         7           bogo   \n",
       "4       5                  [web, email]          20        10       discount   \n",
       "\n",
       "                                 id  \n",
       "0  ae264e3637204a6fb9bb56bc8210ddfd  \n",
       "1  4d5c57ea9a6940dd891ad53e9dbe8da0  \n",
       "2  3f207df678b143eea3cee63160fa8bed  \n",
       "3  9b98b8c7a33c4b65b9aebfe6a799e6d9  \n",
       "4  0b1e1539f2cc45b7b9fa7c272da2e1d7  "
      ]
     },
     "execution_count": 3,
     "metadata": {},
     "output_type": "execute_result"
    }
   ],
   "source": [
    "# look at first few rows\n",
    "portfolio.head()"
   ]
  },
  {
   "cell_type": "code",
   "execution_count": 4,
   "id": "16c2bc18",
   "metadata": {},
   "outputs": [
    {
     "name": "stdout",
     "output_type": "stream",
     "text": [
      "Number of portfolio data rows: 10\n",
      "Number of portfolio data columns: 6\n"
     ]
    }
   ],
   "source": [
    "# shape of portfolio data\n",
    "print('Number of portfolio data rows: {}'.format(portfolio.shape[0]))\n",
    "print('Number of portfolio data columns: {}'.format(portfolio.shape[1]))"
   ]
  },
  {
   "cell_type": "code",
   "execution_count": 5,
   "id": "2419ff42",
   "metadata": {},
   "outputs": [
    {
     "name": "stdout",
     "output_type": "stream",
     "text": [
      "<class 'pandas.core.frame.DataFrame'>\n",
      "RangeIndex: 10 entries, 0 to 9\n",
      "Data columns (total 6 columns):\n",
      " #   Column      Non-Null Count  Dtype \n",
      "---  ------      --------------  ----- \n",
      " 0   reward      10 non-null     int64 \n",
      " 1   channels    10 non-null     object\n",
      " 2   difficulty  10 non-null     int64 \n",
      " 3   duration    10 non-null     int64 \n",
      " 4   offer_type  10 non-null     object\n",
      " 5   id          10 non-null     object\n",
      "dtypes: int64(3), object(3)\n",
      "memory usage: 608.0+ bytes\n"
     ]
    }
   ],
   "source": [
    "# column information\n",
    "portfolio.info()"
   ]
  },
  {
   "cell_type": "code",
   "execution_count": 6,
   "id": "8005ded6",
   "metadata": {},
   "outputs": [
    {
     "data": {
      "text/plain": [
       "reward        0\n",
       "channels      0\n",
       "difficulty    0\n",
       "duration      0\n",
       "offer_type    0\n",
       "id            0\n",
       "dtype: int64"
      ]
     },
     "execution_count": 6,
     "metadata": {},
     "output_type": "execute_result"
    }
   ],
   "source": [
    "# any missing values\n",
    "portfolio.isna().sum()"
   ]
  },
  {
   "cell_type": "code",
   "execution_count": 7,
   "id": "5efdfc9c",
   "metadata": {},
   "outputs": [
    {
     "data": {
      "text/html": [
       "<div>\n",
       "<style scoped>\n",
       "    .dataframe tbody tr th:only-of-type {\n",
       "        vertical-align: middle;\n",
       "    }\n",
       "\n",
       "    .dataframe tbody tr th {\n",
       "        vertical-align: top;\n",
       "    }\n",
       "\n",
       "    .dataframe thead th {\n",
       "        text-align: right;\n",
       "    }\n",
       "</style>\n",
       "<table border=\"1\" class=\"dataframe\">\n",
       "  <thead>\n",
       "    <tr style=\"text-align: right;\">\n",
       "      <th></th>\n",
       "      <th>count</th>\n",
       "      <th>mean</th>\n",
       "      <th>std</th>\n",
       "      <th>min</th>\n",
       "      <th>25%</th>\n",
       "      <th>50%</th>\n",
       "      <th>75%</th>\n",
       "      <th>max</th>\n",
       "    </tr>\n",
       "  </thead>\n",
       "  <tbody>\n",
       "    <tr>\n",
       "      <th>reward</th>\n",
       "      <td>10.0</td>\n",
       "      <td>4.2</td>\n",
       "      <td>3.583915</td>\n",
       "      <td>0.0</td>\n",
       "      <td>2.0</td>\n",
       "      <td>4.0</td>\n",
       "      <td>5.0</td>\n",
       "      <td>10.0</td>\n",
       "    </tr>\n",
       "    <tr>\n",
       "      <th>difficulty</th>\n",
       "      <td>10.0</td>\n",
       "      <td>7.7</td>\n",
       "      <td>5.831905</td>\n",
       "      <td>0.0</td>\n",
       "      <td>5.0</td>\n",
       "      <td>8.5</td>\n",
       "      <td>10.0</td>\n",
       "      <td>20.0</td>\n",
       "    </tr>\n",
       "    <tr>\n",
       "      <th>duration</th>\n",
       "      <td>10.0</td>\n",
       "      <td>6.5</td>\n",
       "      <td>2.321398</td>\n",
       "      <td>3.0</td>\n",
       "      <td>5.0</td>\n",
       "      <td>7.0</td>\n",
       "      <td>7.0</td>\n",
       "      <td>10.0</td>\n",
       "    </tr>\n",
       "  </tbody>\n",
       "</table>\n",
       "</div>"
      ],
      "text/plain": [
       "            count  mean       std  min  25%  50%   75%   max\n",
       "reward       10.0   4.2  3.583915  0.0  2.0  4.0   5.0  10.0\n",
       "difficulty   10.0   7.7  5.831905  0.0  5.0  8.5  10.0  20.0\n",
       "duration     10.0   6.5  2.321398  3.0  5.0  7.0   7.0  10.0"
      ]
     },
     "execution_count": 7,
     "metadata": {},
     "output_type": "execute_result"
    }
   ],
   "source": [
    "# summary stats\n",
    "portfolio.describe().T"
   ]
  },
  {
   "cell_type": "code",
   "execution_count": 8,
   "id": "71c6b4e2",
   "metadata": {},
   "outputs": [
    {
     "name": "stdout",
     "output_type": "stream",
     "text": [
      "Unique offer ids: 10\n"
     ]
    }
   ],
   "source": [
    "# how many unique offer ids\n",
    "print('Unique offer ids: {}'.format(portfolio.id.nunique()))"
   ]
  },
  {
   "cell_type": "code",
   "execution_count": 9,
   "id": "e8c10179",
   "metadata": {},
   "outputs": [
    {
     "data": {
      "text/plain": [
       "offer_type\n",
       "bogo             4\n",
       "discount         4\n",
       "informational    2\n",
       "Name: id, dtype: int64"
      ]
     },
     "execution_count": 9,
     "metadata": {},
     "output_type": "execute_result"
    }
   ],
   "source": [
    "# distribution of offer ids\n",
    "portfolio.groupby('offer_type')['id'].count()"
   ]
  },
  {
   "cell_type": "code",
   "execution_count": 10,
   "id": "6f47e2d6",
   "metadata": {},
   "outputs": [
    {
     "data": {
      "text/plain": [
       "7     4\n",
       "5     2\n",
       "10    2\n",
       "4     1\n",
       "3     1\n",
       "Name: duration, dtype: int64"
      ]
     },
     "execution_count": 10,
     "metadata": {},
     "output_type": "execute_result"
    }
   ],
   "source": [
    "# distribution of offer durations\n",
    "portfolio.duration.value_counts()"
   ]
  },
  {
   "cell_type": "markdown",
   "id": "69485a6d",
   "metadata": {},
   "source": [
    "### profile.json"
   ]
  },
  {
   "cell_type": "code",
   "execution_count": 11,
   "id": "7df77909",
   "metadata": {},
   "outputs": [
    {
     "data": {
      "text/html": [
       "<div>\n",
       "<style scoped>\n",
       "    .dataframe tbody tr th:only-of-type {\n",
       "        vertical-align: middle;\n",
       "    }\n",
       "\n",
       "    .dataframe tbody tr th {\n",
       "        vertical-align: top;\n",
       "    }\n",
       "\n",
       "    .dataframe thead th {\n",
       "        text-align: right;\n",
       "    }\n",
       "</style>\n",
       "<table border=\"1\" class=\"dataframe\">\n",
       "  <thead>\n",
       "    <tr style=\"text-align: right;\">\n",
       "      <th></th>\n",
       "      <th>gender</th>\n",
       "      <th>age</th>\n",
       "      <th>id</th>\n",
       "      <th>became_member_on</th>\n",
       "      <th>income</th>\n",
       "    </tr>\n",
       "  </thead>\n",
       "  <tbody>\n",
       "    <tr>\n",
       "      <th>0</th>\n",
       "      <td>None</td>\n",
       "      <td>118</td>\n",
       "      <td>68be06ca386d4c31939f3a4f0e3dd783</td>\n",
       "      <td>20170212</td>\n",
       "      <td>NaN</td>\n",
       "    </tr>\n",
       "    <tr>\n",
       "      <th>1</th>\n",
       "      <td>F</td>\n",
       "      <td>55</td>\n",
       "      <td>0610b486422d4921ae7d2bf64640c50b</td>\n",
       "      <td>20170715</td>\n",
       "      <td>112000.0</td>\n",
       "    </tr>\n",
       "    <tr>\n",
       "      <th>2</th>\n",
       "      <td>None</td>\n",
       "      <td>118</td>\n",
       "      <td>38fe809add3b4fcf9315a9694bb96ff5</td>\n",
       "      <td>20180712</td>\n",
       "      <td>NaN</td>\n",
       "    </tr>\n",
       "    <tr>\n",
       "      <th>3</th>\n",
       "      <td>F</td>\n",
       "      <td>75</td>\n",
       "      <td>78afa995795e4d85b5d9ceeca43f5fef</td>\n",
       "      <td>20170509</td>\n",
       "      <td>100000.0</td>\n",
       "    </tr>\n",
       "    <tr>\n",
       "      <th>4</th>\n",
       "      <td>None</td>\n",
       "      <td>118</td>\n",
       "      <td>a03223e636434f42ac4c3df47e8bac43</td>\n",
       "      <td>20170804</td>\n",
       "      <td>NaN</td>\n",
       "    </tr>\n",
       "  </tbody>\n",
       "</table>\n",
       "</div>"
      ],
      "text/plain": [
       "  gender  age                                id  became_member_on    income\n",
       "0   None  118  68be06ca386d4c31939f3a4f0e3dd783          20170212       NaN\n",
       "1      F   55  0610b486422d4921ae7d2bf64640c50b          20170715  112000.0\n",
       "2   None  118  38fe809add3b4fcf9315a9694bb96ff5          20180712       NaN\n",
       "3      F   75  78afa995795e4d85b5d9ceeca43f5fef          20170509  100000.0\n",
       "4   None  118  a03223e636434f42ac4c3df47e8bac43          20170804       NaN"
      ]
     },
     "execution_count": 11,
     "metadata": {},
     "output_type": "execute_result"
    }
   ],
   "source": [
    "# look at first few rows\n",
    "profile.head()"
   ]
  },
  {
   "cell_type": "code",
   "execution_count": 12,
   "id": "a3170f45",
   "metadata": {},
   "outputs": [
    {
     "name": "stdout",
     "output_type": "stream",
     "text": [
      "Number of profile data rows: 17000\n",
      "Number of profile data columns: 5\n"
     ]
    }
   ],
   "source": [
    "# shape of profile data\n",
    "print('Number of profile data rows: {}'.format(profile.shape[0]))\n",
    "print('Number of profile data columns: {}'.format(profile.shape[1]))"
   ]
  },
  {
   "cell_type": "code",
   "execution_count": 13,
   "id": "7019b3a2",
   "metadata": {},
   "outputs": [
    {
     "name": "stdout",
     "output_type": "stream",
     "text": [
      "<class 'pandas.core.frame.DataFrame'>\n",
      "RangeIndex: 17000 entries, 0 to 16999\n",
      "Data columns (total 5 columns):\n",
      " #   Column            Non-Null Count  Dtype  \n",
      "---  ------            --------------  -----  \n",
      " 0   gender            14825 non-null  object \n",
      " 1   age               17000 non-null  int64  \n",
      " 2   id                17000 non-null  object \n",
      " 3   became_member_on  17000 non-null  int64  \n",
      " 4   income            14825 non-null  float64\n",
      "dtypes: float64(1), int64(2), object(2)\n",
      "memory usage: 664.2+ KB\n"
     ]
    }
   ],
   "source": [
    "# column information\n",
    "profile.info()"
   ]
  },
  {
   "cell_type": "code",
   "execution_count": 14,
   "id": "77088ff0",
   "metadata": {},
   "outputs": [
    {
     "data": {
      "text/plain": [
       "gender              2175\n",
       "age                    0\n",
       "id                     0\n",
       "became_member_on       0\n",
       "income              2175\n",
       "dtype: int64"
      ]
     },
     "execution_count": 14,
     "metadata": {},
     "output_type": "execute_result"
    }
   ],
   "source": [
    "# any missing values\n",
    "profile.isna().sum()"
   ]
  },
  {
   "cell_type": "code",
   "execution_count": 15,
   "id": "05ccf6e1",
   "metadata": {},
   "outputs": [
    {
     "data": {
      "text/html": [
       "<div>\n",
       "<style scoped>\n",
       "    .dataframe tbody tr th:only-of-type {\n",
       "        vertical-align: middle;\n",
       "    }\n",
       "\n",
       "    .dataframe tbody tr th {\n",
       "        vertical-align: top;\n",
       "    }\n",
       "\n",
       "    .dataframe thead th {\n",
       "        text-align: right;\n",
       "    }\n",
       "</style>\n",
       "<table border=\"1\" class=\"dataframe\">\n",
       "  <thead>\n",
       "    <tr style=\"text-align: right;\">\n",
       "      <th></th>\n",
       "      <th>count</th>\n",
       "      <th>mean</th>\n",
       "      <th>std</th>\n",
       "      <th>min</th>\n",
       "      <th>25%</th>\n",
       "      <th>50%</th>\n",
       "      <th>75%</th>\n",
       "      <th>max</th>\n",
       "    </tr>\n",
       "  </thead>\n",
       "  <tbody>\n",
       "    <tr>\n",
       "      <th>age</th>\n",
       "      <td>17000.0</td>\n",
       "      <td>6.253141e+01</td>\n",
       "      <td>26.738580</td>\n",
       "      <td>18.0</td>\n",
       "      <td>45.0</td>\n",
       "      <td>58.0</td>\n",
       "      <td>73.0</td>\n",
       "      <td>118.0</td>\n",
       "    </tr>\n",
       "    <tr>\n",
       "      <th>became_member_on</th>\n",
       "      <td>17000.0</td>\n",
       "      <td>2.016703e+07</td>\n",
       "      <td>11677.499961</td>\n",
       "      <td>20130729.0</td>\n",
       "      <td>20160526.0</td>\n",
       "      <td>20170802.0</td>\n",
       "      <td>20171230.0</td>\n",
       "      <td>20180726.0</td>\n",
       "    </tr>\n",
       "    <tr>\n",
       "      <th>income</th>\n",
       "      <td>14825.0</td>\n",
       "      <td>6.540499e+04</td>\n",
       "      <td>21598.299410</td>\n",
       "      <td>30000.0</td>\n",
       "      <td>49000.0</td>\n",
       "      <td>64000.0</td>\n",
       "      <td>80000.0</td>\n",
       "      <td>120000.0</td>\n",
       "    </tr>\n",
       "  </tbody>\n",
       "</table>\n",
       "</div>"
      ],
      "text/plain": [
       "                    count          mean           std         min         25%  \\\n",
       "age               17000.0  6.253141e+01     26.738580        18.0        45.0   \n",
       "became_member_on  17000.0  2.016703e+07  11677.499961  20130729.0  20160526.0   \n",
       "income            14825.0  6.540499e+04  21598.299410     30000.0     49000.0   \n",
       "\n",
       "                         50%         75%         max  \n",
       "age                     58.0        73.0       118.0  \n",
       "became_member_on  20170802.0  20171230.0  20180726.0  \n",
       "income               64000.0     80000.0    120000.0  "
      ]
     },
     "execution_count": 15,
     "metadata": {},
     "output_type": "execute_result"
    }
   ],
   "source": [
    "# summary stats\n",
    "profile.describe().T"
   ]
  },
  {
   "cell_type": "code",
   "execution_count": 16,
   "id": "cf50f8b4",
   "metadata": {},
   "outputs": [
    {
     "data": {
      "text/plain": [
       "gender                 0\n",
       "age                 2175\n",
       "id                  2175\n",
       "became_member_on    2175\n",
       "income                 0\n",
       "dtype: int64"
      ]
     },
     "execution_count": 16,
     "metadata": {},
     "output_type": "execute_result"
    }
   ],
   "source": [
    "profile.loc[profile['age'] == 118].count()"
   ]
  },
  {
   "cell_type": "code",
   "execution_count": 17,
   "id": "e43a8f34",
   "metadata": {},
   "outputs": [
    {
     "data": {
      "text/plain": [
       "M    8484\n",
       "F    6129\n",
       "O     212\n",
       "Name: gender, dtype: int64"
      ]
     },
     "execution_count": 17,
     "metadata": {},
     "output_type": "execute_result"
    }
   ],
   "source": [
    "profile.gender.value_counts()"
   ]
  },
  {
   "cell_type": "markdown",
   "id": "c4f148e8",
   "metadata": {},
   "source": [
    "### transcript.json"
   ]
  },
  {
   "cell_type": "code",
   "execution_count": 18,
   "id": "b9c4435d",
   "metadata": {},
   "outputs": [
    {
     "data": {
      "text/html": [
       "<div>\n",
       "<style scoped>\n",
       "    .dataframe tbody tr th:only-of-type {\n",
       "        vertical-align: middle;\n",
       "    }\n",
       "\n",
       "    .dataframe tbody tr th {\n",
       "        vertical-align: top;\n",
       "    }\n",
       "\n",
       "    .dataframe thead th {\n",
       "        text-align: right;\n",
       "    }\n",
       "</style>\n",
       "<table border=\"1\" class=\"dataframe\">\n",
       "  <thead>\n",
       "    <tr style=\"text-align: right;\">\n",
       "      <th></th>\n",
       "      <th>person</th>\n",
       "      <th>event</th>\n",
       "      <th>value</th>\n",
       "      <th>time</th>\n",
       "    </tr>\n",
       "  </thead>\n",
       "  <tbody>\n",
       "    <tr>\n",
       "      <th>0</th>\n",
       "      <td>78afa995795e4d85b5d9ceeca43f5fef</td>\n",
       "      <td>offer received</td>\n",
       "      <td>{'offer id': '9b98b8c7a33c4b65b9aebfe6a799e6d9'}</td>\n",
       "      <td>0</td>\n",
       "    </tr>\n",
       "    <tr>\n",
       "      <th>1</th>\n",
       "      <td>a03223e636434f42ac4c3df47e8bac43</td>\n",
       "      <td>offer received</td>\n",
       "      <td>{'offer id': '0b1e1539f2cc45b7b9fa7c272da2e1d7'}</td>\n",
       "      <td>0</td>\n",
       "    </tr>\n",
       "    <tr>\n",
       "      <th>2</th>\n",
       "      <td>e2127556f4f64592b11af22de27a7932</td>\n",
       "      <td>offer received</td>\n",
       "      <td>{'offer id': '2906b810c7d4411798c6938adc9daaa5'}</td>\n",
       "      <td>0</td>\n",
       "    </tr>\n",
       "    <tr>\n",
       "      <th>3</th>\n",
       "      <td>8ec6ce2a7e7949b1bf142def7d0e0586</td>\n",
       "      <td>offer received</td>\n",
       "      <td>{'offer id': 'fafdcd668e3743c1bb461111dcafc2a4'}</td>\n",
       "      <td>0</td>\n",
       "    </tr>\n",
       "    <tr>\n",
       "      <th>4</th>\n",
       "      <td>68617ca6246f4fbc85e91a2a49552598</td>\n",
       "      <td>offer received</td>\n",
       "      <td>{'offer id': '4d5c57ea9a6940dd891ad53e9dbe8da0'}</td>\n",
       "      <td>0</td>\n",
       "    </tr>\n",
       "  </tbody>\n",
       "</table>\n",
       "</div>"
      ],
      "text/plain": [
       "                             person           event  \\\n",
       "0  78afa995795e4d85b5d9ceeca43f5fef  offer received   \n",
       "1  a03223e636434f42ac4c3df47e8bac43  offer received   \n",
       "2  e2127556f4f64592b11af22de27a7932  offer received   \n",
       "3  8ec6ce2a7e7949b1bf142def7d0e0586  offer received   \n",
       "4  68617ca6246f4fbc85e91a2a49552598  offer received   \n",
       "\n",
       "                                              value  time  \n",
       "0  {'offer id': '9b98b8c7a33c4b65b9aebfe6a799e6d9'}     0  \n",
       "1  {'offer id': '0b1e1539f2cc45b7b9fa7c272da2e1d7'}     0  \n",
       "2  {'offer id': '2906b810c7d4411798c6938adc9daaa5'}     0  \n",
       "3  {'offer id': 'fafdcd668e3743c1bb461111dcafc2a4'}     0  \n",
       "4  {'offer id': '4d5c57ea9a6940dd891ad53e9dbe8da0'}     0  "
      ]
     },
     "execution_count": 18,
     "metadata": {},
     "output_type": "execute_result"
    }
   ],
   "source": [
    "# look at first few rows\n",
    "transcript.head()"
   ]
  },
  {
   "cell_type": "code",
   "execution_count": 19,
   "id": "66f3305a",
   "metadata": {},
   "outputs": [
    {
     "name": "stdout",
     "output_type": "stream",
     "text": [
      "Number of transcript data rows: 306534\n",
      "Number of transcript data columns: 4\n"
     ]
    }
   ],
   "source": [
    "# shape of transcript data\n",
    "print('Number of transcript data rows: {}'.format(transcript.shape[0]))\n",
    "print('Number of transcript data columns: {}'.format(transcript.shape[1]))"
   ]
  },
  {
   "cell_type": "code",
   "execution_count": 20,
   "id": "0e8081a3",
   "metadata": {},
   "outputs": [
    {
     "name": "stdout",
     "output_type": "stream",
     "text": [
      "<class 'pandas.core.frame.DataFrame'>\n",
      "RangeIndex: 306534 entries, 0 to 306533\n",
      "Data columns (total 4 columns):\n",
      " #   Column  Non-Null Count   Dtype \n",
      "---  ------  --------------   ----- \n",
      " 0   person  306534 non-null  object\n",
      " 1   event   306534 non-null  object\n",
      " 2   value   306534 non-null  object\n",
      " 3   time    306534 non-null  int64 \n",
      "dtypes: int64(1), object(3)\n",
      "memory usage: 9.4+ MB\n"
     ]
    }
   ],
   "source": [
    "# column information\n",
    "transcript.info()"
   ]
  },
  {
   "cell_type": "code",
   "execution_count": 21,
   "id": "b8fff32a",
   "metadata": {},
   "outputs": [
    {
     "data": {
      "text/plain": [
       "person    0\n",
       "event     0\n",
       "value     0\n",
       "time      0\n",
       "dtype: int64"
      ]
     },
     "execution_count": 21,
     "metadata": {},
     "output_type": "execute_result"
    }
   ],
   "source": [
    "# any missing values\n",
    "transcript.isna().sum()"
   ]
  },
  {
   "cell_type": "code",
   "execution_count": 22,
   "id": "5c7b6df0",
   "metadata": {},
   "outputs": [
    {
     "data": {
      "text/plain": [
       "array(['offer received', 'offer viewed', 'transaction', 'offer completed'],\n",
       "      dtype=object)"
      ]
     },
     "execution_count": 22,
     "metadata": {},
     "output_type": "execute_result"
    }
   ],
   "source": [
    "# what are the unique events\n",
    "transcript.event.unique()"
   ]
  },
  {
   "cell_type": "code",
   "execution_count": 23,
   "id": "ea2e1b0f",
   "metadata": {},
   "outputs": [
    {
     "data": {
      "text/plain": [
       "transaction        138953\n",
       "offer received      76277\n",
       "offer viewed        57725\n",
       "offer completed     33579\n",
       "Name: event, dtype: int64"
      ]
     },
     "execution_count": 23,
     "metadata": {},
     "output_type": "execute_result"
    }
   ],
   "source": [
    "# what are the event counts\n",
    "transcript.event.value_counts()"
   ]
  },
  {
   "cell_type": "code",
   "execution_count": 24,
   "id": "fc522b06",
   "metadata": {},
   "outputs": [
    {
     "data": {
      "text/plain": [
       "{'amount': 0.8300000000000001}"
      ]
     },
     "execution_count": 24,
     "metadata": {},
     "output_type": "execute_result"
    }
   ],
   "source": [
    "# what does a transaction value look like\n",
    "transcript.query('event == \"transaction\"')['value'].iloc[0]"
   ]
  },
  {
   "cell_type": "code",
   "execution_count": 25,
   "id": "87713703",
   "metadata": {},
   "outputs": [
    {
     "data": {
      "text/plain": [
       "{'offer id': '9b98b8c7a33c4b65b9aebfe6a799e6d9'}"
      ]
     },
     "execution_count": 25,
     "metadata": {},
     "output_type": "execute_result"
    }
   ],
   "source": [
    "# what does a offer received value look like\n",
    "transcript.query('event == \"offer received\"')['value'].iloc[0]"
   ]
  },
  {
   "cell_type": "code",
   "execution_count": 26,
   "id": "3b265a48",
   "metadata": {},
   "outputs": [
    {
     "data": {
      "text/plain": [
       "{'offer id': 'f19421c1d4aa40978ebb69ca19b0e20d'}"
      ]
     },
     "execution_count": 26,
     "metadata": {},
     "output_type": "execute_result"
    }
   ],
   "source": [
    "# what does a offer viewed value look like\n",
    "transcript.query('event == \"offer viewed\"')['value'].iloc[0]"
   ]
  },
  {
   "cell_type": "code",
   "execution_count": 27,
   "id": "ebd0dcaa",
   "metadata": {},
   "outputs": [
    {
     "data": {
      "text/plain": [
       "{'offer_id': '2906b810c7d4411798c6938adc9daaa5', 'reward': 2}"
      ]
     },
     "execution_count": 27,
     "metadata": {},
     "output_type": "execute_result"
    }
   ],
   "source": [
    "# what does a offer completed value look like\n",
    "transcript.query('event == \"offer completed\"')['value'].iloc[0]"
   ]
  },
  {
   "cell_type": "markdown",
   "id": "cdbb7a9c",
   "metadata": {},
   "source": [
    "### Data Observations\n",
    "#### portfolio.json\n",
    "- channels can be one-hot encoded\n",
    "- offer_type can be one-hot encoded\n",
    "- id column is offer_id\n",
    "- there are no missing values\n",
    "\n",
    "#### profile.json \n",
    "- id in this data set is a customer id\n",
    "- gender and income each have 2175 missing values. \n",
    "- maximum age is 118, which appears out of line. \n",
    "- age = 118 is in the same 2175 records with missing gender and income.\n",
    "- became_member_on is a data field, but represented as integer\n",
    "\n",
    "#### transcript.json \n",
    "- time column represents hours since start of test, but is integer format\n",
    "- people column is equivalent to customer id in profile dataset"
   ]
  },
  {
   "cell_type": "markdown",
   "id": "80f4e8d6",
   "metadata": {},
   "source": [
    "## Data Cleaning"
   ]
  },
  {
   "cell_type": "markdown",
   "id": "0d0c593c",
   "metadata": {},
   "source": [
    "#### portfolio dataframe\n",
    "- rename \"id\" column to \"offer_id\"\n",
    "- rename \"duration\" column to \"days_open\"\n",
    "- rename \"difficulty\" column to \"min_spend\"\n",
    "- one-hot encode \"channels\" column\n",
    "- one-hot encode \"offer_type\" column\n",
    "- drop \"channels\" and \"offer_type\" columns after one-hot encoding"
   ]
  },
  {
   "cell_type": "code",
   "execution_count": 28,
   "id": "89e9d980",
   "metadata": {},
   "outputs": [
    {
     "data": {
      "text/html": [
       "<div>\n",
       "<style scoped>\n",
       "    .dataframe tbody tr th:only-of-type {\n",
       "        vertical-align: middle;\n",
       "    }\n",
       "\n",
       "    .dataframe tbody tr th {\n",
       "        vertical-align: top;\n",
       "    }\n",
       "\n",
       "    .dataframe thead th {\n",
       "        text-align: right;\n",
       "    }\n",
       "</style>\n",
       "<table border=\"1\" class=\"dataframe\">\n",
       "  <thead>\n",
       "    <tr style=\"text-align: right;\">\n",
       "      <th></th>\n",
       "      <th>offer_id</th>\n",
       "      <th>reward</th>\n",
       "      <th>min_spend</th>\n",
       "      <th>days_open</th>\n",
       "      <th>email</th>\n",
       "      <th>mobile</th>\n",
       "      <th>social</th>\n",
       "      <th>web</th>\n",
       "      <th>bogo</th>\n",
       "      <th>discount</th>\n",
       "      <th>informational</th>\n",
       "    </tr>\n",
       "  </thead>\n",
       "  <tbody>\n",
       "    <tr>\n",
       "      <th>0</th>\n",
       "      <td>ae264e3637204a6fb9bb56bc8210ddfd</td>\n",
       "      <td>10</td>\n",
       "      <td>10</td>\n",
       "      <td>7</td>\n",
       "      <td>1</td>\n",
       "      <td>1</td>\n",
       "      <td>1</td>\n",
       "      <td>0</td>\n",
       "      <td>1</td>\n",
       "      <td>0</td>\n",
       "      <td>0</td>\n",
       "    </tr>\n",
       "    <tr>\n",
       "      <th>1</th>\n",
       "      <td>4d5c57ea9a6940dd891ad53e9dbe8da0</td>\n",
       "      <td>10</td>\n",
       "      <td>10</td>\n",
       "      <td>5</td>\n",
       "      <td>1</td>\n",
       "      <td>1</td>\n",
       "      <td>1</td>\n",
       "      <td>1</td>\n",
       "      <td>1</td>\n",
       "      <td>0</td>\n",
       "      <td>0</td>\n",
       "    </tr>\n",
       "    <tr>\n",
       "      <th>2</th>\n",
       "      <td>3f207df678b143eea3cee63160fa8bed</td>\n",
       "      <td>0</td>\n",
       "      <td>0</td>\n",
       "      <td>4</td>\n",
       "      <td>1</td>\n",
       "      <td>1</td>\n",
       "      <td>0</td>\n",
       "      <td>1</td>\n",
       "      <td>0</td>\n",
       "      <td>0</td>\n",
       "      <td>1</td>\n",
       "    </tr>\n",
       "    <tr>\n",
       "      <th>3</th>\n",
       "      <td>9b98b8c7a33c4b65b9aebfe6a799e6d9</td>\n",
       "      <td>5</td>\n",
       "      <td>5</td>\n",
       "      <td>7</td>\n",
       "      <td>1</td>\n",
       "      <td>1</td>\n",
       "      <td>0</td>\n",
       "      <td>1</td>\n",
       "      <td>1</td>\n",
       "      <td>0</td>\n",
       "      <td>0</td>\n",
       "    </tr>\n",
       "    <tr>\n",
       "      <th>4</th>\n",
       "      <td>0b1e1539f2cc45b7b9fa7c272da2e1d7</td>\n",
       "      <td>5</td>\n",
       "      <td>20</td>\n",
       "      <td>10</td>\n",
       "      <td>1</td>\n",
       "      <td>0</td>\n",
       "      <td>0</td>\n",
       "      <td>1</td>\n",
       "      <td>0</td>\n",
       "      <td>1</td>\n",
       "      <td>0</td>\n",
       "    </tr>\n",
       "    <tr>\n",
       "      <th>5</th>\n",
       "      <td>2298d6c36e964ae4a3e7e9706d1fb8c2</td>\n",
       "      <td>3</td>\n",
       "      <td>7</td>\n",
       "      <td>7</td>\n",
       "      <td>1</td>\n",
       "      <td>1</td>\n",
       "      <td>1</td>\n",
       "      <td>1</td>\n",
       "      <td>0</td>\n",
       "      <td>1</td>\n",
       "      <td>0</td>\n",
       "    </tr>\n",
       "    <tr>\n",
       "      <th>6</th>\n",
       "      <td>fafdcd668e3743c1bb461111dcafc2a4</td>\n",
       "      <td>2</td>\n",
       "      <td>10</td>\n",
       "      <td>10</td>\n",
       "      <td>1</td>\n",
       "      <td>1</td>\n",
       "      <td>1</td>\n",
       "      <td>1</td>\n",
       "      <td>0</td>\n",
       "      <td>1</td>\n",
       "      <td>0</td>\n",
       "    </tr>\n",
       "    <tr>\n",
       "      <th>7</th>\n",
       "      <td>5a8bc65990b245e5a138643cd4eb9837</td>\n",
       "      <td>0</td>\n",
       "      <td>0</td>\n",
       "      <td>3</td>\n",
       "      <td>1</td>\n",
       "      <td>1</td>\n",
       "      <td>1</td>\n",
       "      <td>0</td>\n",
       "      <td>0</td>\n",
       "      <td>0</td>\n",
       "      <td>1</td>\n",
       "    </tr>\n",
       "    <tr>\n",
       "      <th>8</th>\n",
       "      <td>f19421c1d4aa40978ebb69ca19b0e20d</td>\n",
       "      <td>5</td>\n",
       "      <td>5</td>\n",
       "      <td>5</td>\n",
       "      <td>1</td>\n",
       "      <td>1</td>\n",
       "      <td>1</td>\n",
       "      <td>1</td>\n",
       "      <td>1</td>\n",
       "      <td>0</td>\n",
       "      <td>0</td>\n",
       "    </tr>\n",
       "    <tr>\n",
       "      <th>9</th>\n",
       "      <td>2906b810c7d4411798c6938adc9daaa5</td>\n",
       "      <td>2</td>\n",
       "      <td>10</td>\n",
       "      <td>7</td>\n",
       "      <td>1</td>\n",
       "      <td>1</td>\n",
       "      <td>0</td>\n",
       "      <td>1</td>\n",
       "      <td>0</td>\n",
       "      <td>1</td>\n",
       "      <td>0</td>\n",
       "    </tr>\n",
       "  </tbody>\n",
       "</table>\n",
       "</div>"
      ],
      "text/plain": [
       "                           offer_id  reward  min_spend  days_open  email  \\\n",
       "0  ae264e3637204a6fb9bb56bc8210ddfd      10         10          7      1   \n",
       "1  4d5c57ea9a6940dd891ad53e9dbe8da0      10         10          5      1   \n",
       "2  3f207df678b143eea3cee63160fa8bed       0          0          4      1   \n",
       "3  9b98b8c7a33c4b65b9aebfe6a799e6d9       5          5          7      1   \n",
       "4  0b1e1539f2cc45b7b9fa7c272da2e1d7       5         20         10      1   \n",
       "5  2298d6c36e964ae4a3e7e9706d1fb8c2       3          7          7      1   \n",
       "6  fafdcd668e3743c1bb461111dcafc2a4       2         10         10      1   \n",
       "7  5a8bc65990b245e5a138643cd4eb9837       0          0          3      1   \n",
       "8  f19421c1d4aa40978ebb69ca19b0e20d       5          5          5      1   \n",
       "9  2906b810c7d4411798c6938adc9daaa5       2         10          7      1   \n",
       "\n",
       "   mobile  social  web  bogo  discount  informational  \n",
       "0       1       1    0     1         0              0  \n",
       "1       1       1    1     1         0              0  \n",
       "2       1       0    1     0         0              1  \n",
       "3       1       0    1     1         0              0  \n",
       "4       0       0    1     0         1              0  \n",
       "5       1       1    1     0         1              0  \n",
       "6       1       1    1     0         1              0  \n",
       "7       1       1    0     0         0              1  \n",
       "8       1       1    1     1         0              0  \n",
       "9       1       0    1     0         1              0  "
      ]
     },
     "execution_count": 28,
     "metadata": {},
     "output_type": "execute_result"
    }
   ],
   "source": [
    "# call clean_portfolio function to clean the portfolio dataset\n",
    "portfolio_clean = clean_portfolio()\n",
    "portfolio_clean"
   ]
  },
  {
   "cell_type": "markdown",
   "id": "317de3ca",
   "metadata": {},
   "source": [
    "#### profile dataframe\n",
    "- rename \"id\" column to \"customer_id\"\n",
    "- remove the 2175 rows where \"gender\" and \"income\" have missing values and \"age\" equals 118\n",
    "- one-hot encode 'gender' column\n",
    "- convert \"became_member_on\" to datetime and label \"membership_start\"\n",
    "- create \"membership_year\" from \"membership_start\"\n",
    "- reorder columns"
   ]
  },
  {
   "cell_type": "code",
   "execution_count": 29,
   "id": "f57e5eaa",
   "metadata": {},
   "outputs": [
    {
     "data": {
      "text/html": [
       "<div>\n",
       "<style scoped>\n",
       "    .dataframe tbody tr th:only-of-type {\n",
       "        vertical-align: middle;\n",
       "    }\n",
       "\n",
       "    .dataframe tbody tr th {\n",
       "        vertical-align: top;\n",
       "    }\n",
       "\n",
       "    .dataframe thead th {\n",
       "        text-align: right;\n",
       "    }\n",
       "</style>\n",
       "<table border=\"1\" class=\"dataframe\">\n",
       "  <thead>\n",
       "    <tr style=\"text-align: right;\">\n",
       "      <th></th>\n",
       "      <th>customer_id</th>\n",
       "      <th>age</th>\n",
       "      <th>income</th>\n",
       "      <th>female</th>\n",
       "      <th>male</th>\n",
       "      <th>membership_start</th>\n",
       "      <th>membership_year</th>\n",
       "    </tr>\n",
       "  </thead>\n",
       "  <tbody>\n",
       "    <tr>\n",
       "      <th>1</th>\n",
       "      <td>0610b486422d4921ae7d2bf64640c50b</td>\n",
       "      <td>55</td>\n",
       "      <td>112000.0</td>\n",
       "      <td>1</td>\n",
       "      <td>0</td>\n",
       "      <td>2017-07-15</td>\n",
       "      <td>2017</td>\n",
       "    </tr>\n",
       "    <tr>\n",
       "      <th>3</th>\n",
       "      <td>78afa995795e4d85b5d9ceeca43f5fef</td>\n",
       "      <td>75</td>\n",
       "      <td>100000.0</td>\n",
       "      <td>1</td>\n",
       "      <td>0</td>\n",
       "      <td>2017-05-09</td>\n",
       "      <td>2017</td>\n",
       "    </tr>\n",
       "    <tr>\n",
       "      <th>5</th>\n",
       "      <td>e2127556f4f64592b11af22de27a7932</td>\n",
       "      <td>68</td>\n",
       "      <td>70000.0</td>\n",
       "      <td>0</td>\n",
       "      <td>1</td>\n",
       "      <td>2018-04-26</td>\n",
       "      <td>2018</td>\n",
       "    </tr>\n",
       "    <tr>\n",
       "      <th>8</th>\n",
       "      <td>389bc3fa690240e798340f5a15918d5c</td>\n",
       "      <td>65</td>\n",
       "      <td>53000.0</td>\n",
       "      <td>0</td>\n",
       "      <td>1</td>\n",
       "      <td>2018-02-09</td>\n",
       "      <td>2018</td>\n",
       "    </tr>\n",
       "    <tr>\n",
       "      <th>12</th>\n",
       "      <td>2eeac8d8feae4a8cad5a6af0499a211d</td>\n",
       "      <td>58</td>\n",
       "      <td>51000.0</td>\n",
       "      <td>0</td>\n",
       "      <td>1</td>\n",
       "      <td>2017-11-11</td>\n",
       "      <td>2017</td>\n",
       "    </tr>\n",
       "  </tbody>\n",
       "</table>\n",
       "</div>"
      ],
      "text/plain": [
       "                         customer_id  age    income  female  male  \\\n",
       "1   0610b486422d4921ae7d2bf64640c50b   55  112000.0       1     0   \n",
       "3   78afa995795e4d85b5d9ceeca43f5fef   75  100000.0       1     0   \n",
       "5   e2127556f4f64592b11af22de27a7932   68   70000.0       0     1   \n",
       "8   389bc3fa690240e798340f5a15918d5c   65   53000.0       0     1   \n",
       "12  2eeac8d8feae4a8cad5a6af0499a211d   58   51000.0       0     1   \n",
       "\n",
       "   membership_start  membership_year  \n",
       "1        2017-07-15             2017  \n",
       "3        2017-05-09             2017  \n",
       "5        2018-04-26             2018  \n",
       "8        2018-02-09             2018  \n",
       "12       2017-11-11             2017  "
      ]
     },
     "execution_count": 29,
     "metadata": {},
     "output_type": "execute_result"
    }
   ],
   "source": [
    "# call clean_profile to clean profile data\n",
    "profile_clean = clean_profile()\n",
    "profile_clean.head()"
   ]
  },
  {
   "cell_type": "markdown",
   "id": "728cdb36",
   "metadata": {},
   "source": [
    "#### transcript dataframe\n",
    "- rename 'person' column to 'customer_id'\n",
    "- one-hot encode 'event' column\n",
    "- split transcript dataframe into transaction and offers dataframes\n",
    "- extract 'offer_id' from 'value' column\n",
    "- extract 'transaction' from 'value' column\n",
    "- drop unneeded columns"
   ]
  },
  {
   "cell_type": "code",
   "execution_count": 30,
   "id": "a8eeffae",
   "metadata": {},
   "outputs": [],
   "source": [
    "# call clean_transcript to clean transcript data\n",
    "offers, transactions = clean_transcript()"
   ]
  },
  {
   "cell_type": "code",
   "execution_count": 31,
   "id": "37babbc4",
   "metadata": {},
   "outputs": [
    {
     "data": {
      "text/html": [
       "<div>\n",
       "<style scoped>\n",
       "    .dataframe tbody tr th:only-of-type {\n",
       "        vertical-align: middle;\n",
       "    }\n",
       "\n",
       "    .dataframe tbody tr th {\n",
       "        vertical-align: top;\n",
       "    }\n",
       "\n",
       "    .dataframe thead th {\n",
       "        text-align: right;\n",
       "    }\n",
       "</style>\n",
       "<table border=\"1\" class=\"dataframe\">\n",
       "  <thead>\n",
       "    <tr style=\"text-align: right;\">\n",
       "      <th></th>\n",
       "      <th>offer_id</th>\n",
       "      <th>customer_id</th>\n",
       "      <th>time</th>\n",
       "      <th>offer_completed</th>\n",
       "      <th>offer_received</th>\n",
       "      <th>offer_viewed</th>\n",
       "    </tr>\n",
       "  </thead>\n",
       "  <tbody>\n",
       "    <tr>\n",
       "      <th>0</th>\n",
       "      <td>9b98b8c7a33c4b65b9aebfe6a799e6d9</td>\n",
       "      <td>78afa995795e4d85b5d9ceeca43f5fef</td>\n",
       "      <td>0</td>\n",
       "      <td>0</td>\n",
       "      <td>1</td>\n",
       "      <td>0</td>\n",
       "    </tr>\n",
       "    <tr>\n",
       "      <th>1</th>\n",
       "      <td>0b1e1539f2cc45b7b9fa7c272da2e1d7</td>\n",
       "      <td>a03223e636434f42ac4c3df47e8bac43</td>\n",
       "      <td>0</td>\n",
       "      <td>0</td>\n",
       "      <td>1</td>\n",
       "      <td>0</td>\n",
       "    </tr>\n",
       "  </tbody>\n",
       "</table>\n",
       "</div>"
      ],
      "text/plain": [
       "                           offer_id                       customer_id  time  \\\n",
       "0  9b98b8c7a33c4b65b9aebfe6a799e6d9  78afa995795e4d85b5d9ceeca43f5fef     0   \n",
       "1  0b1e1539f2cc45b7b9fa7c272da2e1d7  a03223e636434f42ac4c3df47e8bac43     0   \n",
       "\n",
       "   offer_completed  offer_received  offer_viewed  \n",
       "0                0               1             0  \n",
       "1                0               1             0  "
      ]
     },
     "execution_count": 31,
     "metadata": {},
     "output_type": "execute_result"
    }
   ],
   "source": [
    "offers.head(2)"
   ]
  },
  {
   "cell_type": "code",
   "execution_count": 32,
   "id": "53bf7b74",
   "metadata": {},
   "outputs": [
    {
     "data": {
      "text/html": [
       "<div>\n",
       "<style scoped>\n",
       "    .dataframe tbody tr th:only-of-type {\n",
       "        vertical-align: middle;\n",
       "    }\n",
       "\n",
       "    .dataframe tbody tr th {\n",
       "        vertical-align: top;\n",
       "    }\n",
       "\n",
       "    .dataframe thead th {\n",
       "        text-align: right;\n",
       "    }\n",
       "</style>\n",
       "<table border=\"1\" class=\"dataframe\">\n",
       "  <thead>\n",
       "    <tr style=\"text-align: right;\">\n",
       "      <th></th>\n",
       "      <th>customer_id</th>\n",
       "      <th>time</th>\n",
       "      <th>amount</th>\n",
       "    </tr>\n",
       "  </thead>\n",
       "  <tbody>\n",
       "    <tr>\n",
       "      <th>12654</th>\n",
       "      <td>02c083884c7d45b39cc68e1314fec56c</td>\n",
       "      <td>0</td>\n",
       "      <td>0.83</td>\n",
       "    </tr>\n",
       "    <tr>\n",
       "      <th>12657</th>\n",
       "      <td>9fa9ae8f57894cc9a3b8a9bbe0fc1b2f</td>\n",
       "      <td>0</td>\n",
       "      <td>34.56</td>\n",
       "    </tr>\n",
       "  </tbody>\n",
       "</table>\n",
       "</div>"
      ],
      "text/plain": [
       "                            customer_id  time  amount\n",
       "12654  02c083884c7d45b39cc68e1314fec56c     0    0.83\n",
       "12657  9fa9ae8f57894cc9a3b8a9bbe0fc1b2f     0   34.56"
      ]
     },
     "execution_count": 32,
     "metadata": {},
     "output_type": "execute_result"
    }
   ],
   "source": [
    "transactions.head(2)"
   ]
  },
  {
   "cell_type": "code",
   "execution_count": 33,
   "id": "49251387",
   "metadata": {},
   "outputs": [],
   "source": [
    "# call merge_data to merge cleaned data sets and write out offers and transactions csv files \n",
    "merge_data(portfolio_clean, profile_clean, offers, transactions)"
   ]
  },
  {
   "cell_type": "code",
   "execution_count": 34,
   "id": "bb07aaac",
   "metadata": {},
   "outputs": [
    {
     "data": {
      "text/html": [
       "<div>\n",
       "<style scoped>\n",
       "    .dataframe tbody tr th:only-of-type {\n",
       "        vertical-align: middle;\n",
       "    }\n",
       "\n",
       "    .dataframe tbody tr th {\n",
       "        vertical-align: top;\n",
       "    }\n",
       "\n",
       "    .dataframe thead th {\n",
       "        text-align: right;\n",
       "    }\n",
       "</style>\n",
       "<table border=\"1\" class=\"dataframe\">\n",
       "  <thead>\n",
       "    <tr style=\"text-align: right;\">\n",
       "      <th></th>\n",
       "      <th>offer_id</th>\n",
       "      <th>customer_id</th>\n",
       "      <th>time</th>\n",
       "      <th>offer_completed</th>\n",
       "      <th>offer_received</th>\n",
       "      <th>offer_viewed</th>\n",
       "      <th>reward</th>\n",
       "      <th>min_spend</th>\n",
       "      <th>days_open</th>\n",
       "      <th>email</th>\n",
       "      <th>...</th>\n",
       "      <th>web</th>\n",
       "      <th>bogo</th>\n",
       "      <th>discount</th>\n",
       "      <th>informational</th>\n",
       "      <th>age</th>\n",
       "      <th>income</th>\n",
       "      <th>female</th>\n",
       "      <th>male</th>\n",
       "      <th>membership_start</th>\n",
       "      <th>membership_year</th>\n",
       "    </tr>\n",
       "  </thead>\n",
       "  <tbody>\n",
       "    <tr>\n",
       "      <th>0</th>\n",
       "      <td>9b98b8c7a33c4b65b9aebfe6a799e6d9</td>\n",
       "      <td>78afa995795e4d85b5d9ceeca43f5fef</td>\n",
       "      <td>0</td>\n",
       "      <td>0</td>\n",
       "      <td>1</td>\n",
       "      <td>0</td>\n",
       "      <td>5</td>\n",
       "      <td>5</td>\n",
       "      <td>7</td>\n",
       "      <td>1</td>\n",
       "      <td>...</td>\n",
       "      <td>1</td>\n",
       "      <td>1</td>\n",
       "      <td>0</td>\n",
       "      <td>0</td>\n",
       "      <td>75.0</td>\n",
       "      <td>100000.0</td>\n",
       "      <td>1.0</td>\n",
       "      <td>0.0</td>\n",
       "      <td>2017-05-09</td>\n",
       "      <td>2017.0</td>\n",
       "    </tr>\n",
       "    <tr>\n",
       "      <th>1</th>\n",
       "      <td>0b1e1539f2cc45b7b9fa7c272da2e1d7</td>\n",
       "      <td>a03223e636434f42ac4c3df47e8bac43</td>\n",
       "      <td>0</td>\n",
       "      <td>0</td>\n",
       "      <td>1</td>\n",
       "      <td>0</td>\n",
       "      <td>5</td>\n",
       "      <td>20</td>\n",
       "      <td>10</td>\n",
       "      <td>1</td>\n",
       "      <td>...</td>\n",
       "      <td>1</td>\n",
       "      <td>0</td>\n",
       "      <td>1</td>\n",
       "      <td>0</td>\n",
       "      <td>NaN</td>\n",
       "      <td>NaN</td>\n",
       "      <td>NaN</td>\n",
       "      <td>NaN</td>\n",
       "      <td>NaN</td>\n",
       "      <td>NaN</td>\n",
       "    </tr>\n",
       "  </tbody>\n",
       "</table>\n",
       "<p>2 rows × 22 columns</p>\n",
       "</div>"
      ],
      "text/plain": [
       "                           offer_id                       customer_id  time  \\\n",
       "0  9b98b8c7a33c4b65b9aebfe6a799e6d9  78afa995795e4d85b5d9ceeca43f5fef     0   \n",
       "1  0b1e1539f2cc45b7b9fa7c272da2e1d7  a03223e636434f42ac4c3df47e8bac43     0   \n",
       "\n",
       "   offer_completed  offer_received  offer_viewed  reward  min_spend  \\\n",
       "0                0               1             0       5          5   \n",
       "1                0               1             0       5         20   \n",
       "\n",
       "   days_open  email  ...  web  bogo  discount  informational   age    income  \\\n",
       "0          7      1  ...    1     1         0              0  75.0  100000.0   \n",
       "1         10      1  ...    1     0         1              0   NaN       NaN   \n",
       "\n",
       "   female  male  membership_start  membership_year  \n",
       "0     1.0   0.0        2017-05-09           2017.0  \n",
       "1     NaN   NaN               NaN              NaN  \n",
       "\n",
       "[2 rows x 22 columns]"
      ]
     },
     "execution_count": 34,
     "metadata": {},
     "output_type": "execute_result"
    }
   ],
   "source": [
    "# read in cleaned offers data and display first couple of rows\n",
    "offers_df = pd.read_csv('data/starbucks_offers_data.csv')\n",
    "offers_df.head(2)"
   ]
  },
  {
   "cell_type": "code",
   "execution_count": 35,
   "id": "6c71aa6d",
   "metadata": {},
   "outputs": [
    {
     "data": {
      "text/html": [
       "<div>\n",
       "<style scoped>\n",
       "    .dataframe tbody tr th:only-of-type {\n",
       "        vertical-align: middle;\n",
       "    }\n",
       "\n",
       "    .dataframe tbody tr th {\n",
       "        vertical-align: top;\n",
       "    }\n",
       "\n",
       "    .dataframe thead th {\n",
       "        text-align: right;\n",
       "    }\n",
       "</style>\n",
       "<table border=\"1\" class=\"dataframe\">\n",
       "  <thead>\n",
       "    <tr style=\"text-align: right;\">\n",
       "      <th></th>\n",
       "      <th>customer_id</th>\n",
       "      <th>time</th>\n",
       "      <th>amount</th>\n",
       "      <th>age</th>\n",
       "      <th>income</th>\n",
       "      <th>female</th>\n",
       "      <th>male</th>\n",
       "      <th>membership_start</th>\n",
       "      <th>membership_year</th>\n",
       "    </tr>\n",
       "  </thead>\n",
       "  <tbody>\n",
       "    <tr>\n",
       "      <th>0</th>\n",
       "      <td>02c083884c7d45b39cc68e1314fec56c</td>\n",
       "      <td>0</td>\n",
       "      <td>0.83</td>\n",
       "      <td>20.0</td>\n",
       "      <td>30000.0</td>\n",
       "      <td>1.0</td>\n",
       "      <td>0.0</td>\n",
       "      <td>2016-07-11</td>\n",
       "      <td>2016.0</td>\n",
       "    </tr>\n",
       "    <tr>\n",
       "      <th>1</th>\n",
       "      <td>9fa9ae8f57894cc9a3b8a9bbe0fc1b2f</td>\n",
       "      <td>0</td>\n",
       "      <td>34.56</td>\n",
       "      <td>42.0</td>\n",
       "      <td>96000.0</td>\n",
       "      <td>0.0</td>\n",
       "      <td>1.0</td>\n",
       "      <td>2016-01-17</td>\n",
       "      <td>2016.0</td>\n",
       "    </tr>\n",
       "  </tbody>\n",
       "</table>\n",
       "</div>"
      ],
      "text/plain": [
       "                        customer_id  time  amount   age   income  female  \\\n",
       "0  02c083884c7d45b39cc68e1314fec56c     0    0.83  20.0  30000.0     1.0   \n",
       "1  9fa9ae8f57894cc9a3b8a9bbe0fc1b2f     0   34.56  42.0  96000.0     0.0   \n",
       "\n",
       "   male membership_start  membership_year  \n",
       "0   0.0       2016-07-11           2016.0  \n",
       "1   1.0       2016-01-17           2016.0  "
      ]
     },
     "execution_count": 35,
     "metadata": {},
     "output_type": "execute_result"
    }
   ],
   "source": [
    "# read in cleaned transactions data and display first couple of rows\n",
    "transactions_df = pd.read_csv('data/starbucks_transact_data.csv')\n",
    "transactions_df.head(2)"
   ]
  },
  {
   "cell_type": "markdown",
   "id": "b600d27d",
   "metadata": {},
   "source": [
    "## Data Exploration and Analysis"
   ]
  },
  {
   "cell_type": "markdown",
   "id": "eabf1177",
   "metadata": {},
   "source": [
    "For comparison, it may be useful to have 'age' and 'income' ranges."
   ]
  },
  {
   "cell_type": "code",
   "execution_count": 36,
   "id": "b3d32e04",
   "metadata": {},
   "outputs": [
    {
     "data": {
      "text/plain": [
       "count    148805.000000\n",
       "mean         54.779282\n",
       "std          17.193533\n",
       "min          18.000000\n",
       "25%          43.000000\n",
       "50%          56.000000\n",
       "75%          67.000000\n",
       "max         101.000000\n",
       "Name: age, dtype: float64"
      ]
     },
     "execution_count": 36,
     "metadata": {},
     "output_type": "execute_result"
    }
   ],
   "source": [
    "# 'age' summary stats - offers dataset\n",
    "offers_df['age'].describe().T"
   ]
  },
  {
   "cell_type": "code",
   "execution_count": 37,
   "id": "ed72f2e4",
   "metadata": {},
   "outputs": [
    {
     "data": {
      "text/plain": [
       "count    148805.000000\n",
       "mean      66414.119149\n",
       "std       21496.947967\n",
       "min       30000.000000\n",
       "25%       51000.000000\n",
       "50%       65000.000000\n",
       "75%       81000.000000\n",
       "max      120000.000000\n",
       "Name: income, dtype: float64"
      ]
     },
     "execution_count": 37,
     "metadata": {},
     "output_type": "execute_result"
    }
   ],
   "source": [
    "# 'income' summary stats - offers dataset\n",
    "offers_df['income'].describe().T"
   ]
  },
  {
   "cell_type": "code",
   "execution_count": 38,
   "id": "e26b2cce",
   "metadata": {},
   "outputs": [
    {
     "data": {
      "text/plain": [
       "count    123957.000000\n",
       "mean         52.713965\n",
       "std          17.906667\n",
       "min          18.000000\n",
       "25%          39.000000\n",
       "50%          54.000000\n",
       "75%          65.000000\n",
       "max         101.000000\n",
       "Name: age, dtype: float64"
      ]
     },
     "execution_count": 38,
     "metadata": {},
     "output_type": "execute_result"
    }
   ],
   "source": [
    "# 'age' summary stats - transactions dataset\n",
    "transactions_df['age'].describe().T"
   ]
  },
  {
   "cell_type": "code",
   "execution_count": 39,
   "id": "f5bff1e4",
   "metadata": {},
   "outputs": [
    {
     "data": {
      "text/plain": [
       "count    123957.000000\n",
       "mean      61843.510250\n",
       "std       20661.890394\n",
       "min       30000.000000\n",
       "25%       46000.000000\n",
       "50%       60000.000000\n",
       "75%       74000.000000\n",
       "max      120000.000000\n",
       "Name: income, dtype: float64"
      ]
     },
     "execution_count": 39,
     "metadata": {},
     "output_type": "execute_result"
    }
   ],
   "source": [
    "# 'income' summary stats - transactions dataset\n",
    "transactions_df['income'].describe().T"
   ]
  },
  {
   "cell_type": "code",
   "execution_count": 40,
   "id": "e026b910",
   "metadata": {},
   "outputs": [
    {
     "data": {
      "text/html": [
       "<div>\n",
       "<style scoped>\n",
       "    .dataframe tbody tr th:only-of-type {\n",
       "        vertical-align: middle;\n",
       "    }\n",
       "\n",
       "    .dataframe tbody tr th {\n",
       "        vertical-align: top;\n",
       "    }\n",
       "\n",
       "    .dataframe thead th {\n",
       "        text-align: right;\n",
       "    }\n",
       "</style>\n",
       "<table border=\"1\" class=\"dataframe\">\n",
       "  <thead>\n",
       "    <tr style=\"text-align: right;\">\n",
       "      <th></th>\n",
       "      <th>offer_id</th>\n",
       "      <th>customer_id</th>\n",
       "      <th>time</th>\n",
       "      <th>offer_completed</th>\n",
       "      <th>offer_received</th>\n",
       "      <th>offer_viewed</th>\n",
       "      <th>reward</th>\n",
       "      <th>min_spend</th>\n",
       "      <th>days_open</th>\n",
       "      <th>email</th>\n",
       "      <th>...</th>\n",
       "      <th>female</th>\n",
       "      <th>male</th>\n",
       "      <th>membership_start</th>\n",
       "      <th>membership_year</th>\n",
       "      <th>18-29</th>\n",
       "      <th>30-44</th>\n",
       "      <th>45-59</th>\n",
       "      <th>60-74</th>\n",
       "      <th>75-89</th>\n",
       "      <th>90-101</th>\n",
       "    </tr>\n",
       "  </thead>\n",
       "  <tbody>\n",
       "    <tr>\n",
       "      <th>0</th>\n",
       "      <td>9b98b8c7a33c4b65b9aebfe6a799e6d9</td>\n",
       "      <td>78afa995795e4d85b5d9ceeca43f5fef</td>\n",
       "      <td>0</td>\n",
       "      <td>0</td>\n",
       "      <td>1</td>\n",
       "      <td>0</td>\n",
       "      <td>5</td>\n",
       "      <td>5</td>\n",
       "      <td>7</td>\n",
       "      <td>1</td>\n",
       "      <td>...</td>\n",
       "      <td>1.0</td>\n",
       "      <td>0.0</td>\n",
       "      <td>2017-05-09</td>\n",
       "      <td>2017.0</td>\n",
       "      <td>0</td>\n",
       "      <td>0</td>\n",
       "      <td>0</td>\n",
       "      <td>0</td>\n",
       "      <td>1</td>\n",
       "      <td>0</td>\n",
       "    </tr>\n",
       "    <tr>\n",
       "      <th>1</th>\n",
       "      <td>0b1e1539f2cc45b7b9fa7c272da2e1d7</td>\n",
       "      <td>a03223e636434f42ac4c3df47e8bac43</td>\n",
       "      <td>0</td>\n",
       "      <td>0</td>\n",
       "      <td>1</td>\n",
       "      <td>0</td>\n",
       "      <td>5</td>\n",
       "      <td>20</td>\n",
       "      <td>10</td>\n",
       "      <td>1</td>\n",
       "      <td>...</td>\n",
       "      <td>NaN</td>\n",
       "      <td>NaN</td>\n",
       "      <td>NaN</td>\n",
       "      <td>NaN</td>\n",
       "      <td>0</td>\n",
       "      <td>0</td>\n",
       "      <td>0</td>\n",
       "      <td>0</td>\n",
       "      <td>0</td>\n",
       "      <td>0</td>\n",
       "    </tr>\n",
       "    <tr>\n",
       "      <th>2</th>\n",
       "      <td>2906b810c7d4411798c6938adc9daaa5</td>\n",
       "      <td>e2127556f4f64592b11af22de27a7932</td>\n",
       "      <td>0</td>\n",
       "      <td>0</td>\n",
       "      <td>1</td>\n",
       "      <td>0</td>\n",
       "      <td>2</td>\n",
       "      <td>10</td>\n",
       "      <td>7</td>\n",
       "      <td>1</td>\n",
       "      <td>...</td>\n",
       "      <td>0.0</td>\n",
       "      <td>1.0</td>\n",
       "      <td>2018-04-26</td>\n",
       "      <td>2018.0</td>\n",
       "      <td>0</td>\n",
       "      <td>0</td>\n",
       "      <td>0</td>\n",
       "      <td>1</td>\n",
       "      <td>0</td>\n",
       "      <td>0</td>\n",
       "    </tr>\n",
       "    <tr>\n",
       "      <th>3</th>\n",
       "      <td>fafdcd668e3743c1bb461111dcafc2a4</td>\n",
       "      <td>8ec6ce2a7e7949b1bf142def7d0e0586</td>\n",
       "      <td>0</td>\n",
       "      <td>0</td>\n",
       "      <td>1</td>\n",
       "      <td>0</td>\n",
       "      <td>2</td>\n",
       "      <td>10</td>\n",
       "      <td>10</td>\n",
       "      <td>1</td>\n",
       "      <td>...</td>\n",
       "      <td>NaN</td>\n",
       "      <td>NaN</td>\n",
       "      <td>NaN</td>\n",
       "      <td>NaN</td>\n",
       "      <td>0</td>\n",
       "      <td>0</td>\n",
       "      <td>0</td>\n",
       "      <td>0</td>\n",
       "      <td>0</td>\n",
       "      <td>0</td>\n",
       "    </tr>\n",
       "    <tr>\n",
       "      <th>4</th>\n",
       "      <td>4d5c57ea9a6940dd891ad53e9dbe8da0</td>\n",
       "      <td>68617ca6246f4fbc85e91a2a49552598</td>\n",
       "      <td>0</td>\n",
       "      <td>0</td>\n",
       "      <td>1</td>\n",
       "      <td>0</td>\n",
       "      <td>10</td>\n",
       "      <td>10</td>\n",
       "      <td>5</td>\n",
       "      <td>1</td>\n",
       "      <td>...</td>\n",
       "      <td>NaN</td>\n",
       "      <td>NaN</td>\n",
       "      <td>NaN</td>\n",
       "      <td>NaN</td>\n",
       "      <td>0</td>\n",
       "      <td>0</td>\n",
       "      <td>0</td>\n",
       "      <td>0</td>\n",
       "      <td>0</td>\n",
       "      <td>0</td>\n",
       "    </tr>\n",
       "  </tbody>\n",
       "</table>\n",
       "<p>5 rows × 27 columns</p>\n",
       "</div>"
      ],
      "text/plain": [
       "                           offer_id                       customer_id  time  \\\n",
       "0  9b98b8c7a33c4b65b9aebfe6a799e6d9  78afa995795e4d85b5d9ceeca43f5fef     0   \n",
       "1  0b1e1539f2cc45b7b9fa7c272da2e1d7  a03223e636434f42ac4c3df47e8bac43     0   \n",
       "2  2906b810c7d4411798c6938adc9daaa5  e2127556f4f64592b11af22de27a7932     0   \n",
       "3  fafdcd668e3743c1bb461111dcafc2a4  8ec6ce2a7e7949b1bf142def7d0e0586     0   \n",
       "4  4d5c57ea9a6940dd891ad53e9dbe8da0  68617ca6246f4fbc85e91a2a49552598     0   \n",
       "\n",
       "   offer_completed  offer_received  offer_viewed  reward  min_spend  \\\n",
       "0                0               1             0       5          5   \n",
       "1                0               1             0       5         20   \n",
       "2                0               1             0       2         10   \n",
       "3                0               1             0       2         10   \n",
       "4                0               1             0      10         10   \n",
       "\n",
       "   days_open  email  ...  female  male  membership_start  membership_year  \\\n",
       "0          7      1  ...     1.0   0.0        2017-05-09           2017.0   \n",
       "1         10      1  ...     NaN   NaN               NaN              NaN   \n",
       "2          7      1  ...     0.0   1.0        2018-04-26           2018.0   \n",
       "3         10      1  ...     NaN   NaN               NaN              NaN   \n",
       "4          5      1  ...     NaN   NaN               NaN              NaN   \n",
       "\n",
       "   18-29  30-44  45-59  60-74  75-89 90-101  \n",
       "0      0      0      0      0      1      0  \n",
       "1      0      0      0      0      0      0  \n",
       "2      0      0      0      1      0      0  \n",
       "3      0      0      0      0      0      0  \n",
       "4      0      0      0      0      0      0  \n",
       "\n",
       "[5 rows x 27 columns]"
      ]
     },
     "execution_count": 40,
     "metadata": {},
     "output_type": "execute_result"
    }
   ],
   "source": [
    "# create age bins in offers dataset\n",
    "offers_df = age_bins(offers_df)\n",
    "offers_df.head()"
   ]
  },
  {
   "cell_type": "code",
   "execution_count": 41,
   "id": "800bfc4d",
   "metadata": {},
   "outputs": [
    {
     "data": {
      "text/html": [
       "<div>\n",
       "<style scoped>\n",
       "    .dataframe tbody tr th:only-of-type {\n",
       "        vertical-align: middle;\n",
       "    }\n",
       "\n",
       "    .dataframe tbody tr th {\n",
       "        vertical-align: top;\n",
       "    }\n",
       "\n",
       "    .dataframe thead th {\n",
       "        text-align: right;\n",
       "    }\n",
       "</style>\n",
       "<table border=\"1\" class=\"dataframe\">\n",
       "  <thead>\n",
       "    <tr style=\"text-align: right;\">\n",
       "      <th></th>\n",
       "      <th>customer_id</th>\n",
       "      <th>time</th>\n",
       "      <th>amount</th>\n",
       "      <th>income</th>\n",
       "      <th>female</th>\n",
       "      <th>male</th>\n",
       "      <th>membership_start</th>\n",
       "      <th>membership_year</th>\n",
       "      <th>18-29</th>\n",
       "      <th>30-44</th>\n",
       "      <th>45-59</th>\n",
       "      <th>60-74</th>\n",
       "      <th>75-89</th>\n",
       "      <th>90-101</th>\n",
       "    </tr>\n",
       "  </thead>\n",
       "  <tbody>\n",
       "    <tr>\n",
       "      <th>0</th>\n",
       "      <td>02c083884c7d45b39cc68e1314fec56c</td>\n",
       "      <td>0</td>\n",
       "      <td>0.83</td>\n",
       "      <td>30000.0</td>\n",
       "      <td>1.0</td>\n",
       "      <td>0.0</td>\n",
       "      <td>2016-07-11</td>\n",
       "      <td>2016.0</td>\n",
       "      <td>1</td>\n",
       "      <td>0</td>\n",
       "      <td>0</td>\n",
       "      <td>0</td>\n",
       "      <td>0</td>\n",
       "      <td>0</td>\n",
       "    </tr>\n",
       "    <tr>\n",
       "      <th>1</th>\n",
       "      <td>9fa9ae8f57894cc9a3b8a9bbe0fc1b2f</td>\n",
       "      <td>0</td>\n",
       "      <td>34.56</td>\n",
       "      <td>96000.0</td>\n",
       "      <td>0.0</td>\n",
       "      <td>1.0</td>\n",
       "      <td>2016-01-17</td>\n",
       "      <td>2016.0</td>\n",
       "      <td>0</td>\n",
       "      <td>1</td>\n",
       "      <td>0</td>\n",
       "      <td>0</td>\n",
       "      <td>0</td>\n",
       "      <td>0</td>\n",
       "    </tr>\n",
       "    <tr>\n",
       "      <th>2</th>\n",
       "      <td>54890f68699049c2a04d415abc25e717</td>\n",
       "      <td>0</td>\n",
       "      <td>13.23</td>\n",
       "      <td>56000.0</td>\n",
       "      <td>0.0</td>\n",
       "      <td>1.0</td>\n",
       "      <td>2017-12-28</td>\n",
       "      <td>2017.0</td>\n",
       "      <td>0</td>\n",
       "      <td>1</td>\n",
       "      <td>0</td>\n",
       "      <td>0</td>\n",
       "      <td>0</td>\n",
       "      <td>0</td>\n",
       "    </tr>\n",
       "    <tr>\n",
       "      <th>3</th>\n",
       "      <td>b2f1cd155b864803ad8334cdf13c4bd2</td>\n",
       "      <td>0</td>\n",
       "      <td>19.51</td>\n",
       "      <td>94000.0</td>\n",
       "      <td>1.0</td>\n",
       "      <td>0.0</td>\n",
       "      <td>2017-10-16</td>\n",
       "      <td>2017.0</td>\n",
       "      <td>0</td>\n",
       "      <td>0</td>\n",
       "      <td>1</td>\n",
       "      <td>0</td>\n",
       "      <td>0</td>\n",
       "      <td>0</td>\n",
       "    </tr>\n",
       "    <tr>\n",
       "      <th>4</th>\n",
       "      <td>fe97aa22dd3e48c8b143116a8403dd52</td>\n",
       "      <td>0</td>\n",
       "      <td>18.97</td>\n",
       "      <td>67000.0</td>\n",
       "      <td>1.0</td>\n",
       "      <td>0.0</td>\n",
       "      <td>2017-12-17</td>\n",
       "      <td>2017.0</td>\n",
       "      <td>0</td>\n",
       "      <td>1</td>\n",
       "      <td>0</td>\n",
       "      <td>0</td>\n",
       "      <td>0</td>\n",
       "      <td>0</td>\n",
       "    </tr>\n",
       "  </tbody>\n",
       "</table>\n",
       "</div>"
      ],
      "text/plain": [
       "                        customer_id  time  amount   income  female  male  \\\n",
       "0  02c083884c7d45b39cc68e1314fec56c     0    0.83  30000.0     1.0   0.0   \n",
       "1  9fa9ae8f57894cc9a3b8a9bbe0fc1b2f     0   34.56  96000.0     0.0   1.0   \n",
       "2  54890f68699049c2a04d415abc25e717     0   13.23  56000.0     0.0   1.0   \n",
       "3  b2f1cd155b864803ad8334cdf13c4bd2     0   19.51  94000.0     1.0   0.0   \n",
       "4  fe97aa22dd3e48c8b143116a8403dd52     0   18.97  67000.0     1.0   0.0   \n",
       "\n",
       "  membership_start  membership_year  18-29  30-44  45-59  60-74  75-89  90-101  \n",
       "0       2016-07-11           2016.0      1      0      0      0      0       0  \n",
       "1       2016-01-17           2016.0      0      1      0      0      0       0  \n",
       "2       2017-12-28           2017.0      0      1      0      0      0       0  \n",
       "3       2017-10-16           2017.0      0      0      1      0      0       0  \n",
       "4       2017-12-17           2017.0      0      1      0      0      0       0  "
      ]
     },
     "execution_count": 41,
     "metadata": {},
     "output_type": "execute_result"
    }
   ],
   "source": [
    "# create age bins in transactions dataset\n",
    "transactions_df = age_bins(transactions_df)\n",
    "transactions_df.head()"
   ]
  },
  {
   "cell_type": "code",
   "execution_count": 42,
   "id": "beb8a680",
   "metadata": {},
   "outputs": [
    {
     "data": {
      "text/html": [
       "<div>\n",
       "<style scoped>\n",
       "    .dataframe tbody tr th:only-of-type {\n",
       "        vertical-align: middle;\n",
       "    }\n",
       "\n",
       "    .dataframe tbody tr th {\n",
       "        vertical-align: top;\n",
       "    }\n",
       "\n",
       "    .dataframe thead th {\n",
       "        text-align: right;\n",
       "    }\n",
       "</style>\n",
       "<table border=\"1\" class=\"dataframe\">\n",
       "  <thead>\n",
       "    <tr style=\"text-align: right;\">\n",
       "      <th></th>\n",
       "      <th>offer_id</th>\n",
       "      <th>customer_id</th>\n",
       "      <th>time</th>\n",
       "      <th>offer_completed</th>\n",
       "      <th>offer_received</th>\n",
       "      <th>offer_viewed</th>\n",
       "      <th>reward</th>\n",
       "      <th>min_spend</th>\n",
       "      <th>days_open</th>\n",
       "      <th>email</th>\n",
       "      <th>...</th>\n",
       "      <th>30-44</th>\n",
       "      <th>45-59</th>\n",
       "      <th>60-74</th>\n",
       "      <th>75-89</th>\n",
       "      <th>90-101</th>\n",
       "      <th>30k-49k</th>\n",
       "      <th>50k-69k</th>\n",
       "      <th>70k-89k</th>\n",
       "      <th>90k-109k</th>\n",
       "      <th>110k-120k</th>\n",
       "    </tr>\n",
       "  </thead>\n",
       "  <tbody>\n",
       "    <tr>\n",
       "      <th>0</th>\n",
       "      <td>9b98b8c7a33c4b65b9aebfe6a799e6d9</td>\n",
       "      <td>78afa995795e4d85b5d9ceeca43f5fef</td>\n",
       "      <td>0</td>\n",
       "      <td>0</td>\n",
       "      <td>1</td>\n",
       "      <td>0</td>\n",
       "      <td>5</td>\n",
       "      <td>5</td>\n",
       "      <td>7</td>\n",
       "      <td>1</td>\n",
       "      <td>...</td>\n",
       "      <td>0</td>\n",
       "      <td>0</td>\n",
       "      <td>0</td>\n",
       "      <td>1</td>\n",
       "      <td>0</td>\n",
       "      <td>0</td>\n",
       "      <td>0</td>\n",
       "      <td>0</td>\n",
       "      <td>1</td>\n",
       "      <td>0</td>\n",
       "    </tr>\n",
       "    <tr>\n",
       "      <th>1</th>\n",
       "      <td>0b1e1539f2cc45b7b9fa7c272da2e1d7</td>\n",
       "      <td>a03223e636434f42ac4c3df47e8bac43</td>\n",
       "      <td>0</td>\n",
       "      <td>0</td>\n",
       "      <td>1</td>\n",
       "      <td>0</td>\n",
       "      <td>5</td>\n",
       "      <td>20</td>\n",
       "      <td>10</td>\n",
       "      <td>1</td>\n",
       "      <td>...</td>\n",
       "      <td>0</td>\n",
       "      <td>0</td>\n",
       "      <td>0</td>\n",
       "      <td>0</td>\n",
       "      <td>0</td>\n",
       "      <td>0</td>\n",
       "      <td>0</td>\n",
       "      <td>0</td>\n",
       "      <td>0</td>\n",
       "      <td>0</td>\n",
       "    </tr>\n",
       "    <tr>\n",
       "      <th>2</th>\n",
       "      <td>2906b810c7d4411798c6938adc9daaa5</td>\n",
       "      <td>e2127556f4f64592b11af22de27a7932</td>\n",
       "      <td>0</td>\n",
       "      <td>0</td>\n",
       "      <td>1</td>\n",
       "      <td>0</td>\n",
       "      <td>2</td>\n",
       "      <td>10</td>\n",
       "      <td>7</td>\n",
       "      <td>1</td>\n",
       "      <td>...</td>\n",
       "      <td>0</td>\n",
       "      <td>0</td>\n",
       "      <td>1</td>\n",
       "      <td>0</td>\n",
       "      <td>0</td>\n",
       "      <td>0</td>\n",
       "      <td>0</td>\n",
       "      <td>1</td>\n",
       "      <td>0</td>\n",
       "      <td>0</td>\n",
       "    </tr>\n",
       "    <tr>\n",
       "      <th>3</th>\n",
       "      <td>fafdcd668e3743c1bb461111dcafc2a4</td>\n",
       "      <td>8ec6ce2a7e7949b1bf142def7d0e0586</td>\n",
       "      <td>0</td>\n",
       "      <td>0</td>\n",
       "      <td>1</td>\n",
       "      <td>0</td>\n",
       "      <td>2</td>\n",
       "      <td>10</td>\n",
       "      <td>10</td>\n",
       "      <td>1</td>\n",
       "      <td>...</td>\n",
       "      <td>0</td>\n",
       "      <td>0</td>\n",
       "      <td>0</td>\n",
       "      <td>0</td>\n",
       "      <td>0</td>\n",
       "      <td>0</td>\n",
       "      <td>0</td>\n",
       "      <td>0</td>\n",
       "      <td>0</td>\n",
       "      <td>0</td>\n",
       "    </tr>\n",
       "    <tr>\n",
       "      <th>4</th>\n",
       "      <td>4d5c57ea9a6940dd891ad53e9dbe8da0</td>\n",
       "      <td>68617ca6246f4fbc85e91a2a49552598</td>\n",
       "      <td>0</td>\n",
       "      <td>0</td>\n",
       "      <td>1</td>\n",
       "      <td>0</td>\n",
       "      <td>10</td>\n",
       "      <td>10</td>\n",
       "      <td>5</td>\n",
       "      <td>1</td>\n",
       "      <td>...</td>\n",
       "      <td>0</td>\n",
       "      <td>0</td>\n",
       "      <td>0</td>\n",
       "      <td>0</td>\n",
       "      <td>0</td>\n",
       "      <td>0</td>\n",
       "      <td>0</td>\n",
       "      <td>0</td>\n",
       "      <td>0</td>\n",
       "      <td>0</td>\n",
       "    </tr>\n",
       "  </tbody>\n",
       "</table>\n",
       "<p>5 rows × 31 columns</p>\n",
       "</div>"
      ],
      "text/plain": [
       "                           offer_id                       customer_id  time  \\\n",
       "0  9b98b8c7a33c4b65b9aebfe6a799e6d9  78afa995795e4d85b5d9ceeca43f5fef     0   \n",
       "1  0b1e1539f2cc45b7b9fa7c272da2e1d7  a03223e636434f42ac4c3df47e8bac43     0   \n",
       "2  2906b810c7d4411798c6938adc9daaa5  e2127556f4f64592b11af22de27a7932     0   \n",
       "3  fafdcd668e3743c1bb461111dcafc2a4  8ec6ce2a7e7949b1bf142def7d0e0586     0   \n",
       "4  4d5c57ea9a6940dd891ad53e9dbe8da0  68617ca6246f4fbc85e91a2a49552598     0   \n",
       "\n",
       "   offer_completed  offer_received  offer_viewed  reward  min_spend  \\\n",
       "0                0               1             0       5          5   \n",
       "1                0               1             0       5         20   \n",
       "2                0               1             0       2         10   \n",
       "3                0               1             0       2         10   \n",
       "4                0               1             0      10         10   \n",
       "\n",
       "   days_open  email  ...  30-44  45-59  60-74  75-89  90-101  30k-49k  \\\n",
       "0          7      1  ...      0      0      0      1       0        0   \n",
       "1         10      1  ...      0      0      0      0       0        0   \n",
       "2          7      1  ...      0      0      1      0       0        0   \n",
       "3         10      1  ...      0      0      0      0       0        0   \n",
       "4          5      1  ...      0      0      0      0       0        0   \n",
       "\n",
       "   50k-69k  70k-89k 90k-109k  110k-120k  \n",
       "0        0        0        1          0  \n",
       "1        0        0        0          0  \n",
       "2        0        1        0          0  \n",
       "3        0        0        0          0  \n",
       "4        0        0        0          0  \n",
       "\n",
       "[5 rows x 31 columns]"
      ]
     },
     "execution_count": 42,
     "metadata": {},
     "output_type": "execute_result"
    }
   ],
   "source": [
    "# create income bins in offers dataset\n",
    "offers_df = income_bins(offers_df)\n",
    "offers_df.head()"
   ]
  },
  {
   "cell_type": "code",
   "execution_count": 43,
   "id": "21d7257d",
   "metadata": {},
   "outputs": [
    {
     "data": {
      "text/html": [
       "<div>\n",
       "<style scoped>\n",
       "    .dataframe tbody tr th:only-of-type {\n",
       "        vertical-align: middle;\n",
       "    }\n",
       "\n",
       "    .dataframe tbody tr th {\n",
       "        vertical-align: top;\n",
       "    }\n",
       "\n",
       "    .dataframe thead th {\n",
       "        text-align: right;\n",
       "    }\n",
       "</style>\n",
       "<table border=\"1\" class=\"dataframe\">\n",
       "  <thead>\n",
       "    <tr style=\"text-align: right;\">\n",
       "      <th></th>\n",
       "      <th>customer_id</th>\n",
       "      <th>time</th>\n",
       "      <th>amount</th>\n",
       "      <th>female</th>\n",
       "      <th>male</th>\n",
       "      <th>membership_start</th>\n",
       "      <th>membership_year</th>\n",
       "      <th>18-29</th>\n",
       "      <th>30-44</th>\n",
       "      <th>45-59</th>\n",
       "      <th>60-74</th>\n",
       "      <th>75-89</th>\n",
       "      <th>90-101</th>\n",
       "      <th>30k-49k</th>\n",
       "      <th>50k-69k</th>\n",
       "      <th>70k-89k</th>\n",
       "      <th>90k-109k</th>\n",
       "      <th>110k-120k</th>\n",
       "    </tr>\n",
       "  </thead>\n",
       "  <tbody>\n",
       "    <tr>\n",
       "      <th>0</th>\n",
       "      <td>02c083884c7d45b39cc68e1314fec56c</td>\n",
       "      <td>0</td>\n",
       "      <td>0.83</td>\n",
       "      <td>1.0</td>\n",
       "      <td>0.0</td>\n",
       "      <td>2016-07-11</td>\n",
       "      <td>2016.0</td>\n",
       "      <td>1</td>\n",
       "      <td>0</td>\n",
       "      <td>0</td>\n",
       "      <td>0</td>\n",
       "      <td>0</td>\n",
       "      <td>0</td>\n",
       "      <td>0</td>\n",
       "      <td>0</td>\n",
       "      <td>0</td>\n",
       "      <td>0</td>\n",
       "      <td>0</td>\n",
       "    </tr>\n",
       "    <tr>\n",
       "      <th>1</th>\n",
       "      <td>9fa9ae8f57894cc9a3b8a9bbe0fc1b2f</td>\n",
       "      <td>0</td>\n",
       "      <td>34.56</td>\n",
       "      <td>0.0</td>\n",
       "      <td>1.0</td>\n",
       "      <td>2016-01-17</td>\n",
       "      <td>2016.0</td>\n",
       "      <td>0</td>\n",
       "      <td>1</td>\n",
       "      <td>0</td>\n",
       "      <td>0</td>\n",
       "      <td>0</td>\n",
       "      <td>0</td>\n",
       "      <td>0</td>\n",
       "      <td>0</td>\n",
       "      <td>0</td>\n",
       "      <td>1</td>\n",
       "      <td>0</td>\n",
       "    </tr>\n",
       "    <tr>\n",
       "      <th>2</th>\n",
       "      <td>54890f68699049c2a04d415abc25e717</td>\n",
       "      <td>0</td>\n",
       "      <td>13.23</td>\n",
       "      <td>0.0</td>\n",
       "      <td>1.0</td>\n",
       "      <td>2017-12-28</td>\n",
       "      <td>2017.0</td>\n",
       "      <td>0</td>\n",
       "      <td>1</td>\n",
       "      <td>0</td>\n",
       "      <td>0</td>\n",
       "      <td>0</td>\n",
       "      <td>0</td>\n",
       "      <td>0</td>\n",
       "      <td>1</td>\n",
       "      <td>0</td>\n",
       "      <td>0</td>\n",
       "      <td>0</td>\n",
       "    </tr>\n",
       "    <tr>\n",
       "      <th>3</th>\n",
       "      <td>b2f1cd155b864803ad8334cdf13c4bd2</td>\n",
       "      <td>0</td>\n",
       "      <td>19.51</td>\n",
       "      <td>1.0</td>\n",
       "      <td>0.0</td>\n",
       "      <td>2017-10-16</td>\n",
       "      <td>2017.0</td>\n",
       "      <td>0</td>\n",
       "      <td>0</td>\n",
       "      <td>1</td>\n",
       "      <td>0</td>\n",
       "      <td>0</td>\n",
       "      <td>0</td>\n",
       "      <td>0</td>\n",
       "      <td>0</td>\n",
       "      <td>0</td>\n",
       "      <td>1</td>\n",
       "      <td>0</td>\n",
       "    </tr>\n",
       "    <tr>\n",
       "      <th>4</th>\n",
       "      <td>fe97aa22dd3e48c8b143116a8403dd52</td>\n",
       "      <td>0</td>\n",
       "      <td>18.97</td>\n",
       "      <td>1.0</td>\n",
       "      <td>0.0</td>\n",
       "      <td>2017-12-17</td>\n",
       "      <td>2017.0</td>\n",
       "      <td>0</td>\n",
       "      <td>1</td>\n",
       "      <td>0</td>\n",
       "      <td>0</td>\n",
       "      <td>0</td>\n",
       "      <td>0</td>\n",
       "      <td>0</td>\n",
       "      <td>1</td>\n",
       "      <td>0</td>\n",
       "      <td>0</td>\n",
       "      <td>0</td>\n",
       "    </tr>\n",
       "  </tbody>\n",
       "</table>\n",
       "</div>"
      ],
      "text/plain": [
       "                        customer_id  time  amount  female  male  \\\n",
       "0  02c083884c7d45b39cc68e1314fec56c     0    0.83     1.0   0.0   \n",
       "1  9fa9ae8f57894cc9a3b8a9bbe0fc1b2f     0   34.56     0.0   1.0   \n",
       "2  54890f68699049c2a04d415abc25e717     0   13.23     0.0   1.0   \n",
       "3  b2f1cd155b864803ad8334cdf13c4bd2     0   19.51     1.0   0.0   \n",
       "4  fe97aa22dd3e48c8b143116a8403dd52     0   18.97     1.0   0.0   \n",
       "\n",
       "  membership_start  membership_year  18-29  30-44  45-59  60-74  75-89  \\\n",
       "0       2016-07-11           2016.0      1      0      0      0      0   \n",
       "1       2016-01-17           2016.0      0      1      0      0      0   \n",
       "2       2017-12-28           2017.0      0      1      0      0      0   \n",
       "3       2017-10-16           2017.0      0      0      1      0      0   \n",
       "4       2017-12-17           2017.0      0      1      0      0      0   \n",
       "\n",
       "   90-101  30k-49k  50k-69k  70k-89k  90k-109k  110k-120k  \n",
       "0       0        0        0        0         0          0  \n",
       "1       0        0        0        0         1          0  \n",
       "2       0        0        1        0         0          0  \n",
       "3       0        0        0        0         1          0  \n",
       "4       0        0        1        0         0          0  "
      ]
     },
     "execution_count": 43,
     "metadata": {},
     "output_type": "execute_result"
    }
   ],
   "source": [
    "# create income bins in transactions dataset\n",
    "transactions_df = income_bins(transactions_df)\n",
    "transactions_df.head()"
   ]
  },
  {
   "cell_type": "markdown",
   "id": "b02b5d6b",
   "metadata": {},
   "source": [
    "### Look at some simple frequency distributions"
   ]
  },
  {
   "cell_type": "code",
   "execution_count": 44,
   "id": "246b7cc2",
   "metadata": {},
   "outputs": [],
   "source": [
    "# create age and income dictionaries\n",
    "age_cols = ['18-29', '30-44', '45-59', '60-74', '75-89', '90-101']\n",
    "income_cols = ['30k-49k', '50k-69k', '70k-89k', '90k-109k', '110k-120k']"
   ]
  },
  {
   "cell_type": "code",
   "execution_count": 45,
   "id": "3d0dd931",
   "metadata": {},
   "outputs": [
    {
     "data": {
      "text/plain": [
       "18-29      2577\n",
       "30-44      5126\n",
       "45-59     11014\n",
       "60-74      9351\n",
       "75-89      3618\n",
       "90-101      629\n",
       "dtype: int64"
      ]
     },
     "execution_count": 45,
     "metadata": {},
     "output_type": "execute_result"
    }
   ],
   "source": [
    "# age distribution in offers\n",
    "offers_age_dist = offers_df[offers_df['offer_completed'] == 1][age_cols].sum()\n",
    "offers_age_dist"
   ]
  },
  {
   "cell_type": "code",
   "execution_count": 46,
   "id": "f0fce78d",
   "metadata": {},
   "outputs": [
    {
     "data": {
      "image/png": "[encoded data removed]",
      "text/plain": [
       "<Figure size 1400x600 with 1 Axes>"
      ]
     },
     "metadata": {},
     "output_type": "display_data"
    }
   ],
   "source": [
    "# plot offers age distribution\n",
    "plt.figure(figsize = (14, 6))\n",
    "offers_age_dist.plot(kind = 'bar')\n",
    "plt.xlabel('Age Distribution', weight = 'bold')\n",
    "plt.ylabel('Frequency', weight = 'bold')\n",
    "plt.title('Starbucks Completed Offers Age Distribution', weight = 'bold');"
   ]
  },
  {
   "cell_type": "markdown",
   "id": "d50aed5c",
   "metadata": {},
   "source": [
    "> The bulk of Starbucks customers with completed offers fall in the 45-years to 74-years age group."
   ]
  },
  {
   "cell_type": "code",
   "execution_count": 47,
   "id": "24814e8e",
   "metadata": {},
   "outputs": [
    {
     "data": {
      "text/plain": [
       "30k-49k       5943\n",
       "50k-69k      10521\n",
       "70k-89k       9535\n",
       "90k-109k      4865\n",
       "110k-120k     1460\n",
       "dtype: int64"
      ]
     },
     "execution_count": 47,
     "metadata": {},
     "output_type": "execute_result"
    }
   ],
   "source": [
    "# income distribution in offers\n",
    "offers_income_dist = offers_df[offers_df['offer_completed'] == 1][income_cols].sum()\n",
    "offers_income_dist"
   ]
  },
  {
   "cell_type": "code",
   "execution_count": 48,
   "id": "f3ed0810",
   "metadata": {},
   "outputs": [
    {
     "data": {
      "image/png": "[encoded data removed]",
      "text/plain": [
       "<Figure size 1400x600 with 1 Axes>"
      ]
     },
     "metadata": {},
     "output_type": "display_data"
    }
   ],
   "source": [
    "# plot offers age distribution\n",
    "plt.figure(figsize = (14, 6))\n",
    "offers_income_dist.plot(kind = 'bar')\n",
    "plt.xlabel('Income Distribution', weight = 'bold')\n",
    "plt.ylabel('Frequency', weight = 'bold')\n",
    "plt.title('Starbucks Completed Offers Income Distribution', weight = 'bold');"
   ]
  },
  {
   "cell_type": "markdown",
   "id": "d6543d47",
   "metadata": {},
   "source": [
    "> The bulk of Starbucks customers with completed offers fall in the 50,000 - 89,000 income range."
   ]
  },
  {
   "cell_type": "code",
   "execution_count": 49,
   "id": "54b29a1b",
   "metadata": {},
   "outputs": [
    {
     "data": {
      "text/plain": [
       "bogo        15669\n",
       "discount    17910\n",
       "dtype: int64"
      ]
     },
     "execution_count": 49,
     "metadata": {},
     "output_type": "execute_result"
    }
   ],
   "source": [
    "# offer type distribution in offers\n",
    "offer_type_cols = ['bogo', 'discount']\n",
    "offer_type_dist = offers_df[offers_df['offer_completed'] == 1][offer_type_cols].sum()\n",
    "offer_type_dist"
   ]
  },
  {
   "cell_type": "code",
   "execution_count": 50,
   "id": "f09f1ca4",
   "metadata": {},
   "outputs": [
    {
     "data": {
      "image/png": "[encoded data removed]",
      "text/plain": [
       "<Figure size 1400x600 with 1 Axes>"
      ]
     },
     "metadata": {},
     "output_type": "display_data"
    }
   ],
   "source": [
    "# plot offer type distribution\n",
    "plt.figure(figsize = (14, 6))\n",
    "offer_type_dist.plot(kind = 'bar')\n",
    "plt.xlabel('Offer Type Distribution', weight = 'bold')\n",
    "plt.ylabel('Frequency', weight = 'bold')\n",
    "plt.title('Starbucks Completed Offers by Type', weight = 'bold');"
   ]
  },
  {
   "cell_type": "markdown",
   "id": "1529910b",
   "metadata": {},
   "source": [
    "> Discount offers are slightly more prevelant than bogo."
   ]
  },
  {
   "cell_type": "code",
   "execution_count": 51,
   "id": "a58eca0d",
   "metadata": {},
   "outputs": [
    {
     "data": {
      "text/plain": [
       "email     33579\n",
       "mobile    30159\n",
       "social    21788\n",
       "web       29891\n",
       "dtype: int64"
      ]
     },
     "execution_count": 51,
     "metadata": {},
     "output_type": "execute_result"
    }
   ],
   "source": [
    "channels_cols = ['email', 'mobile', 'social', 'web']\n",
    "offer_channels_dist = offers_df[offers_df['offer_completed'] == 1][channels_cols].sum()\n",
    "offer_channels_dist"
   ]
  },
  {
   "cell_type": "code",
   "execution_count": 52,
   "id": "af92472d",
   "metadata": {},
   "outputs": [
    {
     "data": {
      "image/png": "[encoded data removed]",
      "text/plain": [
       "<Figure size 1400x600 with 1 Axes>"
      ]
     },
     "metadata": {},
     "output_type": "display_data"
    }
   ],
   "source": [
    "# plot offer channel distribution\n",
    "plt.figure(figsize = (14, 6))\n",
    "offer_channels_dist.plot(kind = 'bar')\n",
    "plt.xlabel('Offer Channel Distribution', weight = 'bold')\n",
    "plt.ylabel('Frequency', weight = 'bold')\n",
    "plt.title('Starbucks Completed Offers by Channel', weight = 'bold');"
   ]
  },
  {
   "cell_type": "markdown",
   "id": "8832516b",
   "metadata": {},
   "source": [
    "> Email channel frequency is slightly higher than mobile and web."
   ]
  },
  {
   "cell_type": "code",
   "execution_count": 53,
   "id": "1fd5a737",
   "metadata": {},
   "outputs": [
    {
     "data": {
      "text/plain": [
       "male      16466.0\n",
       "female    15477.0\n",
       "dtype: float64"
      ]
     },
     "execution_count": 53,
     "metadata": {},
     "output_type": "execute_result"
    }
   ],
   "source": [
    "# offer type distribution in offers\n",
    "gender_cols = ['male', 'female']\n",
    "gender_dist = offers_df[offers_df['offer_completed'] == 1][gender_cols].sum()\n",
    "gender_dist"
   ]
  },
  {
   "cell_type": "code",
   "execution_count": 54,
   "id": "9935f073",
   "metadata": {},
   "outputs": [
    {
     "data": {
      "image/png": "[encoded data removed]",
      "text/plain": [
       "<Figure size 1400x600 with 1 Axes>"
      ]
     },
     "metadata": {},
     "output_type": "display_data"
    }
   ],
   "source": [
    "# plot gender distribution\n",
    "plt.figure(figsize = (14, 6))\n",
    "gender_dist.plot(kind = 'bar')\n",
    "plt.xlabel('Gender Distribution', weight = 'bold')\n",
    "plt.ylabel('Frequency', weight = 'bold')\n",
    "plt.title('Starbucks Completed Offers by Gender', weight = 'bold');"
   ]
  },
  {
   "cell_type": "markdown",
   "id": "e0716537",
   "metadata": {},
   "source": [
    "> Slightly higher number of completed offers for male customers."
   ]
  },
  {
   "cell_type": "code",
   "execution_count": 55,
   "id": "20ddccc1",
   "metadata": {},
   "outputs": [
    {
     "data": {
      "text/plain": [
       "18-29     15528\n",
       "30-44     24294\n",
       "45-59     37873\n",
       "60-74     31511\n",
       "75-89     12022\n",
       "90-101     2030\n",
       "dtype: int64"
      ]
     },
     "execution_count": 55,
     "metadata": {},
     "output_type": "execute_result"
    }
   ],
   "source": [
    "# age distribution of transaction data\n",
    "transaction_age_dist = transactions_df[age_cols].sum()\n",
    "transaction_age_dist"
   ]
  },
  {
   "cell_type": "code",
   "execution_count": 56,
   "id": "d65dd936",
   "metadata": {},
   "outputs": [
    {
     "data": {
      "image/png": "[encoded data removed]",
      "text/plain": [
       "<Figure size 1400x600 with 1 Axes>"
      ]
     },
     "metadata": {},
     "output_type": "display_data"
    }
   ],
   "source": [
    "# plot transaction age distribution\n",
    "plt.figure(figsize = (14, 6))\n",
    "transaction_age_dist.plot(kind = 'bar')\n",
    "plt.xlabel('Age Distribution', weight = 'bold')\n",
    "plt.ylabel('Frequency', weight = 'bold')\n",
    "plt.title('Starbucks Transactions Age Distribution', weight = 'bold');"
   ]
  },
  {
   "cell_type": "markdown",
   "id": "f3574df9",
   "metadata": {},
   "source": [
    "> Similar to the completed offers data, the bulk of transaction data is in the 45-years to 74-years age groups."
   ]
  },
  {
   "cell_type": "code",
   "execution_count": 57,
   "id": "20e2da4d",
   "metadata": {},
   "outputs": [
    {
     "data": {
      "text/plain": [
       "30k-49k      37075\n",
       "50k-69k      45035\n",
       "70k-89k      26610\n",
       "90k-109k     11178\n",
       "110k-120k     3185\n",
       "dtype: int64"
      ]
     },
     "execution_count": 57,
     "metadata": {},
     "output_type": "execute_result"
    }
   ],
   "source": [
    "# income distribution of transaction data\n",
    "transaction_income_dist = transactions_df[income_cols].sum()\n",
    "transaction_income_dist"
   ]
  },
  {
   "cell_type": "code",
   "execution_count": 58,
   "id": "9736eec1",
   "metadata": {},
   "outputs": [
    {
     "data": {
      "image/png": "[encoded data removed]",
      "text/plain": [
       "<Figure size 1400x600 with 1 Axes>"
      ]
     },
     "metadata": {},
     "output_type": "display_data"
    }
   ],
   "source": [
    "# plot transaction income distribution\n",
    "plt.figure(figsize = (14, 6))\n",
    "transaction_income_dist.plot(kind = 'bar')\n",
    "plt.xlabel('Income Distribution', weight = 'bold')\n",
    "plt.ylabel('Frequency', weight = 'bold')\n",
    "plt.title('Starbucks Transactions Income Distribution', weight = 'bold');"
   ]
  },
  {
   "cell_type": "markdown",
   "id": "97db3e55",
   "metadata": {},
   "source": [
    "> Income distribution is shifted lower with the transaction data, with the bulk in the 30,000 to 69,000 range."
   ]
  },
  {
   "cell_type": "code",
   "execution_count": 59,
   "id": "2444e995",
   "metadata": {},
   "outputs": [
    {
     "data": {
      "text/plain": [
       "male      72794.0\n",
       "female    49382.0\n",
       "dtype: float64"
      ]
     },
     "execution_count": 59,
     "metadata": {},
     "output_type": "execute_result"
    }
   ],
   "source": [
    "# income distribution of transaction data\n",
    "transaction_gender_dist = transactions_df[gender_cols].sum()\n",
    "transaction_gender_dist"
   ]
  },
  {
   "cell_type": "code",
   "execution_count": 60,
   "id": "5d238d11",
   "metadata": {},
   "outputs": [
    {
     "data": {
      "image/png": "[encoded data removed]",
      "text/plain": [
       "<Figure size 1400x600 with 1 Axes>"
      ]
     },
     "metadata": {},
     "output_type": "display_data"
    }
   ],
   "source": [
    "# plot gender distribution\n",
    "plt.figure(figsize = (14, 6))\n",
    "transaction_gender_dist.plot(kind = 'bar')\n",
    "plt.xlabel('Gender Distribution', weight = 'bold')\n",
    "plt.ylabel('Frequency', weight = 'bold')\n",
    "plt.title('Starbucks Transactions by Gender', weight = 'bold');"
   ]
  },
  {
   "cell_type": "markdown",
   "id": "764be554",
   "metadata": {},
   "source": [
    "> Transactions for males are significantly higher."
   ]
  },
  {
   "cell_type": "markdown",
   "id": "9619eb0f",
   "metadata": {},
   "source": [
    "## Recommendations"
   ]
  },
  {
   "cell_type": "code",
   "execution_count": 61,
   "id": "91fa6b91",
   "metadata": {},
   "outputs": [
    {
     "data": {
      "text/html": [
       "<div>\n",
       "<style scoped>\n",
       "    .dataframe tbody tr th:only-of-type {\n",
       "        vertical-align: middle;\n",
       "    }\n",
       "\n",
       "    .dataframe tbody tr th {\n",
       "        vertical-align: top;\n",
       "    }\n",
       "\n",
       "    .dataframe thead th {\n",
       "        text-align: right;\n",
       "    }\n",
       "</style>\n",
       "<table border=\"1\" class=\"dataframe\">\n",
       "  <thead>\n",
       "    <tr style=\"text-align: right;\">\n",
       "      <th></th>\n",
       "      <th>offer_id</th>\n",
       "      <th>offer_received</th>\n",
       "      <th>offer_completed</th>\n",
       "      <th>completion_ratio</th>\n",
       "    </tr>\n",
       "  </thead>\n",
       "  <tbody>\n",
       "    <tr>\n",
       "      <th>9</th>\n",
       "      <td>fafdcd668e3743c1bb461111dcafc2a4</td>\n",
       "      <td>7597</td>\n",
       "      <td>5317</td>\n",
       "      <td>0.699882</td>\n",
       "    </tr>\n",
       "    <tr>\n",
       "      <th>1</th>\n",
       "      <td>2298d6c36e964ae4a3e7e9706d1fb8c2</td>\n",
       "      <td>7646</td>\n",
       "      <td>5156</td>\n",
       "      <td>0.674340</td>\n",
       "    </tr>\n",
       "    <tr>\n",
       "      <th>8</th>\n",
       "      <td>f19421c1d4aa40978ebb69ca19b0e20d</td>\n",
       "      <td>7571</td>\n",
       "      <td>4296</td>\n",
       "      <td>0.567428</td>\n",
       "    </tr>\n",
       "    <tr>\n",
       "      <th>6</th>\n",
       "      <td>9b98b8c7a33c4b65b9aebfe6a799e6d9</td>\n",
       "      <td>7677</td>\n",
       "      <td>4354</td>\n",
       "      <td>0.567149</td>\n",
       "    </tr>\n",
       "    <tr>\n",
       "      <th>2</th>\n",
       "      <td>2906b810c7d4411798c6938adc9daaa5</td>\n",
       "      <td>7632</td>\n",
       "      <td>4017</td>\n",
       "      <td>0.526336</td>\n",
       "    </tr>\n",
       "    <tr>\n",
       "      <th>7</th>\n",
       "      <td>ae264e3637204a6fb9bb56bc8210ddfd</td>\n",
       "      <td>7658</td>\n",
       "      <td>3688</td>\n",
       "      <td>0.481588</td>\n",
       "    </tr>\n",
       "    <tr>\n",
       "      <th>0</th>\n",
       "      <td>0b1e1539f2cc45b7b9fa7c272da2e1d7</td>\n",
       "      <td>7668</td>\n",
       "      <td>3420</td>\n",
       "      <td>0.446009</td>\n",
       "    </tr>\n",
       "    <tr>\n",
       "      <th>4</th>\n",
       "      <td>4d5c57ea9a6940dd891ad53e9dbe8da0</td>\n",
       "      <td>7593</td>\n",
       "      <td>3331</td>\n",
       "      <td>0.438694</td>\n",
       "    </tr>\n",
       "    <tr>\n",
       "      <th>3</th>\n",
       "      <td>3f207df678b143eea3cee63160fa8bed</td>\n",
       "      <td>7617</td>\n",
       "      <td>0</td>\n",
       "      <td>0.000000</td>\n",
       "    </tr>\n",
       "    <tr>\n",
       "      <th>5</th>\n",
       "      <td>5a8bc65990b245e5a138643cd4eb9837</td>\n",
       "      <td>7618</td>\n",
       "      <td>0</td>\n",
       "      <td>0.000000</td>\n",
       "    </tr>\n",
       "  </tbody>\n",
       "</table>\n",
       "</div>"
      ],
      "text/plain": [
       "                           offer_id  offer_received  offer_completed  \\\n",
       "9  fafdcd668e3743c1bb461111dcafc2a4            7597             5317   \n",
       "1  2298d6c36e964ae4a3e7e9706d1fb8c2            7646             5156   \n",
       "8  f19421c1d4aa40978ebb69ca19b0e20d            7571             4296   \n",
       "6  9b98b8c7a33c4b65b9aebfe6a799e6d9            7677             4354   \n",
       "2  2906b810c7d4411798c6938adc9daaa5            7632             4017   \n",
       "7  ae264e3637204a6fb9bb56bc8210ddfd            7658             3688   \n",
       "0  0b1e1539f2cc45b7b9fa7c272da2e1d7            7668             3420   \n",
       "4  4d5c57ea9a6940dd891ad53e9dbe8da0            7593             3331   \n",
       "3  3f207df678b143eea3cee63160fa8bed            7617                0   \n",
       "5  5a8bc65990b245e5a138643cd4eb9837            7618                0   \n",
       "\n",
       "   completion_ratio  \n",
       "9          0.699882  \n",
       "1          0.674340  \n",
       "8          0.567428  \n",
       "6          0.567149  \n",
       "2          0.526336  \n",
       "7          0.481588  \n",
       "0          0.446009  \n",
       "4          0.438694  \n",
       "3          0.000000  \n",
       "5          0.000000  "
      ]
     },
     "execution_count": 61,
     "metadata": {},
     "output_type": "execute_result"
    }
   ],
   "source": [
    "ranked_completed = create_ranked_offers(offers_df)\n",
    "ranked_completed"
   ]
  },
  {
   "cell_type": "code",
   "execution_count": 62,
   "id": "357effc9",
   "metadata": {},
   "outputs": [
    {
     "name": "stdout",
     "output_type": "stream",
     "text": [
      "The top  5  offer recommendations: \n"
     ]
    },
    {
     "data": {
      "text/plain": [
       "['fafdcd668e3743c1bb461111dcafc2a4',\n",
       " '2298d6c36e964ae4a3e7e9706d1fb8c2',\n",
       " 'f19421c1d4aa40978ebb69ca19b0e20d',\n",
       " '9b98b8c7a33c4b65b9aebfe6a799e6d9',\n",
       " '2906b810c7d4411798c6938adc9daaa5']"
      ]
     },
     "execution_count": 62,
     "metadata": {},
     "output_type": "execute_result"
    }
   ],
   "source": [
    "recs_5 = popular_recommendations(ranked_completed, 5)\n",
    "recs_5"
   ]
  },
  {
   "cell_type": "code",
   "execution_count": 63,
   "id": "54a71f78",
   "metadata": {},
   "outputs": [
    {
     "data": {
      "text/html": [
       "<div>\n",
       "<style scoped>\n",
       "    .dataframe tbody tr th:only-of-type {\n",
       "        vertical-align: middle;\n",
       "    }\n",
       "\n",
       "    .dataframe tbody tr th {\n",
       "        vertical-align: top;\n",
       "    }\n",
       "\n",
       "    .dataframe thead th {\n",
       "        text-align: right;\n",
       "    }\n",
       "</style>\n",
       "<table border=\"1\" class=\"dataframe\">\n",
       "  <thead>\n",
       "    <tr style=\"text-align: right;\">\n",
       "      <th>offer_id</th>\n",
       "      <th>0b1e1539f2cc45b7b9fa7c272da2e1d7</th>\n",
       "      <th>2298d6c36e964ae4a3e7e9706d1fb8c2</th>\n",
       "      <th>2906b810c7d4411798c6938adc9daaa5</th>\n",
       "      <th>3f207df678b143eea3cee63160fa8bed</th>\n",
       "      <th>4d5c57ea9a6940dd891ad53e9dbe8da0</th>\n",
       "      <th>5a8bc65990b245e5a138643cd4eb9837</th>\n",
       "      <th>9b98b8c7a33c4b65b9aebfe6a799e6d9</th>\n",
       "      <th>ae264e3637204a6fb9bb56bc8210ddfd</th>\n",
       "      <th>f19421c1d4aa40978ebb69ca19b0e20d</th>\n",
       "      <th>fafdcd668e3743c1bb461111dcafc2a4</th>\n",
       "    </tr>\n",
       "    <tr>\n",
       "      <th>customer_id</th>\n",
       "      <th></th>\n",
       "      <th></th>\n",
       "      <th></th>\n",
       "      <th></th>\n",
       "      <th></th>\n",
       "      <th></th>\n",
       "      <th></th>\n",
       "      <th></th>\n",
       "      <th></th>\n",
       "      <th></th>\n",
       "    </tr>\n",
       "  </thead>\n",
       "  <tbody>\n",
       "    <tr>\n",
       "      <th>0009655768c64bdeb2e877511632db8f</th>\n",
       "      <td>0</td>\n",
       "      <td>0</td>\n",
       "      <td>1</td>\n",
       "      <td>1</td>\n",
       "      <td>0</td>\n",
       "      <td>1</td>\n",
       "      <td>0</td>\n",
       "      <td>0</td>\n",
       "      <td>1</td>\n",
       "      <td>1</td>\n",
       "    </tr>\n",
       "    <tr>\n",
       "      <th>00116118485d4dfda04fdbaba9a87b5c</th>\n",
       "      <td>0</td>\n",
       "      <td>0</td>\n",
       "      <td>0</td>\n",
       "      <td>0</td>\n",
       "      <td>0</td>\n",
       "      <td>0</td>\n",
       "      <td>0</td>\n",
       "      <td>0</td>\n",
       "      <td>1</td>\n",
       "      <td>0</td>\n",
       "    </tr>\n",
       "    <tr>\n",
       "      <th>0011e0d4e6b944f998e987f904e8c1e5</th>\n",
       "      <td>1</td>\n",
       "      <td>1</td>\n",
       "      <td>0</td>\n",
       "      <td>1</td>\n",
       "      <td>0</td>\n",
       "      <td>1</td>\n",
       "      <td>1</td>\n",
       "      <td>0</td>\n",
       "      <td>0</td>\n",
       "      <td>0</td>\n",
       "    </tr>\n",
       "    <tr>\n",
       "      <th>0020c2b971eb4e9188eac86d93036a77</th>\n",
       "      <td>0</td>\n",
       "      <td>0</td>\n",
       "      <td>0</td>\n",
       "      <td>0</td>\n",
       "      <td>1</td>\n",
       "      <td>1</td>\n",
       "      <td>0</td>\n",
       "      <td>1</td>\n",
       "      <td>0</td>\n",
       "      <td>1</td>\n",
       "    </tr>\n",
       "    <tr>\n",
       "      <th>0020ccbbb6d84e358d3414a3ff76cffd</th>\n",
       "      <td>0</td>\n",
       "      <td>1</td>\n",
       "      <td>0</td>\n",
       "      <td>0</td>\n",
       "      <td>0</td>\n",
       "      <td>1</td>\n",
       "      <td>1</td>\n",
       "      <td>0</td>\n",
       "      <td>1</td>\n",
       "      <td>0</td>\n",
       "    </tr>\n",
       "  </tbody>\n",
       "</table>\n",
       "</div>"
      ],
      "text/plain": [
       "offer_id                          0b1e1539f2cc45b7b9fa7c272da2e1d7  \\\n",
       "customer_id                                                          \n",
       "0009655768c64bdeb2e877511632db8f                                 0   \n",
       "00116118485d4dfda04fdbaba9a87b5c                                 0   \n",
       "0011e0d4e6b944f998e987f904e8c1e5                                 1   \n",
       "0020c2b971eb4e9188eac86d93036a77                                 0   \n",
       "0020ccbbb6d84e358d3414a3ff76cffd                                 0   \n",
       "\n",
       "offer_id                          2298d6c36e964ae4a3e7e9706d1fb8c2  \\\n",
       "customer_id                                                          \n",
       "0009655768c64bdeb2e877511632db8f                                 0   \n",
       "00116118485d4dfda04fdbaba9a87b5c                                 0   \n",
       "0011e0d4e6b944f998e987f904e8c1e5                                 1   \n",
       "0020c2b971eb4e9188eac86d93036a77                                 0   \n",
       "0020ccbbb6d84e358d3414a3ff76cffd                                 1   \n",
       "\n",
       "offer_id                          2906b810c7d4411798c6938adc9daaa5  \\\n",
       "customer_id                                                          \n",
       "0009655768c64bdeb2e877511632db8f                                 1   \n",
       "00116118485d4dfda04fdbaba9a87b5c                                 0   \n",
       "0011e0d4e6b944f998e987f904e8c1e5                                 0   \n",
       "0020c2b971eb4e9188eac86d93036a77                                 0   \n",
       "0020ccbbb6d84e358d3414a3ff76cffd                                 0   \n",
       "\n",
       "offer_id                          3f207df678b143eea3cee63160fa8bed  \\\n",
       "customer_id                                                          \n",
       "0009655768c64bdeb2e877511632db8f                                 1   \n",
       "00116118485d4dfda04fdbaba9a87b5c                                 0   \n",
       "0011e0d4e6b944f998e987f904e8c1e5                                 1   \n",
       "0020c2b971eb4e9188eac86d93036a77                                 0   \n",
       "0020ccbbb6d84e358d3414a3ff76cffd                                 0   \n",
       "\n",
       "offer_id                          4d5c57ea9a6940dd891ad53e9dbe8da0  \\\n",
       "customer_id                                                          \n",
       "0009655768c64bdeb2e877511632db8f                                 0   \n",
       "00116118485d4dfda04fdbaba9a87b5c                                 0   \n",
       "0011e0d4e6b944f998e987f904e8c1e5                                 0   \n",
       "0020c2b971eb4e9188eac86d93036a77                                 1   \n",
       "0020ccbbb6d84e358d3414a3ff76cffd                                 0   \n",
       "\n",
       "offer_id                          5a8bc65990b245e5a138643cd4eb9837  \\\n",
       "customer_id                                                          \n",
       "0009655768c64bdeb2e877511632db8f                                 1   \n",
       "00116118485d4dfda04fdbaba9a87b5c                                 0   \n",
       "0011e0d4e6b944f998e987f904e8c1e5                                 1   \n",
       "0020c2b971eb4e9188eac86d93036a77                                 1   \n",
       "0020ccbbb6d84e358d3414a3ff76cffd                                 1   \n",
       "\n",
       "offer_id                          9b98b8c7a33c4b65b9aebfe6a799e6d9  \\\n",
       "customer_id                                                          \n",
       "0009655768c64bdeb2e877511632db8f                                 0   \n",
       "00116118485d4dfda04fdbaba9a87b5c                                 0   \n",
       "0011e0d4e6b944f998e987f904e8c1e5                                 1   \n",
       "0020c2b971eb4e9188eac86d93036a77                                 0   \n",
       "0020ccbbb6d84e358d3414a3ff76cffd                                 1   \n",
       "\n",
       "offer_id                          ae264e3637204a6fb9bb56bc8210ddfd  \\\n",
       "customer_id                                                          \n",
       "0009655768c64bdeb2e877511632db8f                                 0   \n",
       "00116118485d4dfda04fdbaba9a87b5c                                 0   \n",
       "0011e0d4e6b944f998e987f904e8c1e5                                 0   \n",
       "0020c2b971eb4e9188eac86d93036a77                                 1   \n",
       "0020ccbbb6d84e358d3414a3ff76cffd                                 0   \n",
       "\n",
       "offer_id                          f19421c1d4aa40978ebb69ca19b0e20d  \\\n",
       "customer_id                                                          \n",
       "0009655768c64bdeb2e877511632db8f                                 1   \n",
       "00116118485d4dfda04fdbaba9a87b5c                                 1   \n",
       "0011e0d4e6b944f998e987f904e8c1e5                                 0   \n",
       "0020c2b971eb4e9188eac86d93036a77                                 0   \n",
       "0020ccbbb6d84e358d3414a3ff76cffd                                 1   \n",
       "\n",
       "offer_id                          fafdcd668e3743c1bb461111dcafc2a4  \n",
       "customer_id                                                         \n",
       "0009655768c64bdeb2e877511632db8f                                 1  \n",
       "00116118485d4dfda04fdbaba9a87b5c                                 0  \n",
       "0011e0d4e6b944f998e987f904e8c1e5                                 0  \n",
       "0020c2b971eb4e9188eac86d93036a77                                 1  \n",
       "0020ccbbb6d84e358d3414a3ff76cffd                                 0  "
      ]
     },
     "execution_count": 63,
     "metadata": {},
     "output_type": "execute_result"
    }
   ],
   "source": [
    "user_item = create_user_item_matrix(offers_df)\n",
    "user_item.head()"
   ]
  },
  {
   "cell_type": "code",
   "execution_count": 64,
   "id": "da2bd924",
   "metadata": {},
   "outputs": [
    {
     "data": {
      "text/plain": [
       "16994"
      ]
     },
     "execution_count": 64,
     "metadata": {},
     "output_type": "execute_result"
    }
   ],
   "source": [
    "user_item.shape[0]"
   ]
  },
  {
   "cell_type": "code",
   "execution_count": 65,
   "id": "08cdbcaa",
   "metadata": {},
   "outputs": [],
   "source": [
    "def offers_completed(user_item, customer_id):\n",
    "    '''\n",
    "    INPUT:\n",
    "    user_id - the user_id of an individual as int\n",
    "    OUTPUT:\n",
    "    movies - an array of movies the user has watched\n",
    "    '''\n",
    "    offers = user_item.loc[customer_id][user_item.loc[customer_id].isnull() == False].index.values\n",
    "\n",
    "    return offers"
   ]
  },
  {
   "cell_type": "code",
   "execution_count": 66,
   "id": "ba6f9c6e",
   "metadata": {},
   "outputs": [],
   "source": [
    "def create_user_offer_dict(user_item):\n",
    "    '''\n",
    "    INPUT: None\n",
    "    OUTPUT: movies_seen - a dictionary where each key is a user_id and the value is an array of movie_ids\n",
    "    \n",
    "    Creates the movies_seen dictionary\n",
    "    '''\n",
    "    n_users = user_item.shape[0]\n",
    "    offers_seen = dict()\n",
    "\n",
    "    for user in range(1, n_users+1):\n",
    "        \n",
    "        # assign list of movies to each user key\n",
    "        print(user)\n",
    "        offers_seen[user] = offers_completed(user_item, user)\n",
    "        print(offer_seen[user])\n",
    "    \n",
    "    return offers_seen"
   ]
  },
  {
   "cell_type": "code",
   "execution_count": 67,
   "id": "daccd9ac",
   "metadata": {},
   "outputs": [
    {
     "data": {
      "text/plain": [
       "array(['0b1e1539f2cc45b7b9fa7c272da2e1d7',\n",
       "       '2298d6c36e964ae4a3e7e9706d1fb8c2',\n",
       "       '2906b810c7d4411798c6938adc9daaa5',\n",
       "       '3f207df678b143eea3cee63160fa8bed',\n",
       "       '4d5c57ea9a6940dd891ad53e9dbe8da0',\n",
       "       '5a8bc65990b245e5a138643cd4eb9837',\n",
       "       '9b98b8c7a33c4b65b9aebfe6a799e6d9',\n",
       "       'ae264e3637204a6fb9bb56bc8210ddfd',\n",
       "       'f19421c1d4aa40978ebb69ca19b0e20d',\n",
       "       'fafdcd668e3743c1bb461111dcafc2a4'], dtype=object)"
      ]
     },
     "execution_count": 67,
     "metadata": {},
     "output_type": "execute_result"
    }
   ],
   "source": [
    "offers_completed(user_item, '0020ccbbb6d84e358d3414a3ff76cffd')"
   ]
  },
  {
   "cell_type": "code",
   "execution_count": 68,
   "id": "f93838be",
   "metadata": {},
   "outputs": [
    {
     "name": "stdout",
     "output_type": "stream",
     "text": [
      "1\n"
     ]
    },
    {
     "ename": "KeyError",
     "evalue": "1",
     "output_type": "error",
     "traceback": [
      "\u001b[0;31m---------------------------------------------------------------------------\u001b[0m",
      "\u001b[0;31mKeyError\u001b[0m                                  Traceback (most recent call last)",
      "File \u001b[0;32m/opt/anaconda3/lib/python3.9/site-packages/pandas/core/indexes/base.py:3629\u001b[0m, in \u001b[0;36mIndex.get_loc\u001b[0;34m(self, key, method, tolerance)\u001b[0m\n\u001b[1;32m   3628\u001b[0m \u001b[38;5;28;01mtry\u001b[39;00m:\n\u001b[0;32m-> 3629\u001b[0m     \u001b[38;5;28;01mreturn\u001b[39;00m \u001b[38;5;28;43mself\u001b[39;49m\u001b[38;5;241;43m.\u001b[39;49m\u001b[43m_engine\u001b[49m\u001b[38;5;241;43m.\u001b[39;49m\u001b[43mget_loc\u001b[49m\u001b[43m(\u001b[49m\u001b[43mcasted_key\u001b[49m\u001b[43m)\u001b[49m\n\u001b[1;32m   3630\u001b[0m \u001b[38;5;28;01mexcept\u001b[39;00m \u001b[38;5;167;01mKeyError\u001b[39;00m \u001b[38;5;28;01mas\u001b[39;00m err:\n",
      "File \u001b[0;32m/opt/anaconda3/lib/python3.9/site-packages/pandas/_libs/index.pyx:136\u001b[0m, in \u001b[0;36mpandas._libs.index.IndexEngine.get_loc\u001b[0;34m()\u001b[0m\n",
      "File \u001b[0;32m/opt/anaconda3/lib/python3.9/site-packages/pandas/_libs/index.pyx:163\u001b[0m, in \u001b[0;36mpandas._libs.index.IndexEngine.get_loc\u001b[0;34m()\u001b[0m\n",
      "File \u001b[0;32mpandas/_libs/hashtable_class_helper.pxi:5198\u001b[0m, in \u001b[0;36mpandas._libs.hashtable.PyObjectHashTable.get_item\u001b[0;34m()\u001b[0m\n",
      "File \u001b[0;32mpandas/_libs/hashtable_class_helper.pxi:5206\u001b[0m, in \u001b[0;36mpandas._libs.hashtable.PyObjectHashTable.get_item\u001b[0;34m()\u001b[0m\n",
      "\u001b[0;31mKeyError\u001b[0m: 1",
      "\nThe above exception was the direct cause of the following exception:\n",
      "\u001b[0;31mKeyError\u001b[0m                                  Traceback (most recent call last)",
      "Cell \u001b[0;32mIn[68], line 1\u001b[0m\n\u001b[0;32m----> 1\u001b[0m offers_seen \u001b[38;5;241m=\u001b[39m \u001b[43mcreate_user_offer_dict\u001b[49m\u001b[43m(\u001b[49m\u001b[43muser_item\u001b[49m\u001b[43m)\u001b[49m\n",
      "Cell \u001b[0;32mIn[66], line 15\u001b[0m, in \u001b[0;36mcreate_user_offer_dict\u001b[0;34m(user_item)\u001b[0m\n\u001b[1;32m     11\u001b[0m \u001b[38;5;28;01mfor\u001b[39;00m user \u001b[38;5;129;01min\u001b[39;00m \u001b[38;5;28mrange\u001b[39m(\u001b[38;5;241m1\u001b[39m, n_users\u001b[38;5;241m+\u001b[39m\u001b[38;5;241m1\u001b[39m):\n\u001b[1;32m     12\u001b[0m     \n\u001b[1;32m     13\u001b[0m     \u001b[38;5;66;03m# assign list of movies to each user key\u001b[39;00m\n\u001b[1;32m     14\u001b[0m     \u001b[38;5;28mprint\u001b[39m(user)\n\u001b[0;32m---> 15\u001b[0m     offers_seen[user] \u001b[38;5;241m=\u001b[39m \u001b[43moffers_completed\u001b[49m\u001b[43m(\u001b[49m\u001b[43muser_item\u001b[49m\u001b[43m,\u001b[49m\u001b[43m \u001b[49m\u001b[43muser\u001b[49m\u001b[43m)\u001b[49m\n\u001b[1;32m     16\u001b[0m     \u001b[38;5;28mprint\u001b[39m(offer_seen[user])\n\u001b[1;32m     18\u001b[0m \u001b[38;5;28;01mreturn\u001b[39;00m offers_seen\n",
      "Cell \u001b[0;32mIn[65], line 8\u001b[0m, in \u001b[0;36moffers_completed\u001b[0;34m(user_item, customer_id)\u001b[0m\n\u001b[1;32m      1\u001b[0m \u001b[38;5;28;01mdef\u001b[39;00m \u001b[38;5;21moffers_completed\u001b[39m(user_item, customer_id):\n\u001b[1;32m      2\u001b[0m     \u001b[38;5;124;03m'''\u001b[39;00m\n\u001b[1;32m      3\u001b[0m \u001b[38;5;124;03m    INPUT:\u001b[39;00m\n\u001b[1;32m      4\u001b[0m \u001b[38;5;124;03m    user_id - the user_id of an individual as int\u001b[39;00m\n\u001b[1;32m      5\u001b[0m \u001b[38;5;124;03m    OUTPUT:\u001b[39;00m\n\u001b[1;32m      6\u001b[0m \u001b[38;5;124;03m    movies - an array of movies the user has watched\u001b[39;00m\n\u001b[1;32m      7\u001b[0m \u001b[38;5;124;03m    '''\u001b[39;00m\n\u001b[0;32m----> 8\u001b[0m     offers \u001b[38;5;241m=\u001b[39m \u001b[43muser_item\u001b[49m\u001b[38;5;241;43m.\u001b[39;49m\u001b[43mloc\u001b[49m\u001b[43m[\u001b[49m\u001b[43mcustomer_id\u001b[49m\u001b[43m]\u001b[49m[user_item\u001b[38;5;241m.\u001b[39mloc[customer_id]\u001b[38;5;241m.\u001b[39misnull() \u001b[38;5;241m==\u001b[39m \u001b[38;5;28;01mFalse\u001b[39;00m]\u001b[38;5;241m.\u001b[39mindex\u001b[38;5;241m.\u001b[39mvalues\n\u001b[1;32m     10\u001b[0m     \u001b[38;5;28;01mreturn\u001b[39;00m offers\n",
      "File \u001b[0;32m/opt/anaconda3/lib/python3.9/site-packages/pandas/core/indexing.py:967\u001b[0m, in \u001b[0;36m_LocationIndexer.__getitem__\u001b[0;34m(self, key)\u001b[0m\n\u001b[1;32m    964\u001b[0m axis \u001b[38;5;241m=\u001b[39m \u001b[38;5;28mself\u001b[39m\u001b[38;5;241m.\u001b[39maxis \u001b[38;5;129;01mor\u001b[39;00m \u001b[38;5;241m0\u001b[39m\n\u001b[1;32m    966\u001b[0m maybe_callable \u001b[38;5;241m=\u001b[39m com\u001b[38;5;241m.\u001b[39mapply_if_callable(key, \u001b[38;5;28mself\u001b[39m\u001b[38;5;241m.\u001b[39mobj)\n\u001b[0;32m--> 967\u001b[0m \u001b[38;5;28;01mreturn\u001b[39;00m \u001b[38;5;28;43mself\u001b[39;49m\u001b[38;5;241;43m.\u001b[39;49m\u001b[43m_getitem_axis\u001b[49m\u001b[43m(\u001b[49m\u001b[43mmaybe_callable\u001b[49m\u001b[43m,\u001b[49m\u001b[43m \u001b[49m\u001b[43maxis\u001b[49m\u001b[38;5;241;43m=\u001b[39;49m\u001b[43maxis\u001b[49m\u001b[43m)\u001b[49m\n",
      "File \u001b[0;32m/opt/anaconda3/lib/python3.9/site-packages/pandas/core/indexing.py:1205\u001b[0m, in \u001b[0;36m_LocIndexer._getitem_axis\u001b[0;34m(self, key, axis)\u001b[0m\n\u001b[1;32m   1203\u001b[0m \u001b[38;5;66;03m# fall thru to straight lookup\u001b[39;00m\n\u001b[1;32m   1204\u001b[0m \u001b[38;5;28mself\u001b[39m\u001b[38;5;241m.\u001b[39m_validate_key(key, axis)\n\u001b[0;32m-> 1205\u001b[0m \u001b[38;5;28;01mreturn\u001b[39;00m \u001b[38;5;28;43mself\u001b[39;49m\u001b[38;5;241;43m.\u001b[39;49m\u001b[43m_get_label\u001b[49m\u001b[43m(\u001b[49m\u001b[43mkey\u001b[49m\u001b[43m,\u001b[49m\u001b[43m \u001b[49m\u001b[43maxis\u001b[49m\u001b[38;5;241;43m=\u001b[39;49m\u001b[43maxis\u001b[49m\u001b[43m)\u001b[49m\n",
      "File \u001b[0;32m/opt/anaconda3/lib/python3.9/site-packages/pandas/core/indexing.py:1153\u001b[0m, in \u001b[0;36m_LocIndexer._get_label\u001b[0;34m(self, label, axis)\u001b[0m\n\u001b[1;32m   1151\u001b[0m \u001b[38;5;28;01mdef\u001b[39;00m \u001b[38;5;21m_get_label\u001b[39m(\u001b[38;5;28mself\u001b[39m, label, axis: \u001b[38;5;28mint\u001b[39m):\n\u001b[1;32m   1152\u001b[0m     \u001b[38;5;66;03m# GH#5667 this will fail if the label is not present in the axis.\u001b[39;00m\n\u001b[0;32m-> 1153\u001b[0m     \u001b[38;5;28;01mreturn\u001b[39;00m \u001b[38;5;28;43mself\u001b[39;49m\u001b[38;5;241;43m.\u001b[39;49m\u001b[43mobj\u001b[49m\u001b[38;5;241;43m.\u001b[39;49m\u001b[43mxs\u001b[49m\u001b[43m(\u001b[49m\u001b[43mlabel\u001b[49m\u001b[43m,\u001b[49m\u001b[43m \u001b[49m\u001b[43maxis\u001b[49m\u001b[38;5;241;43m=\u001b[39;49m\u001b[43maxis\u001b[49m\u001b[43m)\u001b[49m\n",
      "File \u001b[0;32m/opt/anaconda3/lib/python3.9/site-packages/pandas/core/generic.py:3864\u001b[0m, in \u001b[0;36mNDFrame.xs\u001b[0;34m(self, key, axis, level, drop_level)\u001b[0m\n\u001b[1;32m   3862\u001b[0m             new_index \u001b[38;5;241m=\u001b[39m index[loc]\n\u001b[1;32m   3863\u001b[0m \u001b[38;5;28;01melse\u001b[39;00m:\n\u001b[0;32m-> 3864\u001b[0m     loc \u001b[38;5;241m=\u001b[39m \u001b[43mindex\u001b[49m\u001b[38;5;241;43m.\u001b[39;49m\u001b[43mget_loc\u001b[49m\u001b[43m(\u001b[49m\u001b[43mkey\u001b[49m\u001b[43m)\u001b[49m\n\u001b[1;32m   3866\u001b[0m     \u001b[38;5;28;01mif\u001b[39;00m \u001b[38;5;28misinstance\u001b[39m(loc, np\u001b[38;5;241m.\u001b[39mndarray):\n\u001b[1;32m   3867\u001b[0m         \u001b[38;5;28;01mif\u001b[39;00m loc\u001b[38;5;241m.\u001b[39mdtype \u001b[38;5;241m==\u001b[39m np\u001b[38;5;241m.\u001b[39mbool_:\n",
      "File \u001b[0;32m/opt/anaconda3/lib/python3.9/site-packages/pandas/core/indexes/base.py:3631\u001b[0m, in \u001b[0;36mIndex.get_loc\u001b[0;34m(self, key, method, tolerance)\u001b[0m\n\u001b[1;32m   3629\u001b[0m     \u001b[38;5;28;01mreturn\u001b[39;00m \u001b[38;5;28mself\u001b[39m\u001b[38;5;241m.\u001b[39m_engine\u001b[38;5;241m.\u001b[39mget_loc(casted_key)\n\u001b[1;32m   3630\u001b[0m \u001b[38;5;28;01mexcept\u001b[39;00m \u001b[38;5;167;01mKeyError\u001b[39;00m \u001b[38;5;28;01mas\u001b[39;00m err:\n\u001b[0;32m-> 3631\u001b[0m     \u001b[38;5;28;01mraise\u001b[39;00m \u001b[38;5;167;01mKeyError\u001b[39;00m(key) \u001b[38;5;28;01mfrom\u001b[39;00m \u001b[38;5;21;01merr\u001b[39;00m\n\u001b[1;32m   3632\u001b[0m \u001b[38;5;28;01mexcept\u001b[39;00m \u001b[38;5;167;01mTypeError\u001b[39;00m:\n\u001b[1;32m   3633\u001b[0m     \u001b[38;5;66;03m# If we have a listlike key, _check_indexing_error will raise\u001b[39;00m\n\u001b[1;32m   3634\u001b[0m     \u001b[38;5;66;03m#  InvalidIndexError. Otherwise we fall through and re-raise\u001b[39;00m\n\u001b[1;32m   3635\u001b[0m     \u001b[38;5;66;03m#  the TypeError.\u001b[39;00m\n\u001b[1;32m   3636\u001b[0m     \u001b[38;5;28mself\u001b[39m\u001b[38;5;241m.\u001b[39m_check_indexing_error(key)\n",
      "\u001b[0;31mKeyError\u001b[0m: 1"
     ]
    }
   ],
   "source": [
    "offers_seen = create_user_offer_dict(user_item)"
   ]
  },
  {
   "cell_type": "code",
   "execution_count": null,
   "id": "2f9ded04",
   "metadata": {},
   "outputs": [],
   "source": []
  }
 ],
 "metadata": {
  "kernelspec": {
   "display_name": "Python [conda env:root] *",
   "language": "python",
   "name": "conda-root-py"
  },
  "language_info": {
   "codemirror_mode": {
    "name": "ipython",
    "version": 3
   },
   "file_extension": ".py",
   "mimetype": "text/x-python",
   "name": "python",
   "nbconvert_exporter": "python",
   "pygments_lexer": "ipython3",
   "version": "3.9.16"
  }
 },
 "nbformat": 4,
 "nbformat_minor": 5
}
