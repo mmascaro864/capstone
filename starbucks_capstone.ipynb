{
 "cells": [
  {
   "cell_type": "markdown",
   "id": "769ac4c2",
   "metadata": {},
   "source": [
    "# Udacity Capstone Project\n",
    "## Starbucks Promotional Offers\n",
    "### April 2023"
   ]
  },
  {
   "cell_type": "markdown",
   "id": "28a42eef",
   "metadata": {},
   "source": [
    "# Data Sets\n",
    "The data for this project are contained in three files:\n",
    "\n",
    "- **portfolio.json** - containing offer ids and meta data about each offer (duration, type, etc.)\n",
    "- **profile.json** - demographic data for each customer\n",
    "- **transcript.json** - records for transactions, offers received, offers viewed, and offers completed\n",
    "\n",
    "## Schema details\n",
    "**portfolio.json**\n",
    "* id (string) - offer id\n",
    "* offer_type (string) - type of offer ie BOGO, discount, informational\n",
    "* difficulty (int) - minimum required spend to complete an offer\n",
    "* reward (int) - monetary reward given for completing an offer\n",
    "* duration (int) - time for offer to be open, in days\n",
    "* channels (list of strings)\n",
    "\n",
    "**profile.json**\n",
    "* age (int) - age of the customer \n",
    "* became_member_on (int) - date when customer created an app account\n",
    "* gender (str) - gender of the customer (note some entries contain 'O' for other rather than M or F)\n",
    "* id (str) - customer id\n",
    "* income (float) - customer's income\n",
    "\n",
    "**transcript.json**\n",
    "* event (str) - record description (ie transaction, offer received, offer viewed, etc.)\n",
    "* person (str) - customer id\n",
    "* time (int) - time in hours since start of test. The data begins at time t=0\n",
    "* value - (dict of strings) - either an offer id or transaction amount depending on the record"
   ]
  },
  {
   "cell_type": "code",
   "execution_count": 1,
   "id": "2d7eb3d0",
   "metadata": {},
   "outputs": [],
   "source": [
    "# import necessary libraries\n",
    "import pandas as pd\n",
    "import numpy as np\n",
    "import matplotlib.pyplot as plt\n",
    "import seaborn as sns\n",
    "from wrangle_data import clean_portfolio, clean_profile, clean_transcript, merge_data, age_bins, income_bins, extract_offer_id, extract_amount\n",
    "import recommendations as r\n",
    "from recommendations import Recommender\n",
    "from recommender_functions import create_ranked_offers, popular_recommendations, create_user_item_matrix, find_similar_users, get_offer_ids, get_user_offers, user_user_recs, compute_correlation, compute_euclidean_dist, compute_manhattan_dist\n",
    "import math\n",
    "import json\n",
    "from sklearn.preprocessing import MultiLabelBinarizer, LabelEncoder\n",
    "from math import sqrt\n",
    "%matplotlib inline"
   ]
  },
  {
   "cell_type": "code",
   "execution_count": 2,
   "id": "4cf76663",
   "metadata": {},
   "outputs": [],
   "source": [
    "# read in the json files\n",
    "portfolio = pd.read_json('data/portfolio.json', orient='records', lines=True)\n",
    "profile = pd.read_json('data/profile.json', orient='records', lines=True)\n",
    "transcript = pd.read_json('data/transcript.json', orient='records', lines=True)"
   ]
  },
  {
   "cell_type": "markdown",
   "id": "0f7defa8",
   "metadata": {},
   "source": [
    "## Data Exploration"
   ]
  },
  {
   "cell_type": "markdown",
   "id": "4be07608",
   "metadata": {},
   "source": [
    "### portfolio.json"
   ]
  },
  {
   "cell_type": "code",
   "execution_count": 3,
   "id": "629e262a",
   "metadata": {},
   "outputs": [
    {
     "data": {
      "text/html": [
       "<div>\n",
       "<style scoped>\n",
       "    .dataframe tbody tr th:only-of-type {\n",
       "        vertical-align: middle;\n",
       "    }\n",
       "\n",
       "    .dataframe tbody tr th {\n",
       "        vertical-align: top;\n",
       "    }\n",
       "\n",
       "    .dataframe thead th {\n",
       "        text-align: right;\n",
       "    }\n",
       "</style>\n",
       "<table border=\"1\" class=\"dataframe\">\n",
       "  <thead>\n",
       "    <tr style=\"text-align: right;\">\n",
       "      <th></th>\n",
       "      <th>reward</th>\n",
       "      <th>channels</th>\n",
       "      <th>difficulty</th>\n",
       "      <th>duration</th>\n",
       "      <th>offer_type</th>\n",
       "      <th>id</th>\n",
       "    </tr>\n",
       "  </thead>\n",
       "  <tbody>\n",
       "    <tr>\n",
       "      <th>0</th>\n",
       "      <td>10</td>\n",
       "      <td>[email, mobile, social]</td>\n",
       "      <td>10</td>\n",
       "      <td>7</td>\n",
       "      <td>bogo</td>\n",
       "      <td>ae264e3637204a6fb9bb56bc8210ddfd</td>\n",
       "    </tr>\n",
       "    <tr>\n",
       "      <th>1</th>\n",
       "      <td>10</td>\n",
       "      <td>[web, email, mobile, social]</td>\n",
       "      <td>10</td>\n",
       "      <td>5</td>\n",
       "      <td>bogo</td>\n",
       "      <td>4d5c57ea9a6940dd891ad53e9dbe8da0</td>\n",
       "    </tr>\n",
       "    <tr>\n",
       "      <th>2</th>\n",
       "      <td>0</td>\n",
       "      <td>[web, email, mobile]</td>\n",
       "      <td>0</td>\n",
       "      <td>4</td>\n",
       "      <td>informational</td>\n",
       "      <td>3f207df678b143eea3cee63160fa8bed</td>\n",
       "    </tr>\n",
       "    <tr>\n",
       "      <th>3</th>\n",
       "      <td>5</td>\n",
       "      <td>[web, email, mobile]</td>\n",
       "      <td>5</td>\n",
       "      <td>7</td>\n",
       "      <td>bogo</td>\n",
       "      <td>9b98b8c7a33c4b65b9aebfe6a799e6d9</td>\n",
       "    </tr>\n",
       "    <tr>\n",
       "      <th>4</th>\n",
       "      <td>5</td>\n",
       "      <td>[web, email]</td>\n",
       "      <td>20</td>\n",
       "      <td>10</td>\n",
       "      <td>discount</td>\n",
       "      <td>0b1e1539f2cc45b7b9fa7c272da2e1d7</td>\n",
       "    </tr>\n",
       "  </tbody>\n",
       "</table>\n",
       "</div>"
      ],
      "text/plain": [
       "   reward                      channels  difficulty  duration     offer_type  \\\n",
       "0      10       [email, mobile, social]          10         7           bogo   \n",
       "1      10  [web, email, mobile, social]          10         5           bogo   \n",
       "2       0          [web, email, mobile]           0         4  informational   \n",
       "3       5          [web, email, mobile]           5         7           bogo   \n",
       "4       5                  [web, email]          20        10       discount   \n",
       "\n",
       "                                 id  \n",
       "0  ae264e3637204a6fb9bb56bc8210ddfd  \n",
       "1  4d5c57ea9a6940dd891ad53e9dbe8da0  \n",
       "2  3f207df678b143eea3cee63160fa8bed  \n",
       "3  9b98b8c7a33c4b65b9aebfe6a799e6d9  \n",
       "4  0b1e1539f2cc45b7b9fa7c272da2e1d7  "
      ]
     },
     "execution_count": 3,
     "metadata": {},
     "output_type": "execute_result"
    }
   ],
   "source": [
    "# look at first few rows\n",
    "portfolio.head()"
   ]
  },
  {
   "cell_type": "code",
   "execution_count": 4,
   "id": "16c2bc18",
   "metadata": {},
   "outputs": [
    {
     "name": "stdout",
     "output_type": "stream",
     "text": [
      "Number of portfolio data rows: 10\n",
      "Number of portfolio data columns: 6\n"
     ]
    }
   ],
   "source": [
    "# shape of portfolio data\n",
    "print('Number of portfolio data rows: {}'.format(portfolio.shape[0]))\n",
    "print('Number of portfolio data columns: {}'.format(portfolio.shape[1]))"
   ]
  },
  {
   "cell_type": "code",
   "execution_count": 5,
   "id": "2419ff42",
   "metadata": {},
   "outputs": [
    {
     "name": "stdout",
     "output_type": "stream",
     "text": [
      "<class 'pandas.core.frame.DataFrame'>\n",
      "RangeIndex: 10 entries, 0 to 9\n",
      "Data columns (total 6 columns):\n",
      " #   Column      Non-Null Count  Dtype \n",
      "---  ------      --------------  ----- \n",
      " 0   reward      10 non-null     int64 \n",
      " 1   channels    10 non-null     object\n",
      " 2   difficulty  10 non-null     int64 \n",
      " 3   duration    10 non-null     int64 \n",
      " 4   offer_type  10 non-null     object\n",
      " 5   id          10 non-null     object\n",
      "dtypes: int64(3), object(3)\n",
      "memory usage: 608.0+ bytes\n"
     ]
    }
   ],
   "source": [
    "# column information\n",
    "portfolio.info()"
   ]
  },
  {
   "cell_type": "code",
   "execution_count": 6,
   "id": "8005ded6",
   "metadata": {},
   "outputs": [
    {
     "data": {
      "text/plain": [
       "reward        0\n",
       "channels      0\n",
       "difficulty    0\n",
       "duration      0\n",
       "offer_type    0\n",
       "id            0\n",
       "dtype: int64"
      ]
     },
     "execution_count": 6,
     "metadata": {},
     "output_type": "execute_result"
    }
   ],
   "source": [
    "# any missing values\n",
    "portfolio.isna().sum()"
   ]
  },
  {
   "cell_type": "code",
   "execution_count": 7,
   "id": "5efdfc9c",
   "metadata": {},
   "outputs": [
    {
     "data": {
      "text/html": [
       "<div>\n",
       "<style scoped>\n",
       "    .dataframe tbody tr th:only-of-type {\n",
       "        vertical-align: middle;\n",
       "    }\n",
       "\n",
       "    .dataframe tbody tr th {\n",
       "        vertical-align: top;\n",
       "    }\n",
       "\n",
       "    .dataframe thead th {\n",
       "        text-align: right;\n",
       "    }\n",
       "</style>\n",
       "<table border=\"1\" class=\"dataframe\">\n",
       "  <thead>\n",
       "    <tr style=\"text-align: right;\">\n",
       "      <th></th>\n",
       "      <th>count</th>\n",
       "      <th>mean</th>\n",
       "      <th>std</th>\n",
       "      <th>min</th>\n",
       "      <th>25%</th>\n",
       "      <th>50%</th>\n",
       "      <th>75%</th>\n",
       "      <th>max</th>\n",
       "    </tr>\n",
       "  </thead>\n",
       "  <tbody>\n",
       "    <tr>\n",
       "      <th>reward</th>\n",
       "      <td>10.0</td>\n",
       "      <td>4.2</td>\n",
       "      <td>3.583915</td>\n",
       "      <td>0.0</td>\n",
       "      <td>2.0</td>\n",
       "      <td>4.0</td>\n",
       "      <td>5.0</td>\n",
       "      <td>10.0</td>\n",
       "    </tr>\n",
       "    <tr>\n",
       "      <th>difficulty</th>\n",
       "      <td>10.0</td>\n",
       "      <td>7.7</td>\n",
       "      <td>5.831905</td>\n",
       "      <td>0.0</td>\n",
       "      <td>5.0</td>\n",
       "      <td>8.5</td>\n",
       "      <td>10.0</td>\n",
       "      <td>20.0</td>\n",
       "    </tr>\n",
       "    <tr>\n",
       "      <th>duration</th>\n",
       "      <td>10.0</td>\n",
       "      <td>6.5</td>\n",
       "      <td>2.321398</td>\n",
       "      <td>3.0</td>\n",
       "      <td>5.0</td>\n",
       "      <td>7.0</td>\n",
       "      <td>7.0</td>\n",
       "      <td>10.0</td>\n",
       "    </tr>\n",
       "  </tbody>\n",
       "</table>\n",
       "</div>"
      ],
      "text/plain": [
       "            count  mean       std  min  25%  50%   75%   max\n",
       "reward       10.0   4.2  3.583915  0.0  2.0  4.0   5.0  10.0\n",
       "difficulty   10.0   7.7  5.831905  0.0  5.0  8.5  10.0  20.0\n",
       "duration     10.0   6.5  2.321398  3.0  5.0  7.0   7.0  10.0"
      ]
     },
     "execution_count": 7,
     "metadata": {},
     "output_type": "execute_result"
    }
   ],
   "source": [
    "# summary stats\n",
    "portfolio.describe().T"
   ]
  },
  {
   "cell_type": "code",
   "execution_count": 8,
   "id": "71c6b4e2",
   "metadata": {},
   "outputs": [
    {
     "name": "stdout",
     "output_type": "stream",
     "text": [
      "Unique offer ids: 10\n"
     ]
    }
   ],
   "source": [
    "# how many unique offer ids\n",
    "print('Unique offer ids: {}'.format(portfolio.id.nunique()))"
   ]
  },
  {
   "cell_type": "code",
   "execution_count": 9,
   "id": "e8c10179",
   "metadata": {},
   "outputs": [
    {
     "data": {
      "text/plain": [
       "offer_type\n",
       "bogo             4\n",
       "discount         4\n",
       "informational    2\n",
       "Name: id, dtype: int64"
      ]
     },
     "execution_count": 9,
     "metadata": {},
     "output_type": "execute_result"
    }
   ],
   "source": [
    "# distribution of offer ids\n",
    "portfolio.groupby('offer_type')['id'].count()"
   ]
  },
  {
   "cell_type": "code",
   "execution_count": 10,
   "id": "6f47e2d6",
   "metadata": {},
   "outputs": [
    {
     "data": {
      "text/plain": [
       "7     4\n",
       "5     2\n",
       "10    2\n",
       "4     1\n",
       "3     1\n",
       "Name: duration, dtype: int64"
      ]
     },
     "execution_count": 10,
     "metadata": {},
     "output_type": "execute_result"
    }
   ],
   "source": [
    "# distribution of offer durations\n",
    "portfolio.duration.value_counts()"
   ]
  },
  {
   "cell_type": "markdown",
   "id": "69485a6d",
   "metadata": {},
   "source": [
    "### profile.json"
   ]
  },
  {
   "cell_type": "code",
   "execution_count": 11,
   "id": "7df77909",
   "metadata": {},
   "outputs": [
    {
     "data": {
      "text/html": [
       "<div>\n",
       "<style scoped>\n",
       "    .dataframe tbody tr th:only-of-type {\n",
       "        vertical-align: middle;\n",
       "    }\n",
       "\n",
       "    .dataframe tbody tr th {\n",
       "        vertical-align: top;\n",
       "    }\n",
       "\n",
       "    .dataframe thead th {\n",
       "        text-align: right;\n",
       "    }\n",
       "</style>\n",
       "<table border=\"1\" class=\"dataframe\">\n",
       "  <thead>\n",
       "    <tr style=\"text-align: right;\">\n",
       "      <th></th>\n",
       "      <th>gender</th>\n",
       "      <th>age</th>\n",
       "      <th>id</th>\n",
       "      <th>became_member_on</th>\n",
       "      <th>income</th>\n",
       "    </tr>\n",
       "  </thead>\n",
       "  <tbody>\n",
       "    <tr>\n",
       "      <th>0</th>\n",
       "      <td>None</td>\n",
       "      <td>118</td>\n",
       "      <td>68be06ca386d4c31939f3a4f0e3dd783</td>\n",
       "      <td>20170212</td>\n",
       "      <td>NaN</td>\n",
       "    </tr>\n",
       "    <tr>\n",
       "      <th>1</th>\n",
       "      <td>F</td>\n",
       "      <td>55</td>\n",
       "      <td>0610b486422d4921ae7d2bf64640c50b</td>\n",
       "      <td>20170715</td>\n",
       "      <td>112000.0</td>\n",
       "    </tr>\n",
       "    <tr>\n",
       "      <th>2</th>\n",
       "      <td>None</td>\n",
       "      <td>118</td>\n",
       "      <td>38fe809add3b4fcf9315a9694bb96ff5</td>\n",
       "      <td>20180712</td>\n",
       "      <td>NaN</td>\n",
       "    </tr>\n",
       "    <tr>\n",
       "      <th>3</th>\n",
       "      <td>F</td>\n",
       "      <td>75</td>\n",
       "      <td>78afa995795e4d85b5d9ceeca43f5fef</td>\n",
       "      <td>20170509</td>\n",
       "      <td>100000.0</td>\n",
       "    </tr>\n",
       "    <tr>\n",
       "      <th>4</th>\n",
       "      <td>None</td>\n",
       "      <td>118</td>\n",
       "      <td>a03223e636434f42ac4c3df47e8bac43</td>\n",
       "      <td>20170804</td>\n",
       "      <td>NaN</td>\n",
       "    </tr>\n",
       "  </tbody>\n",
       "</table>\n",
       "</div>"
      ],
      "text/plain": [
       "  gender  age                                id  became_member_on    income\n",
       "0   None  118  68be06ca386d4c31939f3a4f0e3dd783          20170212       NaN\n",
       "1      F   55  0610b486422d4921ae7d2bf64640c50b          20170715  112000.0\n",
       "2   None  118  38fe809add3b4fcf9315a9694bb96ff5          20180712       NaN\n",
       "3      F   75  78afa995795e4d85b5d9ceeca43f5fef          20170509  100000.0\n",
       "4   None  118  a03223e636434f42ac4c3df47e8bac43          20170804       NaN"
      ]
     },
     "execution_count": 11,
     "metadata": {},
     "output_type": "execute_result"
    }
   ],
   "source": [
    "# look at first few rows\n",
    "profile.head()"
   ]
  },
  {
   "cell_type": "code",
   "execution_count": 12,
   "id": "a3170f45",
   "metadata": {},
   "outputs": [
    {
     "name": "stdout",
     "output_type": "stream",
     "text": [
      "Number of profile data rows: 17000\n",
      "Number of profile data columns: 5\n"
     ]
    }
   ],
   "source": [
    "# shape of profile data\n",
    "print('Number of profile data rows: {}'.format(profile.shape[0]))\n",
    "print('Number of profile data columns: {}'.format(profile.shape[1]))"
   ]
  },
  {
   "cell_type": "code",
   "execution_count": 13,
   "id": "7019b3a2",
   "metadata": {},
   "outputs": [
    {
     "name": "stdout",
     "output_type": "stream",
     "text": [
      "<class 'pandas.core.frame.DataFrame'>\n",
      "RangeIndex: 17000 entries, 0 to 16999\n",
      "Data columns (total 5 columns):\n",
      " #   Column            Non-Null Count  Dtype  \n",
      "---  ------            --------------  -----  \n",
      " 0   gender            14825 non-null  object \n",
      " 1   age               17000 non-null  int64  \n",
      " 2   id                17000 non-null  object \n",
      " 3   became_member_on  17000 non-null  int64  \n",
      " 4   income            14825 non-null  float64\n",
      "dtypes: float64(1), int64(2), object(2)\n",
      "memory usage: 664.2+ KB\n"
     ]
    }
   ],
   "source": [
    "# column information\n",
    "profile.info()"
   ]
  },
  {
   "cell_type": "code",
   "execution_count": 14,
   "id": "77088ff0",
   "metadata": {},
   "outputs": [
    {
     "data": {
      "text/plain": [
       "gender              2175\n",
       "age                    0\n",
       "id                     0\n",
       "became_member_on       0\n",
       "income              2175\n",
       "dtype: int64"
      ]
     },
     "execution_count": 14,
     "metadata": {},
     "output_type": "execute_result"
    }
   ],
   "source": [
    "# any missing values\n",
    "profile.isna().sum()"
   ]
  },
  {
   "cell_type": "code",
   "execution_count": 15,
   "id": "05ccf6e1",
   "metadata": {},
   "outputs": [
    {
     "data": {
      "text/html": [
       "<div>\n",
       "<style scoped>\n",
       "    .dataframe tbody tr th:only-of-type {\n",
       "        vertical-align: middle;\n",
       "    }\n",
       "\n",
       "    .dataframe tbody tr th {\n",
       "        vertical-align: top;\n",
       "    }\n",
       "\n",
       "    .dataframe thead th {\n",
       "        text-align: right;\n",
       "    }\n",
       "</style>\n",
       "<table border=\"1\" class=\"dataframe\">\n",
       "  <thead>\n",
       "    <tr style=\"text-align: right;\">\n",
       "      <th></th>\n",
       "      <th>count</th>\n",
       "      <th>mean</th>\n",
       "      <th>std</th>\n",
       "      <th>min</th>\n",
       "      <th>25%</th>\n",
       "      <th>50%</th>\n",
       "      <th>75%</th>\n",
       "      <th>max</th>\n",
       "    </tr>\n",
       "  </thead>\n",
       "  <tbody>\n",
       "    <tr>\n",
       "      <th>age</th>\n",
       "      <td>17000.0</td>\n",
       "      <td>6.253141e+01</td>\n",
       "      <td>26.738580</td>\n",
       "      <td>18.0</td>\n",
       "      <td>45.0</td>\n",
       "      <td>58.0</td>\n",
       "      <td>73.0</td>\n",
       "      <td>118.0</td>\n",
       "    </tr>\n",
       "    <tr>\n",
       "      <th>became_member_on</th>\n",
       "      <td>17000.0</td>\n",
       "      <td>2.016703e+07</td>\n",
       "      <td>11677.499961</td>\n",
       "      <td>20130729.0</td>\n",
       "      <td>20160526.0</td>\n",
       "      <td>20170802.0</td>\n",
       "      <td>20171230.0</td>\n",
       "      <td>20180726.0</td>\n",
       "    </tr>\n",
       "    <tr>\n",
       "      <th>income</th>\n",
       "      <td>14825.0</td>\n",
       "      <td>6.540499e+04</td>\n",
       "      <td>21598.299410</td>\n",
       "      <td>30000.0</td>\n",
       "      <td>49000.0</td>\n",
       "      <td>64000.0</td>\n",
       "      <td>80000.0</td>\n",
       "      <td>120000.0</td>\n",
       "    </tr>\n",
       "  </tbody>\n",
       "</table>\n",
       "</div>"
      ],
      "text/plain": [
       "                    count          mean           std         min         25%  \\\n",
       "age               17000.0  6.253141e+01     26.738580        18.0        45.0   \n",
       "became_member_on  17000.0  2.016703e+07  11677.499961  20130729.0  20160526.0   \n",
       "income            14825.0  6.540499e+04  21598.299410     30000.0     49000.0   \n",
       "\n",
       "                         50%         75%         max  \n",
       "age                     58.0        73.0       118.0  \n",
       "became_member_on  20170802.0  20171230.0  20180726.0  \n",
       "income               64000.0     80000.0    120000.0  "
      ]
     },
     "execution_count": 15,
     "metadata": {},
     "output_type": "execute_result"
    }
   ],
   "source": [
    "# summary stats\n",
    "profile.describe().T"
   ]
  },
  {
   "cell_type": "code",
   "execution_count": 16,
   "id": "cf50f8b4",
   "metadata": {},
   "outputs": [
    {
     "data": {
      "text/plain": [
       "gender                 0\n",
       "age                 2175\n",
       "id                  2175\n",
       "became_member_on    2175\n",
       "income                 0\n",
       "dtype: int64"
      ]
     },
     "execution_count": 16,
     "metadata": {},
     "output_type": "execute_result"
    }
   ],
   "source": [
    "# 118 seems a bit high for max age\n",
    "profile.loc[profile['age'] == 118].count()"
   ]
  },
  {
   "cell_type": "code",
   "execution_count": 17,
   "id": "e43a8f34",
   "metadata": {},
   "outputs": [
    {
     "data": {
      "text/plain": [
       "M    8484\n",
       "F    6129\n",
       "O     212\n",
       "Name: gender, dtype: int64"
      ]
     },
     "execution_count": 17,
     "metadata": {},
     "output_type": "execute_result"
    }
   ],
   "source": [
    "profile.gender.value_counts()"
   ]
  },
  {
   "cell_type": "markdown",
   "id": "c4f148e8",
   "metadata": {},
   "source": [
    "### transcript.json"
   ]
  },
  {
   "cell_type": "code",
   "execution_count": 18,
   "id": "b9c4435d",
   "metadata": {},
   "outputs": [
    {
     "data": {
      "text/html": [
       "<div>\n",
       "<style scoped>\n",
       "    .dataframe tbody tr th:only-of-type {\n",
       "        vertical-align: middle;\n",
       "    }\n",
       "\n",
       "    .dataframe tbody tr th {\n",
       "        vertical-align: top;\n",
       "    }\n",
       "\n",
       "    .dataframe thead th {\n",
       "        text-align: right;\n",
       "    }\n",
       "</style>\n",
       "<table border=\"1\" class=\"dataframe\">\n",
       "  <thead>\n",
       "    <tr style=\"text-align: right;\">\n",
       "      <th></th>\n",
       "      <th>person</th>\n",
       "      <th>event</th>\n",
       "      <th>value</th>\n",
       "      <th>time</th>\n",
       "    </tr>\n",
       "  </thead>\n",
       "  <tbody>\n",
       "    <tr>\n",
       "      <th>0</th>\n",
       "      <td>78afa995795e4d85b5d9ceeca43f5fef</td>\n",
       "      <td>offer received</td>\n",
       "      <td>{'offer id': '9b98b8c7a33c4b65b9aebfe6a799e6d9'}</td>\n",
       "      <td>0</td>\n",
       "    </tr>\n",
       "    <tr>\n",
       "      <th>1</th>\n",
       "      <td>a03223e636434f42ac4c3df47e8bac43</td>\n",
       "      <td>offer received</td>\n",
       "      <td>{'offer id': '0b1e1539f2cc45b7b9fa7c272da2e1d7'}</td>\n",
       "      <td>0</td>\n",
       "    </tr>\n",
       "    <tr>\n",
       "      <th>2</th>\n",
       "      <td>e2127556f4f64592b11af22de27a7932</td>\n",
       "      <td>offer received</td>\n",
       "      <td>{'offer id': '2906b810c7d4411798c6938adc9daaa5'}</td>\n",
       "      <td>0</td>\n",
       "    </tr>\n",
       "    <tr>\n",
       "      <th>3</th>\n",
       "      <td>8ec6ce2a7e7949b1bf142def7d0e0586</td>\n",
       "      <td>offer received</td>\n",
       "      <td>{'offer id': 'fafdcd668e3743c1bb461111dcafc2a4'}</td>\n",
       "      <td>0</td>\n",
       "    </tr>\n",
       "    <tr>\n",
       "      <th>4</th>\n",
       "      <td>68617ca6246f4fbc85e91a2a49552598</td>\n",
       "      <td>offer received</td>\n",
       "      <td>{'offer id': '4d5c57ea9a6940dd891ad53e9dbe8da0'}</td>\n",
       "      <td>0</td>\n",
       "    </tr>\n",
       "  </tbody>\n",
       "</table>\n",
       "</div>"
      ],
      "text/plain": [
       "                             person           event  \\\n",
       "0  78afa995795e4d85b5d9ceeca43f5fef  offer received   \n",
       "1  a03223e636434f42ac4c3df47e8bac43  offer received   \n",
       "2  e2127556f4f64592b11af22de27a7932  offer received   \n",
       "3  8ec6ce2a7e7949b1bf142def7d0e0586  offer received   \n",
       "4  68617ca6246f4fbc85e91a2a49552598  offer received   \n",
       "\n",
       "                                              value  time  \n",
       "0  {'offer id': '9b98b8c7a33c4b65b9aebfe6a799e6d9'}     0  \n",
       "1  {'offer id': '0b1e1539f2cc45b7b9fa7c272da2e1d7'}     0  \n",
       "2  {'offer id': '2906b810c7d4411798c6938adc9daaa5'}     0  \n",
       "3  {'offer id': 'fafdcd668e3743c1bb461111dcafc2a4'}     0  \n",
       "4  {'offer id': '4d5c57ea9a6940dd891ad53e9dbe8da0'}     0  "
      ]
     },
     "execution_count": 18,
     "metadata": {},
     "output_type": "execute_result"
    }
   ],
   "source": [
    "# look at first few rows\n",
    "transcript.head()"
   ]
  },
  {
   "cell_type": "code",
   "execution_count": 19,
   "id": "66f3305a",
   "metadata": {},
   "outputs": [
    {
     "name": "stdout",
     "output_type": "stream",
     "text": [
      "Number of transcript data rows: 306534\n",
      "Number of transcript data columns: 4\n"
     ]
    }
   ],
   "source": [
    "# shape of transcript data\n",
    "print('Number of transcript data rows: {}'.format(transcript.shape[0]))\n",
    "print('Number of transcript data columns: {}'.format(transcript.shape[1]))"
   ]
  },
  {
   "cell_type": "code",
   "execution_count": 20,
   "id": "0e8081a3",
   "metadata": {},
   "outputs": [
    {
     "name": "stdout",
     "output_type": "stream",
     "text": [
      "<class 'pandas.core.frame.DataFrame'>\n",
      "RangeIndex: 306534 entries, 0 to 306533\n",
      "Data columns (total 4 columns):\n",
      " #   Column  Non-Null Count   Dtype \n",
      "---  ------  --------------   ----- \n",
      " 0   person  306534 non-null  object\n",
      " 1   event   306534 non-null  object\n",
      " 2   value   306534 non-null  object\n",
      " 3   time    306534 non-null  int64 \n",
      "dtypes: int64(1), object(3)\n",
      "memory usage: 9.4+ MB\n"
     ]
    }
   ],
   "source": [
    "# column information\n",
    "transcript.info()"
   ]
  },
  {
   "cell_type": "code",
   "execution_count": 21,
   "id": "b8fff32a",
   "metadata": {},
   "outputs": [
    {
     "data": {
      "text/plain": [
       "person    0\n",
       "event     0\n",
       "value     0\n",
       "time      0\n",
       "dtype: int64"
      ]
     },
     "execution_count": 21,
     "metadata": {},
     "output_type": "execute_result"
    }
   ],
   "source": [
    "# any missing values\n",
    "transcript.isna().sum()"
   ]
  },
  {
   "cell_type": "code",
   "execution_count": 22,
   "id": "5c7b6df0",
   "metadata": {},
   "outputs": [
    {
     "data": {
      "text/plain": [
       "array(['offer received', 'offer viewed', 'transaction', 'offer completed'],\n",
       "      dtype=object)"
      ]
     },
     "execution_count": 22,
     "metadata": {},
     "output_type": "execute_result"
    }
   ],
   "source": [
    "# what are the unique events\n",
    "transcript.event.unique()"
   ]
  },
  {
   "cell_type": "code",
   "execution_count": 23,
   "id": "ea2e1b0f",
   "metadata": {},
   "outputs": [
    {
     "data": {
      "text/plain": [
       "transaction        138953\n",
       "offer received      76277\n",
       "offer viewed        57725\n",
       "offer completed     33579\n",
       "Name: event, dtype: int64"
      ]
     },
     "execution_count": 23,
     "metadata": {},
     "output_type": "execute_result"
    }
   ],
   "source": [
    "# what are the event counts\n",
    "transcript.event.value_counts()"
   ]
  },
  {
   "cell_type": "code",
   "execution_count": 24,
   "id": "fc522b06",
   "metadata": {},
   "outputs": [
    {
     "data": {
      "text/plain": [
       "{'amount': 0.8300000000000001}"
      ]
     },
     "execution_count": 24,
     "metadata": {},
     "output_type": "execute_result"
    }
   ],
   "source": [
    "# what does a transaction value look like\n",
    "transcript.query('event == \"transaction\"')['value'].iloc[0]"
   ]
  },
  {
   "cell_type": "code",
   "execution_count": 25,
   "id": "87713703",
   "metadata": {},
   "outputs": [
    {
     "data": {
      "text/plain": [
       "{'offer id': '9b98b8c7a33c4b65b9aebfe6a799e6d9'}"
      ]
     },
     "execution_count": 25,
     "metadata": {},
     "output_type": "execute_result"
    }
   ],
   "source": [
    "# what does a offer received value look like\n",
    "transcript.query('event == \"offer received\"')['value'].iloc[0]"
   ]
  },
  {
   "cell_type": "code",
   "execution_count": 26,
   "id": "3b265a48",
   "metadata": {},
   "outputs": [
    {
     "data": {
      "text/plain": [
       "{'offer id': 'f19421c1d4aa40978ebb69ca19b0e20d'}"
      ]
     },
     "execution_count": 26,
     "metadata": {},
     "output_type": "execute_result"
    }
   ],
   "source": [
    "# what does a offer viewed value look like\n",
    "transcript.query('event == \"offer viewed\"')['value'].iloc[0]"
   ]
  },
  {
   "cell_type": "code",
   "execution_count": 27,
   "id": "ebd0dcaa",
   "metadata": {},
   "outputs": [
    {
     "data": {
      "text/plain": [
       "{'offer_id': '2906b810c7d4411798c6938adc9daaa5', 'reward': 2}"
      ]
     },
     "execution_count": 27,
     "metadata": {},
     "output_type": "execute_result"
    }
   ],
   "source": [
    "# what does a offer completed value look like\n",
    "transcript.query('event == \"offer completed\"')['value'].iloc[0]"
   ]
  },
  {
   "cell_type": "markdown",
   "id": "cdbb7a9c",
   "metadata": {},
   "source": [
    "### Data Observations\n",
    "#### portfolio.json\n",
    "- channels can be one-hot encoded\n",
    "- offer_type can be one-hot encoded\n",
    "- id column is offer_id\n",
    "- there are no missing values\n",
    "\n",
    "#### profile.json \n",
    "- id in this data set is a customer id\n",
    "- gender and income each have 2175 missing values. \n",
    "- maximum age is 118, which appears out of line. \n",
    "- age = 118 is in the same 2175 records with missing gender and income.\n",
    "- became_member_on is a data field, but represented as integer\n",
    "\n",
    "#### transcript.json \n",
    "- time column represents hours since start of test, but is integer format\n",
    "- people column is equivalent to customer id in profile dataset"
   ]
  },
  {
   "cell_type": "markdown",
   "id": "80f4e8d6",
   "metadata": {},
   "source": [
    "## Data Cleaning"
   ]
  },
  {
   "cell_type": "markdown",
   "id": "0d0c593c",
   "metadata": {},
   "source": [
    "#### portfolio dataframe\n",
    "- rename \"id\" column to \"offer_id\"\n",
    "- rename \"duration\" column to \"days_open\"\n",
    "- rename \"difficulty\" column to \"min_spend\"\n",
    "- one-hot encode \"channels\" column\n",
    "- one-hot encode \"offer_type\" column\n",
    "- drop \"channels\" and \"offer_type\" columns after one-hot encoding"
   ]
  },
  {
   "cell_type": "code",
   "execution_count": 28,
   "id": "89e9d980",
   "metadata": {},
   "outputs": [
    {
     "data": {
      "text/html": [
       "<div>\n",
       "<style scoped>\n",
       "    .dataframe tbody tr th:only-of-type {\n",
       "        vertical-align: middle;\n",
       "    }\n",
       "\n",
       "    .dataframe tbody tr th {\n",
       "        vertical-align: top;\n",
       "    }\n",
       "\n",
       "    .dataframe thead th {\n",
       "        text-align: right;\n",
       "    }\n",
       "</style>\n",
       "<table border=\"1\" class=\"dataframe\">\n",
       "  <thead>\n",
       "    <tr style=\"text-align: right;\">\n",
       "      <th></th>\n",
       "      <th>offer_id</th>\n",
       "      <th>reward</th>\n",
       "      <th>min_spend</th>\n",
       "      <th>days_open</th>\n",
       "      <th>email</th>\n",
       "      <th>mobile</th>\n",
       "      <th>social</th>\n",
       "      <th>web</th>\n",
       "      <th>bogo</th>\n",
       "      <th>discount</th>\n",
       "      <th>informational</th>\n",
       "    </tr>\n",
       "  </thead>\n",
       "  <tbody>\n",
       "    <tr>\n",
       "      <th>0</th>\n",
       "      <td>ae264e3637204a6fb9bb56bc8210ddfd</td>\n",
       "      <td>10</td>\n",
       "      <td>10</td>\n",
       "      <td>7</td>\n",
       "      <td>1</td>\n",
       "      <td>1</td>\n",
       "      <td>1</td>\n",
       "      <td>0</td>\n",
       "      <td>1</td>\n",
       "      <td>0</td>\n",
       "      <td>0</td>\n",
       "    </tr>\n",
       "    <tr>\n",
       "      <th>1</th>\n",
       "      <td>4d5c57ea9a6940dd891ad53e9dbe8da0</td>\n",
       "      <td>10</td>\n",
       "      <td>10</td>\n",
       "      <td>5</td>\n",
       "      <td>1</td>\n",
       "      <td>1</td>\n",
       "      <td>1</td>\n",
       "      <td>1</td>\n",
       "      <td>1</td>\n",
       "      <td>0</td>\n",
       "      <td>0</td>\n",
       "    </tr>\n",
       "    <tr>\n",
       "      <th>2</th>\n",
       "      <td>3f207df678b143eea3cee63160fa8bed</td>\n",
       "      <td>0</td>\n",
       "      <td>0</td>\n",
       "      <td>4</td>\n",
       "      <td>1</td>\n",
       "      <td>1</td>\n",
       "      <td>0</td>\n",
       "      <td>1</td>\n",
       "      <td>0</td>\n",
       "      <td>0</td>\n",
       "      <td>1</td>\n",
       "    </tr>\n",
       "    <tr>\n",
       "      <th>3</th>\n",
       "      <td>9b98b8c7a33c4b65b9aebfe6a799e6d9</td>\n",
       "      <td>5</td>\n",
       "      <td>5</td>\n",
       "      <td>7</td>\n",
       "      <td>1</td>\n",
       "      <td>1</td>\n",
       "      <td>0</td>\n",
       "      <td>1</td>\n",
       "      <td>1</td>\n",
       "      <td>0</td>\n",
       "      <td>0</td>\n",
       "    </tr>\n",
       "    <tr>\n",
       "      <th>4</th>\n",
       "      <td>0b1e1539f2cc45b7b9fa7c272da2e1d7</td>\n",
       "      <td>5</td>\n",
       "      <td>20</td>\n",
       "      <td>10</td>\n",
       "      <td>1</td>\n",
       "      <td>0</td>\n",
       "      <td>0</td>\n",
       "      <td>1</td>\n",
       "      <td>0</td>\n",
       "      <td>1</td>\n",
       "      <td>0</td>\n",
       "    </tr>\n",
       "    <tr>\n",
       "      <th>5</th>\n",
       "      <td>2298d6c36e964ae4a3e7e9706d1fb8c2</td>\n",
       "      <td>3</td>\n",
       "      <td>7</td>\n",
       "      <td>7</td>\n",
       "      <td>1</td>\n",
       "      <td>1</td>\n",
       "      <td>1</td>\n",
       "      <td>1</td>\n",
       "      <td>0</td>\n",
       "      <td>1</td>\n",
       "      <td>0</td>\n",
       "    </tr>\n",
       "    <tr>\n",
       "      <th>6</th>\n",
       "      <td>fafdcd668e3743c1bb461111dcafc2a4</td>\n",
       "      <td>2</td>\n",
       "      <td>10</td>\n",
       "      <td>10</td>\n",
       "      <td>1</td>\n",
       "      <td>1</td>\n",
       "      <td>1</td>\n",
       "      <td>1</td>\n",
       "      <td>0</td>\n",
       "      <td>1</td>\n",
       "      <td>0</td>\n",
       "    </tr>\n",
       "    <tr>\n",
       "      <th>7</th>\n",
       "      <td>5a8bc65990b245e5a138643cd4eb9837</td>\n",
       "      <td>0</td>\n",
       "      <td>0</td>\n",
       "      <td>3</td>\n",
       "      <td>1</td>\n",
       "      <td>1</td>\n",
       "      <td>1</td>\n",
       "      <td>0</td>\n",
       "      <td>0</td>\n",
       "      <td>0</td>\n",
       "      <td>1</td>\n",
       "    </tr>\n",
       "    <tr>\n",
       "      <th>8</th>\n",
       "      <td>f19421c1d4aa40978ebb69ca19b0e20d</td>\n",
       "      <td>5</td>\n",
       "      <td>5</td>\n",
       "      <td>5</td>\n",
       "      <td>1</td>\n",
       "      <td>1</td>\n",
       "      <td>1</td>\n",
       "      <td>1</td>\n",
       "      <td>1</td>\n",
       "      <td>0</td>\n",
       "      <td>0</td>\n",
       "    </tr>\n",
       "    <tr>\n",
       "      <th>9</th>\n",
       "      <td>2906b810c7d4411798c6938adc9daaa5</td>\n",
       "      <td>2</td>\n",
       "      <td>10</td>\n",
       "      <td>7</td>\n",
       "      <td>1</td>\n",
       "      <td>1</td>\n",
       "      <td>0</td>\n",
       "      <td>1</td>\n",
       "      <td>0</td>\n",
       "      <td>1</td>\n",
       "      <td>0</td>\n",
       "    </tr>\n",
       "  </tbody>\n",
       "</table>\n",
       "</div>"
      ],
      "text/plain": [
       "                           offer_id  reward  min_spend  days_open  email  \\\n",
       "0  ae264e3637204a6fb9bb56bc8210ddfd      10         10          7      1   \n",
       "1  4d5c57ea9a6940dd891ad53e9dbe8da0      10         10          5      1   \n",
       "2  3f207df678b143eea3cee63160fa8bed       0          0          4      1   \n",
       "3  9b98b8c7a33c4b65b9aebfe6a799e6d9       5          5          7      1   \n",
       "4  0b1e1539f2cc45b7b9fa7c272da2e1d7       5         20         10      1   \n",
       "5  2298d6c36e964ae4a3e7e9706d1fb8c2       3          7          7      1   \n",
       "6  fafdcd668e3743c1bb461111dcafc2a4       2         10         10      1   \n",
       "7  5a8bc65990b245e5a138643cd4eb9837       0          0          3      1   \n",
       "8  f19421c1d4aa40978ebb69ca19b0e20d       5          5          5      1   \n",
       "9  2906b810c7d4411798c6938adc9daaa5       2         10          7      1   \n",
       "\n",
       "   mobile  social  web  bogo  discount  informational  \n",
       "0       1       1    0     1         0              0  \n",
       "1       1       1    1     1         0              0  \n",
       "2       1       0    1     0         0              1  \n",
       "3       1       0    1     1         0              0  \n",
       "4       0       0    1     0         1              0  \n",
       "5       1       1    1     0         1              0  \n",
       "6       1       1    1     0         1              0  \n",
       "7       1       1    0     0         0              1  \n",
       "8       1       1    1     1         0              0  \n",
       "9       1       0    1     0         1              0  "
      ]
     },
     "execution_count": 28,
     "metadata": {},
     "output_type": "execute_result"
    }
   ],
   "source": [
    "# call clean_portfolio function to clean the portfolio dataset\n",
    "portfolio_clean = clean_portfolio()\n",
    "portfolio_clean"
   ]
  },
  {
   "cell_type": "markdown",
   "id": "317de3ca",
   "metadata": {},
   "source": [
    "#### profile dataframe\n",
    "- rename \"id\" column to \"customer_id\"\n",
    "- remove the 2175 rows where \"gender\" and \"income\" have missing values and \"age\" equals 118\n",
    "- one-hot encode 'gender' column\n",
    "- convert \"became_member_on\" to datetime and label \"membership_start\"\n",
    "- create \"membership_year\" from \"membership_start\"\n",
    "- reorder columns"
   ]
  },
  {
   "cell_type": "code",
   "execution_count": 29,
   "id": "f57e5eaa",
   "metadata": {},
   "outputs": [
    {
     "data": {
      "text/html": [
       "<div>\n",
       "<style scoped>\n",
       "    .dataframe tbody tr th:only-of-type {\n",
       "        vertical-align: middle;\n",
       "    }\n",
       "\n",
       "    .dataframe tbody tr th {\n",
       "        vertical-align: top;\n",
       "    }\n",
       "\n",
       "    .dataframe thead th {\n",
       "        text-align: right;\n",
       "    }\n",
       "</style>\n",
       "<table border=\"1\" class=\"dataframe\">\n",
       "  <thead>\n",
       "    <tr style=\"text-align: right;\">\n",
       "      <th></th>\n",
       "      <th>customer_id</th>\n",
       "      <th>age</th>\n",
       "      <th>income</th>\n",
       "      <th>female</th>\n",
       "      <th>male</th>\n",
       "      <th>membership_start</th>\n",
       "      <th>membership_year</th>\n",
       "    </tr>\n",
       "  </thead>\n",
       "  <tbody>\n",
       "    <tr>\n",
       "      <th>1</th>\n",
       "      <td>0610b486422d4921ae7d2bf64640c50b</td>\n",
       "      <td>55</td>\n",
       "      <td>112000.0</td>\n",
       "      <td>1</td>\n",
       "      <td>0</td>\n",
       "      <td>2017-07-15</td>\n",
       "      <td>2017</td>\n",
       "    </tr>\n",
       "    <tr>\n",
       "      <th>3</th>\n",
       "      <td>78afa995795e4d85b5d9ceeca43f5fef</td>\n",
       "      <td>75</td>\n",
       "      <td>100000.0</td>\n",
       "      <td>1</td>\n",
       "      <td>0</td>\n",
       "      <td>2017-05-09</td>\n",
       "      <td>2017</td>\n",
       "    </tr>\n",
       "    <tr>\n",
       "      <th>5</th>\n",
       "      <td>e2127556f4f64592b11af22de27a7932</td>\n",
       "      <td>68</td>\n",
       "      <td>70000.0</td>\n",
       "      <td>0</td>\n",
       "      <td>1</td>\n",
       "      <td>2018-04-26</td>\n",
       "      <td>2018</td>\n",
       "    </tr>\n",
       "    <tr>\n",
       "      <th>8</th>\n",
       "      <td>389bc3fa690240e798340f5a15918d5c</td>\n",
       "      <td>65</td>\n",
       "      <td>53000.0</td>\n",
       "      <td>0</td>\n",
       "      <td>1</td>\n",
       "      <td>2018-02-09</td>\n",
       "      <td>2018</td>\n",
       "    </tr>\n",
       "    <tr>\n",
       "      <th>12</th>\n",
       "      <td>2eeac8d8feae4a8cad5a6af0499a211d</td>\n",
       "      <td>58</td>\n",
       "      <td>51000.0</td>\n",
       "      <td>0</td>\n",
       "      <td>1</td>\n",
       "      <td>2017-11-11</td>\n",
       "      <td>2017</td>\n",
       "    </tr>\n",
       "  </tbody>\n",
       "</table>\n",
       "</div>"
      ],
      "text/plain": [
       "                         customer_id  age    income  female  male  \\\n",
       "1   0610b486422d4921ae7d2bf64640c50b   55  112000.0       1     0   \n",
       "3   78afa995795e4d85b5d9ceeca43f5fef   75  100000.0       1     0   \n",
       "5   e2127556f4f64592b11af22de27a7932   68   70000.0       0     1   \n",
       "8   389bc3fa690240e798340f5a15918d5c   65   53000.0       0     1   \n",
       "12  2eeac8d8feae4a8cad5a6af0499a211d   58   51000.0       0     1   \n",
       "\n",
       "   membership_start  membership_year  \n",
       "1        2017-07-15             2017  \n",
       "3        2017-05-09             2017  \n",
       "5        2018-04-26             2018  \n",
       "8        2018-02-09             2018  \n",
       "12       2017-11-11             2017  "
      ]
     },
     "execution_count": 29,
     "metadata": {},
     "output_type": "execute_result"
    }
   ],
   "source": [
    "# call clean_profile to clean profile data\n",
    "profile_clean = clean_profile()\n",
    "profile_clean.head()"
   ]
  },
  {
   "cell_type": "markdown",
   "id": "728cdb36",
   "metadata": {},
   "source": [
    "#### transcript dataframe\n",
    "- rename 'person' column to 'customer_id'\n",
    "- one-hot encode 'event' column\n",
    "- split transcript dataframe into transaction and offers dataframes\n",
    "- extract 'offer_id' from 'value' column\n",
    "- extract 'transaction' from 'value' column\n",
    "- drop unneeded columns"
   ]
  },
  {
   "cell_type": "code",
   "execution_count": 30,
   "id": "a8eeffae",
   "metadata": {},
   "outputs": [],
   "source": [
    "# call clean_transcript to clean transcript data\n",
    "transcript_clean = clean_transcript()"
   ]
  },
  {
   "cell_type": "code",
   "execution_count": 31,
   "id": "37babbc4",
   "metadata": {},
   "outputs": [
    {
     "data": {
      "text/html": [
       "<div>\n",
       "<style scoped>\n",
       "    .dataframe tbody tr th:only-of-type {\n",
       "        vertical-align: middle;\n",
       "    }\n",
       "\n",
       "    .dataframe tbody tr th {\n",
       "        vertical-align: top;\n",
       "    }\n",
       "\n",
       "    .dataframe thead th {\n",
       "        text-align: right;\n",
       "    }\n",
       "</style>\n",
       "<table border=\"1\" class=\"dataframe\">\n",
       "  <thead>\n",
       "    <tr style=\"text-align: right;\">\n",
       "      <th></th>\n",
       "      <th>offer_id</th>\n",
       "      <th>customer_id</th>\n",
       "      <th>offer_completed</th>\n",
       "      <th>offer_received</th>\n",
       "      <th>offer_viewed</th>\n",
       "      <th>amount</th>\n",
       "      <th>time</th>\n",
       "    </tr>\n",
       "  </thead>\n",
       "  <tbody>\n",
       "    <tr>\n",
       "      <th>0</th>\n",
       "      <td>9b98b8c7a33c4b65b9aebfe6a799e6d9</td>\n",
       "      <td>78afa995795e4d85b5d9ceeca43f5fef</td>\n",
       "      <td>0</td>\n",
       "      <td>1</td>\n",
       "      <td>0</td>\n",
       "      <td>NaN</td>\n",
       "      <td>0</td>\n",
       "    </tr>\n",
       "    <tr>\n",
       "      <th>1</th>\n",
       "      <td>0b1e1539f2cc45b7b9fa7c272da2e1d7</td>\n",
       "      <td>a03223e636434f42ac4c3df47e8bac43</td>\n",
       "      <td>0</td>\n",
       "      <td>1</td>\n",
       "      <td>0</td>\n",
       "      <td>NaN</td>\n",
       "      <td>0</td>\n",
       "    </tr>\n",
       "  </tbody>\n",
       "</table>\n",
       "</div>"
      ],
      "text/plain": [
       "                           offer_id                       customer_id  \\\n",
       "0  9b98b8c7a33c4b65b9aebfe6a799e6d9  78afa995795e4d85b5d9ceeca43f5fef   \n",
       "1  0b1e1539f2cc45b7b9fa7c272da2e1d7  a03223e636434f42ac4c3df47e8bac43   \n",
       "\n",
       "   offer_completed  offer_received  offer_viewed  amount  time  \n",
       "0                0               1             0     NaN     0  \n",
       "1                0               1             0     NaN     0  "
      ]
     },
     "execution_count": 31,
     "metadata": {},
     "output_type": "execute_result"
    }
   ],
   "source": [
    "transcript_clean.head(2)"
   ]
  },
  {
   "cell_type": "markdown",
   "id": "7fa3adbb",
   "metadata": {},
   "source": [
    "### Merge dataframes and write out resultant dataframe to csv"
   ]
  },
  {
   "cell_type": "code",
   "execution_count": 32,
   "id": "49251387",
   "metadata": {},
   "outputs": [],
   "source": [
    "# call merge_data to merge cleaned data sets and write out offers and transactions csv files \n",
    "merge_data(portfolio_clean, profile_clean, transcript_clean)"
   ]
  },
  {
   "cell_type": "code",
   "execution_count": 33,
   "id": "bb07aaac",
   "metadata": {},
   "outputs": [
    {
     "data": {
      "text/html": [
       "<div>\n",
       "<style scoped>\n",
       "    .dataframe tbody tr th:only-of-type {\n",
       "        vertical-align: middle;\n",
       "    }\n",
       "\n",
       "    .dataframe tbody tr th {\n",
       "        vertical-align: top;\n",
       "    }\n",
       "\n",
       "    .dataframe thead th {\n",
       "        text-align: right;\n",
       "    }\n",
       "</style>\n",
       "<table border=\"1\" class=\"dataframe\">\n",
       "  <thead>\n",
       "    <tr style=\"text-align: right;\">\n",
       "      <th></th>\n",
       "      <th>offer_id</th>\n",
       "      <th>customer_id</th>\n",
       "      <th>offer_completed</th>\n",
       "      <th>offer_received</th>\n",
       "      <th>offer_viewed</th>\n",
       "      <th>amount</th>\n",
       "      <th>time</th>\n",
       "      <th>reward</th>\n",
       "      <th>min_spend</th>\n",
       "      <th>days_open</th>\n",
       "      <th>...</th>\n",
       "      <th>web</th>\n",
       "      <th>bogo</th>\n",
       "      <th>discount</th>\n",
       "      <th>informational</th>\n",
       "      <th>age</th>\n",
       "      <th>income</th>\n",
       "      <th>female</th>\n",
       "      <th>male</th>\n",
       "      <th>membership_start</th>\n",
       "      <th>membership_year</th>\n",
       "    </tr>\n",
       "  </thead>\n",
       "  <tbody>\n",
       "    <tr>\n",
       "      <th>0</th>\n",
       "      <td>6</td>\n",
       "      <td>7996</td>\n",
       "      <td>0</td>\n",
       "      <td>1</td>\n",
       "      <td>0</td>\n",
       "      <td>NaN</td>\n",
       "      <td>0</td>\n",
       "      <td>5.0</td>\n",
       "      <td>5.0</td>\n",
       "      <td>7.0</td>\n",
       "      <td>...</td>\n",
       "      <td>1.0</td>\n",
       "      <td>1.0</td>\n",
       "      <td>0.0</td>\n",
       "      <td>0.0</td>\n",
       "      <td>75.0</td>\n",
       "      <td>100000.0</td>\n",
       "      <td>1.0</td>\n",
       "      <td>0.0</td>\n",
       "      <td>2017-05-09</td>\n",
       "      <td>2017.0</td>\n",
       "    </tr>\n",
       "    <tr>\n",
       "      <th>1</th>\n",
       "      <td>0</td>\n",
       "      <td>10735</td>\n",
       "      <td>0</td>\n",
       "      <td>1</td>\n",
       "      <td>0</td>\n",
       "      <td>NaN</td>\n",
       "      <td>0</td>\n",
       "      <td>5.0</td>\n",
       "      <td>20.0</td>\n",
       "      <td>10.0</td>\n",
       "      <td>...</td>\n",
       "      <td>1.0</td>\n",
       "      <td>0.0</td>\n",
       "      <td>1.0</td>\n",
       "      <td>0.0</td>\n",
       "      <td>NaN</td>\n",
       "      <td>NaN</td>\n",
       "      <td>NaN</td>\n",
       "      <td>NaN</td>\n",
       "      <td>NaN</td>\n",
       "      <td>NaN</td>\n",
       "    </tr>\n",
       "  </tbody>\n",
       "</table>\n",
       "<p>2 rows × 23 columns</p>\n",
       "</div>"
      ],
      "text/plain": [
       "   offer_id  customer_id  offer_completed  offer_received  offer_viewed  \\\n",
       "0         6         7996                0               1             0   \n",
       "1         0        10735                0               1             0   \n",
       "\n",
       "   amount  time  reward  min_spend  days_open  ...  web  bogo  discount  \\\n",
       "0     NaN     0     5.0        5.0        7.0  ...  1.0   1.0       0.0   \n",
       "1     NaN     0     5.0       20.0       10.0  ...  1.0   0.0       1.0   \n",
       "\n",
       "   informational   age    income  female  male  membership_start  \\\n",
       "0            0.0  75.0  100000.0     1.0   0.0        2017-05-09   \n",
       "1            0.0   NaN       NaN     NaN   NaN               NaN   \n",
       "\n",
       "   membership_year  \n",
       "0           2017.0  \n",
       "1              NaN  \n",
       "\n",
       "[2 rows x 23 columns]"
      ]
     },
     "execution_count": 33,
     "metadata": {},
     "output_type": "execute_result"
    }
   ],
   "source": [
    "# read in cleaned data and display first couple of rows\n",
    "combined_df = pd.read_csv('data/starbucks_combined_data.csv')\n",
    "combined_df.head(2)"
   ]
  },
  {
   "cell_type": "markdown",
   "id": "b600d27d",
   "metadata": {},
   "source": [
    "## Data Exploration and Analysis"
   ]
  },
  {
   "cell_type": "code",
   "execution_count": 34,
   "id": "c3f15b42",
   "metadata": {},
   "outputs": [
    {
     "name": "stdout",
     "output_type": "stream",
     "text": [
      "Number of combined_df data rows: 306534\n",
      "Number of combined_df data columns: 23\n"
     ]
    }
   ],
   "source": [
    "# shape of combined_df\n",
    "print('Number of combined_df data rows: {}'.format(combined_df.shape[0]))\n",
    "print('Number of combined_df data columns: {}'.format(combined_df.shape[1]))"
   ]
  },
  {
   "cell_type": "markdown",
   "id": "eabf1177",
   "metadata": {},
   "source": [
    "For comparison, it may be useful to have 'age' and 'income' ranges."
   ]
  },
  {
   "cell_type": "code",
   "execution_count": 35,
   "id": "b3d32e04",
   "metadata": {},
   "outputs": [
    {
     "data": {
      "text/plain": [
       "count    272762.000000\n",
       "mean         53.840696\n",
       "std          17.551337\n",
       "min          18.000000\n",
       "25%          41.000000\n",
       "50%          55.000000\n",
       "75%          66.000000\n",
       "max         101.000000\n",
       "Name: age, dtype: float64"
      ]
     },
     "execution_count": 35,
     "metadata": {},
     "output_type": "execute_result"
    }
   ],
   "source": [
    "# 'age' summary stats - offers dataset\n",
    "combined_df['age'].describe().T"
   ]
  },
  {
   "cell_type": "code",
   "execution_count": 36,
   "id": "ed72f2e4",
   "metadata": {},
   "outputs": [
    {
     "data": {
      "text/plain": [
       "count    272762.000000\n",
       "mean      64337.000755\n",
       "std       21243.762941\n",
       "min       30000.000000\n",
       "25%       48000.000000\n",
       "50%       62000.000000\n",
       "75%       78000.000000\n",
       "max      120000.000000\n",
       "Name: income, dtype: float64"
      ]
     },
     "execution_count": 36,
     "metadata": {},
     "output_type": "execute_result"
    }
   ],
   "source": [
    "# 'income' summary stats - offers dataset\n",
    "combined_df['income'].describe().T"
   ]
  },
  {
   "cell_type": "code",
   "execution_count": 37,
   "id": "e026b910",
   "metadata": {},
   "outputs": [
    {
     "data": {
      "text/html": [
       "<div>\n",
       "<style scoped>\n",
       "    .dataframe tbody tr th:only-of-type {\n",
       "        vertical-align: middle;\n",
       "    }\n",
       "\n",
       "    .dataframe tbody tr th {\n",
       "        vertical-align: top;\n",
       "    }\n",
       "\n",
       "    .dataframe thead th {\n",
       "        text-align: right;\n",
       "    }\n",
       "</style>\n",
       "<table border=\"1\" class=\"dataframe\">\n",
       "  <thead>\n",
       "    <tr style=\"text-align: right;\">\n",
       "      <th></th>\n",
       "      <th>offer_id</th>\n",
       "      <th>customer_id</th>\n",
       "      <th>offer_completed</th>\n",
       "      <th>offer_received</th>\n",
       "      <th>offer_viewed</th>\n",
       "      <th>amount</th>\n",
       "      <th>time</th>\n",
       "      <th>reward</th>\n",
       "      <th>min_spend</th>\n",
       "      <th>days_open</th>\n",
       "      <th>...</th>\n",
       "      <th>female</th>\n",
       "      <th>male</th>\n",
       "      <th>membership_start</th>\n",
       "      <th>membership_year</th>\n",
       "      <th>18-29</th>\n",
       "      <th>30-44</th>\n",
       "      <th>45-59</th>\n",
       "      <th>60-74</th>\n",
       "      <th>75-89</th>\n",
       "      <th>90-101</th>\n",
       "    </tr>\n",
       "  </thead>\n",
       "  <tbody>\n",
       "    <tr>\n",
       "      <th>0</th>\n",
       "      <td>6</td>\n",
       "      <td>7996</td>\n",
       "      <td>0</td>\n",
       "      <td>1</td>\n",
       "      <td>0</td>\n",
       "      <td>NaN</td>\n",
       "      <td>0</td>\n",
       "      <td>5.0</td>\n",
       "      <td>5.0</td>\n",
       "      <td>7.0</td>\n",
       "      <td>...</td>\n",
       "      <td>1.0</td>\n",
       "      <td>0.0</td>\n",
       "      <td>2017-05-09</td>\n",
       "      <td>2017.0</td>\n",
       "      <td>0</td>\n",
       "      <td>0</td>\n",
       "      <td>0</td>\n",
       "      <td>0</td>\n",
       "      <td>1</td>\n",
       "      <td>0</td>\n",
       "    </tr>\n",
       "    <tr>\n",
       "      <th>1</th>\n",
       "      <td>0</td>\n",
       "      <td>10735</td>\n",
       "      <td>0</td>\n",
       "      <td>1</td>\n",
       "      <td>0</td>\n",
       "      <td>NaN</td>\n",
       "      <td>0</td>\n",
       "      <td>5.0</td>\n",
       "      <td>20.0</td>\n",
       "      <td>10.0</td>\n",
       "      <td>...</td>\n",
       "      <td>NaN</td>\n",
       "      <td>NaN</td>\n",
       "      <td>NaN</td>\n",
       "      <td>NaN</td>\n",
       "      <td>0</td>\n",
       "      <td>0</td>\n",
       "      <td>0</td>\n",
       "      <td>0</td>\n",
       "      <td>0</td>\n",
       "      <td>0</td>\n",
       "    </tr>\n",
       "    <tr>\n",
       "      <th>2</th>\n",
       "      <td>2</td>\n",
       "      <td>15043</td>\n",
       "      <td>0</td>\n",
       "      <td>1</td>\n",
       "      <td>0</td>\n",
       "      <td>NaN</td>\n",
       "      <td>0</td>\n",
       "      <td>2.0</td>\n",
       "      <td>10.0</td>\n",
       "      <td>7.0</td>\n",
       "      <td>...</td>\n",
       "      <td>0.0</td>\n",
       "      <td>1.0</td>\n",
       "      <td>2018-04-26</td>\n",
       "      <td>2018.0</td>\n",
       "      <td>0</td>\n",
       "      <td>0</td>\n",
       "      <td>0</td>\n",
       "      <td>1</td>\n",
       "      <td>0</td>\n",
       "      <td>0</td>\n",
       "    </tr>\n",
       "    <tr>\n",
       "      <th>3</th>\n",
       "      <td>9</td>\n",
       "      <td>9524</td>\n",
       "      <td>0</td>\n",
       "      <td>1</td>\n",
       "      <td>0</td>\n",
       "      <td>NaN</td>\n",
       "      <td>0</td>\n",
       "      <td>2.0</td>\n",
       "      <td>10.0</td>\n",
       "      <td>10.0</td>\n",
       "      <td>...</td>\n",
       "      <td>NaN</td>\n",
       "      <td>NaN</td>\n",
       "      <td>NaN</td>\n",
       "      <td>NaN</td>\n",
       "      <td>0</td>\n",
       "      <td>0</td>\n",
       "      <td>0</td>\n",
       "      <td>0</td>\n",
       "      <td>0</td>\n",
       "      <td>0</td>\n",
       "    </tr>\n",
       "    <tr>\n",
       "      <th>4</th>\n",
       "      <td>4</td>\n",
       "      <td>6939</td>\n",
       "      <td>0</td>\n",
       "      <td>1</td>\n",
       "      <td>0</td>\n",
       "      <td>NaN</td>\n",
       "      <td>0</td>\n",
       "      <td>10.0</td>\n",
       "      <td>10.0</td>\n",
       "      <td>5.0</td>\n",
       "      <td>...</td>\n",
       "      <td>NaN</td>\n",
       "      <td>NaN</td>\n",
       "      <td>NaN</td>\n",
       "      <td>NaN</td>\n",
       "      <td>0</td>\n",
       "      <td>0</td>\n",
       "      <td>0</td>\n",
       "      <td>0</td>\n",
       "      <td>0</td>\n",
       "      <td>0</td>\n",
       "    </tr>\n",
       "  </tbody>\n",
       "</table>\n",
       "<p>5 rows × 28 columns</p>\n",
       "</div>"
      ],
      "text/plain": [
       "   offer_id  customer_id  offer_completed  offer_received  offer_viewed  \\\n",
       "0         6         7996                0               1             0   \n",
       "1         0        10735                0               1             0   \n",
       "2         2        15043                0               1             0   \n",
       "3         9         9524                0               1             0   \n",
       "4         4         6939                0               1             0   \n",
       "\n",
       "   amount  time  reward  min_spend  days_open  ...  female  male  \\\n",
       "0     NaN     0     5.0        5.0        7.0  ...     1.0   0.0   \n",
       "1     NaN     0     5.0       20.0       10.0  ...     NaN   NaN   \n",
       "2     NaN     0     2.0       10.0        7.0  ...     0.0   1.0   \n",
       "3     NaN     0     2.0       10.0       10.0  ...     NaN   NaN   \n",
       "4     NaN     0    10.0       10.0        5.0  ...     NaN   NaN   \n",
       "\n",
       "   membership_start  membership_year  18-29  30-44  45-59  60-74  75-89  \\\n",
       "0        2017-05-09           2017.0      0      0      0      0      1   \n",
       "1               NaN              NaN      0      0      0      0      0   \n",
       "2        2018-04-26           2018.0      0      0      0      1      0   \n",
       "3               NaN              NaN      0      0      0      0      0   \n",
       "4               NaN              NaN      0      0      0      0      0   \n",
       "\n",
       "   90-101  \n",
       "0       0  \n",
       "1       0  \n",
       "2       0  \n",
       "3       0  \n",
       "4       0  \n",
       "\n",
       "[5 rows x 28 columns]"
      ]
     },
     "execution_count": 37,
     "metadata": {},
     "output_type": "execute_result"
    }
   ],
   "source": [
    "# create age bins in offers dataset\n",
    "combined_df = age_bins(combined_df)\n",
    "combined_df.head()"
   ]
  },
  {
   "cell_type": "code",
   "execution_count": 38,
   "id": "beb8a680",
   "metadata": {},
   "outputs": [
    {
     "data": {
      "text/html": [
       "<div>\n",
       "<style scoped>\n",
       "    .dataframe tbody tr th:only-of-type {\n",
       "        vertical-align: middle;\n",
       "    }\n",
       "\n",
       "    .dataframe tbody tr th {\n",
       "        vertical-align: top;\n",
       "    }\n",
       "\n",
       "    .dataframe thead th {\n",
       "        text-align: right;\n",
       "    }\n",
       "</style>\n",
       "<table border=\"1\" class=\"dataframe\">\n",
       "  <thead>\n",
       "    <tr style=\"text-align: right;\">\n",
       "      <th></th>\n",
       "      <th>offer_id</th>\n",
       "      <th>customer_id</th>\n",
       "      <th>offer_completed</th>\n",
       "      <th>offer_received</th>\n",
       "      <th>offer_viewed</th>\n",
       "      <th>amount</th>\n",
       "      <th>time</th>\n",
       "      <th>reward</th>\n",
       "      <th>min_spend</th>\n",
       "      <th>days_open</th>\n",
       "      <th>...</th>\n",
       "      <th>30-44</th>\n",
       "      <th>45-59</th>\n",
       "      <th>60-74</th>\n",
       "      <th>75-89</th>\n",
       "      <th>90-101</th>\n",
       "      <th>30k-49k</th>\n",
       "      <th>50k-69k</th>\n",
       "      <th>70k-89k</th>\n",
       "      <th>90k-109k</th>\n",
       "      <th>110k-120k</th>\n",
       "    </tr>\n",
       "  </thead>\n",
       "  <tbody>\n",
       "    <tr>\n",
       "      <th>0</th>\n",
       "      <td>6</td>\n",
       "      <td>7996</td>\n",
       "      <td>0</td>\n",
       "      <td>1</td>\n",
       "      <td>0</td>\n",
       "      <td>NaN</td>\n",
       "      <td>0</td>\n",
       "      <td>5.0</td>\n",
       "      <td>5.0</td>\n",
       "      <td>7.0</td>\n",
       "      <td>...</td>\n",
       "      <td>0</td>\n",
       "      <td>0</td>\n",
       "      <td>0</td>\n",
       "      <td>1</td>\n",
       "      <td>0</td>\n",
       "      <td>0</td>\n",
       "      <td>0</td>\n",
       "      <td>0</td>\n",
       "      <td>1</td>\n",
       "      <td>0</td>\n",
       "    </tr>\n",
       "    <tr>\n",
       "      <th>1</th>\n",
       "      <td>0</td>\n",
       "      <td>10735</td>\n",
       "      <td>0</td>\n",
       "      <td>1</td>\n",
       "      <td>0</td>\n",
       "      <td>NaN</td>\n",
       "      <td>0</td>\n",
       "      <td>5.0</td>\n",
       "      <td>20.0</td>\n",
       "      <td>10.0</td>\n",
       "      <td>...</td>\n",
       "      <td>0</td>\n",
       "      <td>0</td>\n",
       "      <td>0</td>\n",
       "      <td>0</td>\n",
       "      <td>0</td>\n",
       "      <td>0</td>\n",
       "      <td>0</td>\n",
       "      <td>0</td>\n",
       "      <td>0</td>\n",
       "      <td>0</td>\n",
       "    </tr>\n",
       "    <tr>\n",
       "      <th>2</th>\n",
       "      <td>2</td>\n",
       "      <td>15043</td>\n",
       "      <td>0</td>\n",
       "      <td>1</td>\n",
       "      <td>0</td>\n",
       "      <td>NaN</td>\n",
       "      <td>0</td>\n",
       "      <td>2.0</td>\n",
       "      <td>10.0</td>\n",
       "      <td>7.0</td>\n",
       "      <td>...</td>\n",
       "      <td>0</td>\n",
       "      <td>0</td>\n",
       "      <td>1</td>\n",
       "      <td>0</td>\n",
       "      <td>0</td>\n",
       "      <td>0</td>\n",
       "      <td>0</td>\n",
       "      <td>1</td>\n",
       "      <td>0</td>\n",
       "      <td>0</td>\n",
       "    </tr>\n",
       "    <tr>\n",
       "      <th>3</th>\n",
       "      <td>9</td>\n",
       "      <td>9524</td>\n",
       "      <td>0</td>\n",
       "      <td>1</td>\n",
       "      <td>0</td>\n",
       "      <td>NaN</td>\n",
       "      <td>0</td>\n",
       "      <td>2.0</td>\n",
       "      <td>10.0</td>\n",
       "      <td>10.0</td>\n",
       "      <td>...</td>\n",
       "      <td>0</td>\n",
       "      <td>0</td>\n",
       "      <td>0</td>\n",
       "      <td>0</td>\n",
       "      <td>0</td>\n",
       "      <td>0</td>\n",
       "      <td>0</td>\n",
       "      <td>0</td>\n",
       "      <td>0</td>\n",
       "      <td>0</td>\n",
       "    </tr>\n",
       "    <tr>\n",
       "      <th>4</th>\n",
       "      <td>4</td>\n",
       "      <td>6939</td>\n",
       "      <td>0</td>\n",
       "      <td>1</td>\n",
       "      <td>0</td>\n",
       "      <td>NaN</td>\n",
       "      <td>0</td>\n",
       "      <td>10.0</td>\n",
       "      <td>10.0</td>\n",
       "      <td>5.0</td>\n",
       "      <td>...</td>\n",
       "      <td>0</td>\n",
       "      <td>0</td>\n",
       "      <td>0</td>\n",
       "      <td>0</td>\n",
       "      <td>0</td>\n",
       "      <td>0</td>\n",
       "      <td>0</td>\n",
       "      <td>0</td>\n",
       "      <td>0</td>\n",
       "      <td>0</td>\n",
       "    </tr>\n",
       "  </tbody>\n",
       "</table>\n",
       "<p>5 rows × 32 columns</p>\n",
       "</div>"
      ],
      "text/plain": [
       "   offer_id  customer_id  offer_completed  offer_received  offer_viewed  \\\n",
       "0         6         7996                0               1             0   \n",
       "1         0        10735                0               1             0   \n",
       "2         2        15043                0               1             0   \n",
       "3         9         9524                0               1             0   \n",
       "4         4         6939                0               1             0   \n",
       "\n",
       "   amount  time  reward  min_spend  days_open  ...  30-44  45-59  60-74  \\\n",
       "0     NaN     0     5.0        5.0        7.0  ...      0      0      0   \n",
       "1     NaN     0     5.0       20.0       10.0  ...      0      0      0   \n",
       "2     NaN     0     2.0       10.0        7.0  ...      0      0      1   \n",
       "3     NaN     0     2.0       10.0       10.0  ...      0      0      0   \n",
       "4     NaN     0    10.0       10.0        5.0  ...      0      0      0   \n",
       "\n",
       "   75-89  90-101  30k-49k  50k-69k  70k-89k  90k-109k 110k-120k  \n",
       "0      1       0        0        0        0         1         0  \n",
       "1      0       0        0        0        0         0         0  \n",
       "2      0       0        0        0        1         0         0  \n",
       "3      0       0        0        0        0         0         0  \n",
       "4      0       0        0        0        0         0         0  \n",
       "\n",
       "[5 rows x 32 columns]"
      ]
     },
     "execution_count": 38,
     "metadata": {},
     "output_type": "execute_result"
    }
   ],
   "source": [
    "# create income bins in offers dataset\n",
    "combined_df = income_bins(combined_df)\n",
    "combined_df.head()"
   ]
  },
  {
   "cell_type": "markdown",
   "id": "b02b5d6b",
   "metadata": {},
   "source": [
    "### Look at some simple frequency distributions"
   ]
  },
  {
   "cell_type": "code",
   "execution_count": 39,
   "id": "246b7cc2",
   "metadata": {},
   "outputs": [],
   "source": [
    "# create age and income dictionaries\n",
    "age_cols = ['18-29', '30-44', '45-59', '60-74', '75-89', '90-101']\n",
    "income_cols = ['30k-49k', '50k-69k', '70k-89k', '90k-109k', '110k-120k']"
   ]
  },
  {
   "cell_type": "code",
   "execution_count": 40,
   "id": "3d0dd931",
   "metadata": {},
   "outputs": [
    {
     "data": {
      "text/plain": [
       "18-29      2577\n",
       "30-44      5126\n",
       "45-59     11014\n",
       "60-74      9351\n",
       "75-89      3618\n",
       "90-101      629\n",
       "dtype: int64"
      ]
     },
     "execution_count": 40,
     "metadata": {},
     "output_type": "execute_result"
    }
   ],
   "source": [
    "# age distribution in offers\n",
    "age_dist = combined_df[combined_df['offer_completed'] == 1][age_cols].sum()\n",
    "age_dist"
   ]
  },
  {
   "cell_type": "code",
   "execution_count": 41,
   "id": "f0fce78d",
   "metadata": {},
   "outputs": [
    {
     "data": {
      "image/png": "[encoded data removed]",
      "text/plain": [
       "<Figure size 1400x600 with 1 Axes>"
      ]
     },
     "metadata": {},
     "output_type": "display_data"
    }
   ],
   "source": [
    "# plot offers age distribution\n",
    "plt.figure(figsize = (14, 6))\n",
    "age_dist.plot(kind = 'bar')\n",
    "plt.xlabel('Age Distribution', weight = 'bold')\n",
    "plt.ylabel('Frequency', weight = 'bold')\n",
    "plt.title('Starbucks Completed Offers Age Distribution', weight = 'bold');"
   ]
  },
  {
   "cell_type": "markdown",
   "id": "d50aed5c",
   "metadata": {},
   "source": [
    "> The bulk of Starbucks customers with completed offers fall in the 45-years to 74-years age group."
   ]
  },
  {
   "cell_type": "code",
   "execution_count": 42,
   "id": "24814e8e",
   "metadata": {},
   "outputs": [
    {
     "data": {
      "text/plain": [
       "30k-49k       5943\n",
       "50k-69k      10521\n",
       "70k-89k       9535\n",
       "90k-109k      4865\n",
       "110k-120k     1460\n",
       "dtype: int64"
      ]
     },
     "execution_count": 42,
     "metadata": {},
     "output_type": "execute_result"
    }
   ],
   "source": [
    "# income distribution in offers\n",
    "income_dist = combined_df[combined_df['offer_completed'] == 1][income_cols].sum()\n",
    "income_dist"
   ]
  },
  {
   "cell_type": "code",
   "execution_count": 43,
   "id": "f3ed0810",
   "metadata": {},
   "outputs": [
    {
     "data": {
      "image/png": "[encoded data removed]",
      "text/plain": [
       "<Figure size 1400x600 with 1 Axes>"
      ]
     },
     "metadata": {},
     "output_type": "display_data"
    }
   ],
   "source": [
    "# plot offers income distribution\n",
    "plt.figure(figsize = (14, 6))\n",
    "income_dist.plot(kind = 'bar')\n",
    "plt.xlabel('Income Distribution', weight = 'bold')\n",
    "plt.ylabel('Frequency', weight = 'bold')\n",
    "plt.title('Starbucks Completed Offers Income Distribution', weight = 'bold');"
   ]
  },
  {
   "cell_type": "markdown",
   "id": "d6543d47",
   "metadata": {},
   "source": [
    "> The bulk of Starbucks customers with completed offers fall in the 50,000 - 89,000 income range."
   ]
  },
  {
   "cell_type": "code",
   "execution_count": 44,
   "id": "54b29a1b",
   "metadata": {},
   "outputs": [
    {
     "data": {
      "text/plain": [
       "bogo        15669.0\n",
       "discount    17910.0\n",
       "dtype: float64"
      ]
     },
     "execution_count": 44,
     "metadata": {},
     "output_type": "execute_result"
    }
   ],
   "source": [
    "# offer type distribution in offers\n",
    "offer_type_cols = ['bogo', 'discount']\n",
    "offer_type_dist = combined_df[combined_df['offer_completed'] == 1][offer_type_cols].sum()\n",
    "offer_type_dist"
   ]
  },
  {
   "cell_type": "code",
   "execution_count": 45,
   "id": "f09f1ca4",
   "metadata": {},
   "outputs": [
    {
     "data": {
      "image/png": "[encoded data removed]",
      "text/plain": [
       "<Figure size 1400x600 with 1 Axes>"
      ]
     },
     "metadata": {},
     "output_type": "display_data"
    }
   ],
   "source": [
    "# plot offer type distribution\n",
    "plt.figure(figsize = (14, 6))\n",
    "offer_type_dist.plot(kind = 'bar')\n",
    "plt.xlabel('Offer Type Distribution', weight = 'bold')\n",
    "plt.ylabel('Frequency', weight = 'bold')\n",
    "plt.title('Starbucks Completed Offers by Type', weight = 'bold');"
   ]
  },
  {
   "cell_type": "markdown",
   "id": "1529910b",
   "metadata": {},
   "source": [
    "> Discount offers are slightly more prevelant than bogo."
   ]
  },
  {
   "cell_type": "code",
   "execution_count": 46,
   "id": "a58eca0d",
   "metadata": {},
   "outputs": [
    {
     "data": {
      "text/plain": [
       "email     33579.0\n",
       "mobile    30159.0\n",
       "social    21788.0\n",
       "web       29891.0\n",
       "dtype: float64"
      ]
     },
     "execution_count": 46,
     "metadata": {},
     "output_type": "execute_result"
    }
   ],
   "source": [
    "channels_cols = ['email', 'mobile', 'social', 'web']\n",
    "offer_channels_dist = combined_df[combined_df['offer_completed'] == 1][channels_cols].sum()\n",
    "offer_channels_dist"
   ]
  },
  {
   "cell_type": "code",
   "execution_count": 47,
   "id": "af92472d",
   "metadata": {},
   "outputs": [
    {
     "data": {
      "image/png": "[encoded data removed]",
      "text/plain": [
       "<Figure size 1400x600 with 1 Axes>"
      ]
     },
     "metadata": {},
     "output_type": "display_data"
    }
   ],
   "source": [
    "# plot offer channel distribution\n",
    "plt.figure(figsize = (14, 6))\n",
    "offer_channels_dist.plot(kind = 'bar')\n",
    "plt.xlabel('Offer Channel Distribution', weight = 'bold')\n",
    "plt.ylabel('Frequency', weight = 'bold')\n",
    "plt.title('Starbucks Completed Offers by Channel', weight = 'bold');"
   ]
  },
  {
   "cell_type": "markdown",
   "id": "8832516b",
   "metadata": {},
   "source": [
    "> Email channel frequency is slightly higher than mobile and web."
   ]
  },
  {
   "cell_type": "code",
   "execution_count": 48,
   "id": "1fd5a737",
   "metadata": {},
   "outputs": [
    {
     "data": {
      "text/plain": [
       "male      16466.0\n",
       "female    15477.0\n",
       "dtype: float64"
      ]
     },
     "execution_count": 48,
     "metadata": {},
     "output_type": "execute_result"
    }
   ],
   "source": [
    "# offer type distribution in offers\n",
    "gender_cols = ['male', 'female']\n",
    "gender_dist = combined_df[combined_df['offer_completed'] == 1][gender_cols].sum()\n",
    "gender_dist"
   ]
  },
  {
   "cell_type": "code",
   "execution_count": 49,
   "id": "9935f073",
   "metadata": {},
   "outputs": [
    {
     "data": {
      "image/png": "[encoded data removed]",
      "text/plain": [
       "<Figure size 1400x600 with 1 Axes>"
      ]
     },
     "metadata": {},
     "output_type": "display_data"
    }
   ],
   "source": [
    "# plot gender distribution\n",
    "plt.figure(figsize = (14, 6))\n",
    "gender_dist.plot(kind = 'bar')\n",
    "plt.xlabel('Gender Distribution', weight = 'bold')\n",
    "plt.ylabel('Frequency', weight = 'bold')\n",
    "plt.title('Starbucks Completed Offers by Gender', weight = 'bold');"
   ]
  },
  {
   "cell_type": "markdown",
   "id": "e0716537",
   "metadata": {},
   "source": [
    "> Slightly higher number of completed offers for male customers."
   ]
  },
  {
   "cell_type": "code",
   "execution_count": 50,
   "id": "20ddccc1",
   "metadata": {},
   "outputs": [
    {
     "data": {
      "text/plain": [
       "18-29     15528\n",
       "30-44     24294\n",
       "45-59     37873\n",
       "60-74     31511\n",
       "75-89     12022\n",
       "90-101     2030\n",
       "dtype: int64"
      ]
     },
     "execution_count": 50,
     "metadata": {},
     "output_type": "execute_result"
    }
   ],
   "source": [
    "# age distribution of transaction data\n",
    "t_age_dist = combined_df[combined_df['amount'] > 0][age_cols].sum()\n",
    "t_age_dist"
   ]
  },
  {
   "cell_type": "code",
   "execution_count": 51,
   "id": "d65dd936",
   "metadata": {},
   "outputs": [
    {
     "data": {
      "image/png": "[encoded data removed]",
      "text/plain": [
       "<Figure size 1400x600 with 1 Axes>"
      ]
     },
     "metadata": {},
     "output_type": "display_data"
    }
   ],
   "source": [
    "# plot transaction age distribution\n",
    "plt.figure(figsize = (14, 6))\n",
    "t_age_dist.plot(kind = 'bar')\n",
    "plt.xlabel('Age Distribution', weight = 'bold')\n",
    "plt.ylabel('Frequency', weight = 'bold')\n",
    "plt.title('Starbucks Transactions Age Distribution', weight = 'bold');"
   ]
  },
  {
   "cell_type": "markdown",
   "id": "f3574df9",
   "metadata": {},
   "source": [
    "> Similar to the completed offers data, the bulk of transaction data is in the 45-years to 74-years age groups."
   ]
  },
  {
   "cell_type": "code",
   "execution_count": 52,
   "id": "20e2da4d",
   "metadata": {},
   "outputs": [
    {
     "data": {
      "text/plain": [
       "30k-49k      37075\n",
       "50k-69k      45035\n",
       "70k-89k      26610\n",
       "90k-109k     11178\n",
       "110k-120k     3185\n",
       "dtype: int64"
      ]
     },
     "execution_count": 52,
     "metadata": {},
     "output_type": "execute_result"
    }
   ],
   "source": [
    "# income distribution of transaction data\n",
    "t_income_dist = combined_df[combined_df['amount'] > 0][income_cols].sum()\n",
    "t_income_dist"
   ]
  },
  {
   "cell_type": "code",
   "execution_count": 53,
   "id": "9736eec1",
   "metadata": {},
   "outputs": [
    {
     "data": {
      "image/png": "[encoded data removed]",
      "text/plain": [
       "<Figure size 1400x600 with 1 Axes>"
      ]
     },
     "metadata": {},
     "output_type": "display_data"
    }
   ],
   "source": [
    "# plot transaction income distribution\n",
    "plt.figure(figsize = (14, 6))\n",
    "t_income_dist.plot(kind = 'bar')\n",
    "plt.xlabel('Income Distribution', weight = 'bold')\n",
    "plt.ylabel('Frequency', weight = 'bold')\n",
    "plt.title('Starbucks Transactions Income Distribution', weight = 'bold');"
   ]
  },
  {
   "cell_type": "markdown",
   "id": "97db3e55",
   "metadata": {},
   "source": [
    "> Income distribution is shifted lower with the transaction data, with the bulk in the 30,000 to 69,000 range."
   ]
  },
  {
   "cell_type": "code",
   "execution_count": 54,
   "id": "2444e995",
   "metadata": {},
   "outputs": [
    {
     "data": {
      "text/plain": [
       "male      72794.0\n",
       "female    49382.0\n",
       "dtype: float64"
      ]
     },
     "execution_count": 54,
     "metadata": {},
     "output_type": "execute_result"
    }
   ],
   "source": [
    "# income distribution of transaction data\n",
    "t_gender_dist = combined_df[combined_df['amount'] > 0][gender_cols].sum()\n",
    "t_gender_dist"
   ]
  },
  {
   "cell_type": "code",
   "execution_count": 55,
   "id": "5d238d11",
   "metadata": {},
   "outputs": [
    {
     "data": {
      "image/png": "[encoded data removed]",
      "text/plain": [
       "<Figure size 1400x600 with 1 Axes>"
      ]
     },
     "metadata": {},
     "output_type": "display_data"
    }
   ],
   "source": [
    "# plot gender distribution\n",
    "plt.figure(figsize = (14, 6))\n",
    "t_gender_dist.plot(kind = 'bar')\n",
    "plt.xlabel('Gender Distribution', weight = 'bold')\n",
    "plt.ylabel('Frequency', weight = 'bold')\n",
    "plt.title('Starbucks Transactions by Gender', weight = 'bold');"
   ]
  },
  {
   "cell_type": "markdown",
   "id": "764be554",
   "metadata": {},
   "source": [
    "> Transactions for males are significantly higher."
   ]
  },
  {
   "cell_type": "code",
   "execution_count": 56,
   "id": "05f62d3e",
   "metadata": {},
   "outputs": [
    {
     "data": {
      "text/plain": [
       "customer_id\n",
       "4029     1608.69\n",
       "16081    1365.66\n",
       "11703    1327.74\n",
       "6519     1321.42\n",
       "7673     1319.97\n",
       "5494     1292.86\n",
       "11615    1258.19\n",
       "14016    1251.99\n",
       "9913     1232.40\n",
       "6640     1211.76\n",
       "Name: amount, dtype: float64"
      ]
     },
     "execution_count": 56,
     "metadata": {},
     "output_type": "execute_result"
    }
   ],
   "source": [
    "# which customers are the big spenders\n",
    "top_amounts = combined_df.groupby('customer_id')['amount'].sum().nlargest(10)\n",
    "top_amounts"
   ]
  },
  {
   "cell_type": "code",
   "execution_count": 57,
   "id": "3228f67e",
   "metadata": {},
   "outputs": [
    {
     "data": {
      "image/png": "[encoded data removed]",
      "text/plain": [
       "<Figure size 1400x600 with 1 Axes>"
      ]
     },
     "metadata": {},
     "output_type": "display_data"
    }
   ],
   "source": [
    "# plot gender distribution\n",
    "plt.figure(figsize = (14, 6))\n",
    "top_amounts.plot(kind = 'bar')\n",
    "plt.xlabel('Customer ID', weight = 'bold')\n",
    "plt.ylabel('Amount Spent ($)', weight = 'bold')\n",
    "plt.title('Starbucks Top Spend by Customer ID (Top 10)', weight = 'bold');"
   ]
  },
  {
   "cell_type": "markdown",
   "id": "2adac2d7",
   "metadata": {},
   "source": [
    "> Customer ID 4029 has spent more than 200 dollars above the nearest customer ID."
   ]
  },
  {
   "cell_type": "markdown",
   "id": "30a87623",
   "metadata": {},
   "source": [
    "### Most Popular Recommendation\n",
    "1. Rank offers based on ratio of offers_viewed to offers_received\n",
    "2. Determine the most popular offers_ids based on rank"
   ]
  },
  {
   "cell_type": "code",
   "execution_count": 58,
   "id": "91fa6b91",
   "metadata": {},
   "outputs": [
    {
     "data": {
      "text/html": [
       "<div>\n",
       "<style scoped>\n",
       "    .dataframe tbody tr th:only-of-type {\n",
       "        vertical-align: middle;\n",
       "    }\n",
       "\n",
       "    .dataframe tbody tr th {\n",
       "        vertical-align: top;\n",
       "    }\n",
       "\n",
       "    .dataframe thead th {\n",
       "        text-align: right;\n",
       "    }\n",
       "</style>\n",
       "<table border=\"1\" class=\"dataframe\">\n",
       "  <thead>\n",
       "    <tr style=\"text-align: right;\">\n",
       "      <th></th>\n",
       "      <th>offer_id</th>\n",
       "      <th>offer_received</th>\n",
       "      <th>offer_viewed</th>\n",
       "      <th>viewed_ratio</th>\n",
       "    </tr>\n",
       "  </thead>\n",
       "  <tbody>\n",
       "    <tr>\n",
       "      <th>9</th>\n",
       "      <td>9</td>\n",
       "      <td>7597</td>\n",
       "      <td>7327</td>\n",
       "      <td>0.964460</td>\n",
       "    </tr>\n",
       "    <tr>\n",
       "      <th>4</th>\n",
       "      <td>4</td>\n",
       "      <td>7593</td>\n",
       "      <td>7298</td>\n",
       "      <td>0.961148</td>\n",
       "    </tr>\n",
       "    <tr>\n",
       "      <th>1</th>\n",
       "      <td>1</td>\n",
       "      <td>7646</td>\n",
       "      <td>7337</td>\n",
       "      <td>0.959587</td>\n",
       "    </tr>\n",
       "    <tr>\n",
       "      <th>8</th>\n",
       "      <td>8</td>\n",
       "      <td>7571</td>\n",
       "      <td>7264</td>\n",
       "      <td>0.959451</td>\n",
       "    </tr>\n",
       "    <tr>\n",
       "      <th>5</th>\n",
       "      <td>5</td>\n",
       "      <td>7618</td>\n",
       "      <td>6687</td>\n",
       "      <td>0.877789</td>\n",
       "    </tr>\n",
       "    <tr>\n",
       "      <th>7</th>\n",
       "      <td>7</td>\n",
       "      <td>7658</td>\n",
       "      <td>6716</td>\n",
       "      <td>0.876991</td>\n",
       "    </tr>\n",
       "    <tr>\n",
       "      <th>3</th>\n",
       "      <td>3</td>\n",
       "      <td>7617</td>\n",
       "      <td>4144</td>\n",
       "      <td>0.544046</td>\n",
       "    </tr>\n",
       "    <tr>\n",
       "      <th>6</th>\n",
       "      <td>6</td>\n",
       "      <td>7677</td>\n",
       "      <td>4171</td>\n",
       "      <td>0.543311</td>\n",
       "    </tr>\n",
       "    <tr>\n",
       "      <th>2</th>\n",
       "      <td>2</td>\n",
       "      <td>7632</td>\n",
       "      <td>4118</td>\n",
       "      <td>0.539570</td>\n",
       "    </tr>\n",
       "    <tr>\n",
       "      <th>0</th>\n",
       "      <td>0</td>\n",
       "      <td>7668</td>\n",
       "      <td>2663</td>\n",
       "      <td>0.347287</td>\n",
       "    </tr>\n",
       "    <tr>\n",
       "      <th>10</th>\n",
       "      <td>10</td>\n",
       "      <td>0</td>\n",
       "      <td>0</td>\n",
       "      <td>NaN</td>\n",
       "    </tr>\n",
       "  </tbody>\n",
       "</table>\n",
       "</div>"
      ],
      "text/plain": [
       "    offer_id  offer_received  offer_viewed  viewed_ratio\n",
       "9          9            7597          7327      0.964460\n",
       "4          4            7593          7298      0.961148\n",
       "1          1            7646          7337      0.959587\n",
       "8          8            7571          7264      0.959451\n",
       "5          5            7618          6687      0.877789\n",
       "7          7            7658          6716      0.876991\n",
       "3          3            7617          4144      0.544046\n",
       "6          6            7677          4171      0.543311\n",
       "2          2            7632          4118      0.539570\n",
       "0          0            7668          2663      0.347287\n",
       "10        10               0             0           NaN"
      ]
     },
     "execution_count": 58,
     "metadata": {},
     "output_type": "execute_result"
    }
   ],
   "source": [
    "# offers ranked by viewed_ratio (offers_viewed / offers_received)\n",
    "ranked_viewed = create_ranked_offers(combined_df)\n",
    "ranked_viewed"
   ]
  },
  {
   "cell_type": "code",
   "execution_count": 59,
   "id": "357effc9",
   "metadata": {},
   "outputs": [
    {
     "name": "stdout",
     "output_type": "stream",
     "text": [
      "The top 5 offer recommendations for customer 13234 :\n"
     ]
    },
    {
     "data": {
      "text/plain": [
       "[9, 4, 1, 8, 5]"
      ]
     },
     "execution_count": 59,
     "metadata": {},
     "output_type": "execute_result"
    }
   ],
   "source": [
    "# get the 5 most viewed offer_id's\n",
    "recs_5 = popular_recommendations(13234, 5, ranked_viewed)\n",
    "recs_5"
   ]
  },
  {
   "cell_type": "code",
   "execution_count": 60,
   "id": "1f377eca",
   "metadata": {},
   "outputs": [
    {
     "name": "stdout",
     "output_type": "stream",
     "text": [
      "Please enter a value less than or equal to 11\n"
     ]
    }
   ],
   "source": [
    "# test function handles invalid input\n",
    "recs_err = popular_recommendations(13234, 25, ranked_viewed)\n",
    "recs_err"
   ]
  },
  {
   "cell_type": "markdown",
   "id": "8452bb22",
   "metadata": {},
   "source": [
    "### User-user collaborative filtering\n",
    "1. Create user item matrix\n",
    "    - Each **customer** should only appear in each row once.\n",
    "    - Each **offer** should only show up in one column.\n",
    "    - If a customer has viewed an offer, then place a 1 where the customer-row meets for that offer-column. It does not matter how many times a customer has interacted with the offer, all entries where a customer has interacted with an offer should be a 1.\n",
    "    - If a customer has not interacted with an offer, then place a zero where the customer-row meets for that offer-column.\n",
    "2. Call *find_similar_users* to find customers similar to the input customer_id\n",
    "    - take a customer_id and provide an ordered list of the most similar customers to that customer (from most similar to least similar). The returned result should not contain the provided customer_id, as we know that each customer is similar to him/herself."
   ]
  },
  {
   "cell_type": "code",
   "execution_count": 61,
   "id": "54a71f78",
   "metadata": {},
   "outputs": [
    {
     "data": {
      "text/html": [
       "<div>\n",
       "<style scoped>\n",
       "    .dataframe tbody tr th:only-of-type {\n",
       "        vertical-align: middle;\n",
       "    }\n",
       "\n",
       "    .dataframe tbody tr th {\n",
       "        vertical-align: top;\n",
       "    }\n",
       "\n",
       "    .dataframe thead th {\n",
       "        text-align: right;\n",
       "    }\n",
       "</style>\n",
       "<table border=\"1\" class=\"dataframe\">\n",
       "  <thead>\n",
       "    <tr style=\"text-align: right;\">\n",
       "      <th>offer_id</th>\n",
       "      <th>0</th>\n",
       "      <th>1</th>\n",
       "      <th>2</th>\n",
       "      <th>3</th>\n",
       "      <th>4</th>\n",
       "      <th>5</th>\n",
       "      <th>6</th>\n",
       "      <th>7</th>\n",
       "      <th>8</th>\n",
       "      <th>9</th>\n",
       "      <th>10</th>\n",
       "    </tr>\n",
       "    <tr>\n",
       "      <th>customer_id</th>\n",
       "      <th></th>\n",
       "      <th></th>\n",
       "      <th></th>\n",
       "      <th></th>\n",
       "      <th></th>\n",
       "      <th></th>\n",
       "      <th></th>\n",
       "      <th></th>\n",
       "      <th></th>\n",
       "      <th></th>\n",
       "      <th></th>\n",
       "    </tr>\n",
       "  </thead>\n",
       "  <tbody>\n",
       "    <tr>\n",
       "      <th>0</th>\n",
       "      <td>0</td>\n",
       "      <td>0</td>\n",
       "      <td>1</td>\n",
       "      <td>1</td>\n",
       "      <td>0</td>\n",
       "      <td>1</td>\n",
       "      <td>0</td>\n",
       "      <td>0</td>\n",
       "      <td>1</td>\n",
       "      <td>1</td>\n",
       "      <td>1</td>\n",
       "    </tr>\n",
       "    <tr>\n",
       "      <th>1</th>\n",
       "      <td>0</td>\n",
       "      <td>0</td>\n",
       "      <td>0</td>\n",
       "      <td>0</td>\n",
       "      <td>0</td>\n",
       "      <td>0</td>\n",
       "      <td>0</td>\n",
       "      <td>0</td>\n",
       "      <td>1</td>\n",
       "      <td>0</td>\n",
       "      <td>1</td>\n",
       "    </tr>\n",
       "    <tr>\n",
       "      <th>2</th>\n",
       "      <td>1</td>\n",
       "      <td>1</td>\n",
       "      <td>0</td>\n",
       "      <td>1</td>\n",
       "      <td>0</td>\n",
       "      <td>1</td>\n",
       "      <td>1</td>\n",
       "      <td>0</td>\n",
       "      <td>0</td>\n",
       "      <td>0</td>\n",
       "      <td>1</td>\n",
       "    </tr>\n",
       "    <tr>\n",
       "      <th>3</th>\n",
       "      <td>0</td>\n",
       "      <td>0</td>\n",
       "      <td>0</td>\n",
       "      <td>0</td>\n",
       "      <td>1</td>\n",
       "      <td>1</td>\n",
       "      <td>0</td>\n",
       "      <td>1</td>\n",
       "      <td>0</td>\n",
       "      <td>1</td>\n",
       "      <td>1</td>\n",
       "    </tr>\n",
       "    <tr>\n",
       "      <th>4</th>\n",
       "      <td>0</td>\n",
       "      <td>1</td>\n",
       "      <td>0</td>\n",
       "      <td>0</td>\n",
       "      <td>0</td>\n",
       "      <td>1</td>\n",
       "      <td>1</td>\n",
       "      <td>0</td>\n",
       "      <td>1</td>\n",
       "      <td>0</td>\n",
       "      <td>1</td>\n",
       "    </tr>\n",
       "  </tbody>\n",
       "</table>\n",
       "</div>"
      ],
      "text/plain": [
       "offer_id     0   1   2   3   4   5   6   7   8   9   10\n",
       "customer_id                                            \n",
       "0             0   0   1   1   0   1   0   0   1   1   1\n",
       "1             0   0   0   0   0   0   0   0   1   0   1\n",
       "2             1   1   0   1   0   1   1   0   0   0   1\n",
       "3             0   0   0   0   1   1   0   1   0   1   1\n",
       "4             0   1   0   0   0   1   1   0   1   0   1"
      ]
     },
     "execution_count": 61,
     "metadata": {},
     "output_type": "execute_result"
    }
   ],
   "source": [
    "# create the user item matrix\n",
    "user_item_matrix = create_user_item_matrix(combined_df)\n",
    "user_item_matrix.head()"
   ]
  },
  {
   "cell_type": "code",
   "execution_count": 62,
   "id": "da2bd924",
   "metadata": {},
   "outputs": [
    {
     "name": "stdout",
     "output_type": "stream",
     "text": [
      "User item matrix rows:  17000\n",
      "User item matrix columns:  11\n"
     ]
    }
   ],
   "source": [
    "# shape of the user item matrix\n",
    "print('User item matrix rows: ', user_item_matrix.shape[0])\n",
    "print('User item matrix columns: ', user_item_matrix.shape[1])"
   ]
  },
  {
   "cell_type": "markdown",
   "id": "5d46ba08",
   "metadata": {},
   "source": [
    "#### Find simlar users"
   ]
  },
  {
   "cell_type": "code",
   "execution_count": 63,
   "id": "2dee0307",
   "metadata": {},
   "outputs": [
    {
     "name": "stdout",
     "output_type": "stream",
     "text": [
      "The 10 most similar users to user 13234 are: [5439, 13757, 3133, 10578, 3156, 15533, 15511, 8177, 1055, 11821]\n",
      "The 5 most similar users to user 1759 are: [10807, 5323, 647, 6571, 4228]\n",
      "The 3 most similar users to user 203 are: [5132, 11254, 487]\n"
     ]
    }
   ],
   "source": [
    "# Call find_similar_users, passing in customer_id and user item matrix\n",
    "print(\"The 10 most similar users to user 13234 are: {}\".format(find_similar_users(13234, user_item_matrix)[:10]))\n",
    "print(\"The 5 most similar users to user 1759 are: {}\".format(find_similar_users(1759, user_item_matrix)[:5]))\n",
    "print(\"The 3 most similar users to user 203 are: {}\".format(find_similar_users(203, user_item_matrix)[:3]))"
   ]
  },
  {
   "cell_type": "markdown",
   "id": "cb2b61c4",
   "metadata": {},
   "source": [
    "### Collaborative Filtering\n",
    "1. Create user item matrix\n",
    "    - same as above. Not really necessary, but creating fresh version for this section\n",
    "2. Get a list of offer_ids\n",
    "    - call *get_offer_ids* function\n",
    "3. Get a list of offer_ids for a given customer\n",
    "    - call *get_user_offers* function\n",
    "4. Make recommendations based on closeness to a customer\n",
    "    - call *user_user_recs* function\n",
    "5. Compute correlation between two customers\n",
    "6. Compute Euclidean distance between two customers\n",
    "7. Compute Manhattan distance between two customers"
   ]
  },
  {
   "cell_type": "code",
   "execution_count": 64,
   "id": "26c3a575",
   "metadata": {},
   "outputs": [
    {
     "data": {
      "text/html": [
       "<div>\n",
       "<style scoped>\n",
       "    .dataframe tbody tr th:only-of-type {\n",
       "        vertical-align: middle;\n",
       "    }\n",
       "\n",
       "    .dataframe tbody tr th {\n",
       "        vertical-align: top;\n",
       "    }\n",
       "\n",
       "    .dataframe thead th {\n",
       "        text-align: right;\n",
       "    }\n",
       "</style>\n",
       "<table border=\"1\" class=\"dataframe\">\n",
       "  <thead>\n",
       "    <tr style=\"text-align: right;\">\n",
       "      <th>offer_id</th>\n",
       "      <th>0</th>\n",
       "      <th>1</th>\n",
       "      <th>2</th>\n",
       "      <th>3</th>\n",
       "      <th>4</th>\n",
       "      <th>5</th>\n",
       "      <th>6</th>\n",
       "      <th>7</th>\n",
       "      <th>8</th>\n",
       "      <th>9</th>\n",
       "      <th>10</th>\n",
       "    </tr>\n",
       "    <tr>\n",
       "      <th>customer_id</th>\n",
       "      <th></th>\n",
       "      <th></th>\n",
       "      <th></th>\n",
       "      <th></th>\n",
       "      <th></th>\n",
       "      <th></th>\n",
       "      <th></th>\n",
       "      <th></th>\n",
       "      <th></th>\n",
       "      <th></th>\n",
       "      <th></th>\n",
       "    </tr>\n",
       "  </thead>\n",
       "  <tbody>\n",
       "    <tr>\n",
       "      <th>0</th>\n",
       "      <td>0</td>\n",
       "      <td>0</td>\n",
       "      <td>1</td>\n",
       "      <td>1</td>\n",
       "      <td>0</td>\n",
       "      <td>1</td>\n",
       "      <td>0</td>\n",
       "      <td>0</td>\n",
       "      <td>1</td>\n",
       "      <td>1</td>\n",
       "      <td>1</td>\n",
       "    </tr>\n",
       "    <tr>\n",
       "      <th>1</th>\n",
       "      <td>0</td>\n",
       "      <td>0</td>\n",
       "      <td>0</td>\n",
       "      <td>0</td>\n",
       "      <td>0</td>\n",
       "      <td>0</td>\n",
       "      <td>0</td>\n",
       "      <td>0</td>\n",
       "      <td>1</td>\n",
       "      <td>0</td>\n",
       "      <td>1</td>\n",
       "    </tr>\n",
       "    <tr>\n",
       "      <th>2</th>\n",
       "      <td>1</td>\n",
       "      <td>1</td>\n",
       "      <td>0</td>\n",
       "      <td>1</td>\n",
       "      <td>0</td>\n",
       "      <td>1</td>\n",
       "      <td>1</td>\n",
       "      <td>0</td>\n",
       "      <td>0</td>\n",
       "      <td>0</td>\n",
       "      <td>1</td>\n",
       "    </tr>\n",
       "    <tr>\n",
       "      <th>3</th>\n",
       "      <td>0</td>\n",
       "      <td>0</td>\n",
       "      <td>0</td>\n",
       "      <td>0</td>\n",
       "      <td>1</td>\n",
       "      <td>1</td>\n",
       "      <td>0</td>\n",
       "      <td>1</td>\n",
       "      <td>0</td>\n",
       "      <td>1</td>\n",
       "      <td>1</td>\n",
       "    </tr>\n",
       "    <tr>\n",
       "      <th>4</th>\n",
       "      <td>0</td>\n",
       "      <td>1</td>\n",
       "      <td>0</td>\n",
       "      <td>0</td>\n",
       "      <td>0</td>\n",
       "      <td>1</td>\n",
       "      <td>1</td>\n",
       "      <td>0</td>\n",
       "      <td>1</td>\n",
       "      <td>0</td>\n",
       "      <td>1</td>\n",
       "    </tr>\n",
       "  </tbody>\n",
       "</table>\n",
       "</div>"
      ],
      "text/plain": [
       "offer_id     0   1   2   3   4   5   6   7   8   9   10\n",
       "customer_id                                            \n",
       "0             0   0   1   1   0   1   0   0   1   1   1\n",
       "1             0   0   0   0   0   0   0   0   1   0   1\n",
       "2             1   1   0   1   0   1   1   0   0   0   1\n",
       "3             0   0   0   0   1   1   0   1   0   1   1\n",
       "4             0   1   0   0   0   1   1   0   1   0   1"
      ]
     },
     "execution_count": 64,
     "metadata": {},
     "output_type": "execute_result"
    }
   ],
   "source": [
    "# create the user item matrix for user-user collaborative filtering\n",
    "customer_by_offerid = create_user_item_matrix(combined_df)\n",
    "customer_by_offerid.head()"
   ]
  },
  {
   "cell_type": "markdown",
   "id": "f25d46b1",
   "metadata": {},
   "source": [
    "#### Recommend offers"
   ]
  },
  {
   "cell_type": "code",
   "execution_count": 65,
   "id": "80e83e03",
   "metadata": {},
   "outputs": [
    {
     "name": "stdout",
     "output_type": "stream",
     "text": [
      "The 5 recommended offers for user 13234: ['0' '2' '3' '4' '6']\n",
      "The 5 recommended offers for user 1759: ['0' '2' '3' '4' '5']\n",
      "The 5 recommended offers for user 203: ['0' '1' '2' '4' '6']\n"
     ]
    }
   ],
   "source": [
    "print('The 5 recommended offers for user 13234: {}'.format(get_offer_ids(user_user_recs(13234, customer_by_offerid, 5), combined_df)))\n",
    "print('The 5 recommended offers for user 1759: {}'.format(get_offer_ids(user_user_recs(1759, customer_by_offerid, 5), combined_df)))\n",
    "print('The 5 recommended offers for user 203: {}'.format(get_offer_ids(user_user_recs(203, customer_by_offerid, 5), combined_df)))"
   ]
  },
  {
   "cell_type": "markdown",
   "id": "ecf18ed3",
   "metadata": {},
   "source": [
    "#### Compute the correlation between two customers based on offers"
   ]
  },
  {
   "cell_type": "code",
   "execution_count": 66,
   "id": "d9a12aea",
   "metadata": {},
   "outputs": [
    {
     "name": "stdout",
     "output_type": "stream",
     "text": [
      "The correlation between customers 1759 and 13234 is: -0.2666666666666667\n"
     ]
    }
   ],
   "source": [
    "# compute correlation between two customers\n",
    "print('The correlation between customers 1759 and 13234 is: {}'.format(compute_correlation(customer_by_offerid, 1759, 13234)))"
   ]
  },
  {
   "cell_type": "markdown",
   "id": "2a86d3a9",
   "metadata": {},
   "source": [
    "### Euclidean Distance\n",
    "\n",
    "Euclidean distance can also just be considered as straight-line distance between two vectors.\n",
    "\n",
    "For two vectors **x** and **y**, we can compute this as:\n",
    "\n",
    "$$ EUC(\\textbf{x}, \\textbf{y}) = \\sqrt{\\sum\\limits_{i=1}^{n}(x_i - y_i)^2}$$"
   ]
  },
  {
   "cell_type": "code",
   "execution_count": 67,
   "id": "165c8e12",
   "metadata": {},
   "outputs": [
    {
     "name": "stdout",
     "output_type": "stream",
     "text": [
      "The Euclidean distance between customers 1759 and 13234 is: 2.6457513110645907\n"
     ]
    }
   ],
   "source": [
    "# compute Euclidean distance between two customers\n",
    "print('The Euclidean distance between customers 1759 and 13234 is: {}'.format(compute_euclidean_dist(customer_by_offerid, 1759, 13234)))"
   ]
  },
  {
   "cell_type": "markdown",
   "id": "c6f95f5c",
   "metadata": {},
   "source": [
    "### Manhattan Distance\n",
    "\n",
    "Different from euclidean distance, Manhattan distance is a 'manhattan block' distance from one vector to another.  Therefore, you can imagine this distance as a way to compute the distance between two points when you are not able to go through buildings.\n",
    "\n",
    "Specifically, this distance is computed as:\n",
    "\n",
    "$$ MANHATTAN(\\textbf{x}, \\textbf{y}) = \\sqrt{\\sum\\limits_{i=1}^{n}|x_i - y_i|}$$"
   ]
  },
  {
   "cell_type": "code",
   "execution_count": 68,
   "id": "6be57df9",
   "metadata": {},
   "outputs": [
    {
     "name": "stdout",
     "output_type": "stream",
     "text": [
      "The Manhattan distance between customers 1759 and 13234 is: 7\n"
     ]
    }
   ],
   "source": [
    "# compute Manhattan distance between two customers\n",
    "print('The Manhattan distance between customers 1759 and 13234 is: {}'.format(compute_manhattan_dist(customer_by_offerid, 1759, 13234)))"
   ]
  },
  {
   "cell_type": "markdown",
   "id": "e8c49272",
   "metadata": {},
   "source": [
    "### Matrix Factorization"
   ]
  },
  {
   "cell_type": "code",
   "execution_count": 69,
   "id": "75036248",
   "metadata": {},
   "outputs": [],
   "source": [
    "# initialize Recommender for FunkSVD model\n",
    "rec = Recommender()"
   ]
  },
  {
   "cell_type": "markdown",
   "id": "d6e48c89",
   "metadata": {},
   "source": [
    "#### Fit FunkSVD against full dataset four times, varying latent features by 5 starting at 5."
   ]
  },
  {
   "cell_type": "code",
   "execution_count": 70,
   "id": "a77c9ba6",
   "metadata": {},
   "outputs": [
    {
     "name": "stdout",
     "output_type": "stream",
     "text": [
      "Optimization Statistics\n",
      "Iterations | Mean Squared Error \n",
      "1 \t\t 0.100907\n",
      "16 \t\t 0.039853\n",
      "31 \t\t 0.038101\n",
      "46 \t\t 0.037408\n",
      "61 \t\t 0.036854\n",
      "76 \t\t 0.036331\n",
      "91 \t\t 0.035821\n"
     ]
    }
   ],
   "source": [
    "# fit FunkSVD on combined dataframe with latent features = 5\n",
    "user_mat5, offer_mat5, mse5 = rec.fit(combined_df, latent_features=5)"
   ]
  },
  {
   "cell_type": "code",
   "execution_count": 71,
   "id": "f9894540",
   "metadata": {},
   "outputs": [
    {
     "name": "stdout",
     "output_type": "stream",
     "text": [
      "Optimization Statistics\n",
      "Iterations | Mean Squared Error \n",
      "1 \t\t 0.329028\n",
      "16 \t\t 0.022615\n",
      "31 \t\t 0.019615\n",
      "46 \t\t 0.019054\n",
      "61 \t\t 0.018827\n",
      "76 \t\t 0.018666\n",
      "91 \t\t 0.018522\n"
     ]
    }
   ],
   "source": [
    "# fit FunkSVD on combined dataframe with latent features = 10\n",
    "user_mat10, offer_mat10, mse10 = rec.fit(combined_df, latent_features=10)"
   ]
  },
  {
   "cell_type": "code",
   "execution_count": 72,
   "id": "5b26cdb8",
   "metadata": {},
   "outputs": [
    {
     "name": "stdout",
     "output_type": "stream",
     "text": [
      "Optimization Statistics\n",
      "Iterations | Mean Squared Error \n",
      "1 \t\t 0.789597\n",
      "16 \t\t 0.017528\n",
      "31 \t\t 0.013697\n",
      "46 \t\t 0.013197\n",
      "61 \t\t 0.013059\n",
      "76 \t\t 0.012979\n",
      "91 \t\t 0.012909\n"
     ]
    }
   ],
   "source": [
    "# fit FunkSVD on combined dataframe with latent features = 15\n",
    "user_mat15, offer_mat15, mse15 = rec.fit(combined_df, latent_features=15)"
   ]
  },
  {
   "cell_type": "code",
   "execution_count": 73,
   "id": "d90f9db3",
   "metadata": {},
   "outputs": [
    {
     "name": "stdout",
     "output_type": "stream",
     "text": [
      "Optimization Statistics\n",
      "Iterations | Mean Squared Error \n",
      "1 \t\t 1.137753\n",
      "16 \t\t 0.016540\n",
      "31 \t\t 0.010738\n",
      "46 \t\t 0.009968\n",
      "61 \t\t 0.009796\n",
      "76 \t\t 0.009728\n",
      "91 \t\t 0.009683\n"
     ]
    }
   ],
   "source": [
    "# fit FunkSVD on combined dataframe with latent features = 20\n",
    "user_mat20, offer_mat20, mse20 = rec.fit(combined_df, latent_features=20)"
   ]
  },
  {
   "cell_type": "markdown",
   "id": "573f7ecb",
   "metadata": {},
   "source": [
    "#### Plot MSE of the 4 FunkSVD executions"
   ]
  },
  {
   "cell_type": "code",
   "execution_count": 74,
   "id": "d1d95293",
   "metadata": {},
   "outputs": [
    {
     "data": {
      "image/png": "[encoded data removed]",
      "text/plain": [
       "<Figure size 1400x600 with 1 Axes>"
      ]
     },
     "metadata": {},
     "output_type": "display_data"
    }
   ],
   "source": [
    "# set up plots\n",
    "iters = 100\n",
    "plt.figure(figsize = (14, 6))\n",
    "plt.plot(range(iters), mse5, label = '5 Latent Features')\n",
    "plt.plot(range(iters), mse10, label = '10 Latent Features')\n",
    "plt.plot(range(iters), mse15, label = '15 Latent Features')\n",
    "plt.plot(range(iters), mse20, label = '20 Latent Features')\n",
    "\n",
    "plt.xlabel('Number of Iterations', weight = 'bold')\n",
    "plt.ylabel('Mean Square Error (MSE)', weight = 'bold')\n",
    "plt.title('MSE vs. Number of Iterations based on Latent Features (full combined dataset)', weight = 'bold')\n",
    "\n",
    "plt.legend();"
   ]
  },
  {
   "cell_type": "code",
   "execution_count": 79,
   "id": "b0c4819f",
   "metadata": {},
   "outputs": [
    {
     "data": {
      "text/plain": [
       "0.9889437925901042"
      ]
     },
     "execution_count": 79,
     "metadata": {},
     "output_type": "execute_result"
    }
   ],
   "source": [
    "# predict reaction \n",
    "customer_id = 13234\n",
    "offer_id = 8\n",
    "rec.predict_offer(customer_id, offer_id)"
   ]
  },
  {
   "cell_type": "code",
   "execution_count": 76,
   "id": "8f103cb4",
   "metadata": {},
   "outputs": [],
   "source": [
    "def create_train_test(df, training_size, testing_size):\n",
    "    '''\n",
    "    Purpose:\n",
    "        Create training and validation dataframes\n",
    "        \n",
    "    INPUT:\n",
    "        reviews - (pandas df) dataframe to split into train and test\n",
    "        order_by - (string) column name to sort by\n",
    "        training_size - (int) number of rows in training set\n",
    "        testing_size - (int) number of columns in the test set\n",
    "    \n",
    "    OUTPUT:\n",
    "        training_df -  (pandas df) dataframe of the training set\n",
    "        validation_df - (pandas df) dataframe of the test set\n",
    "    '''\n",
    "    df_new = df.copy()\n",
    "    training_df = df_new.head(training_size)\n",
    "    validation_df = df_new.iloc[training_size:training_size+testing_size]\n",
    "    \n",
    "    return training_df, validation_df"
   ]
  },
  {
   "cell_type": "code",
   "execution_count": 77,
   "id": "9745876d",
   "metadata": {},
   "outputs": [],
   "source": [
    "# create training and validation dataframes\n",
    "train_df, val_df = create_train_test(combined_df, 180000, 120000)"
   ]
  },
  {
   "cell_type": "code",
   "execution_count": 82,
   "id": "bcac80ed",
   "metadata": {},
   "outputs": [],
   "source": [
    "# create training user_item_matrix and array from training dataframe\n",
    "train_user_item = create_user_item_matrix(train_df)\n",
    "train_user_np = np.array(train_user_item)"
   ]
  },
  {
   "cell_type": "code",
   "execution_count": 83,
   "id": "fca26d82",
   "metadata": {},
   "outputs": [],
   "source": [
    "# create validation user_item_matrix and array from validation dataframe\n",
    "val_user_item = create_user_item_matrix(val_df)\n",
    "val_user_np = np.array(val_user_item)"
   ]
  },
  {
   "cell_type": "markdown",
   "id": "8a4fd4be",
   "metadata": {},
   "source": [
    "#### Fit FunkSVD four times, varying latent features by 5 starting at 5."
   ]
  },
  {
   "cell_type": "code",
   "execution_count": 78,
   "id": "311d4695",
   "metadata": {},
   "outputs": [
    {
     "name": "stdout",
     "output_type": "stream",
     "text": [
      "Optimization Statistics\n",
      "Iterations | Mean Squared Error \n",
      "1 \t\t 0.137405\n",
      "16 \t\t 0.038822\n",
      "31 \t\t 0.037154\n",
      "46 \t\t 0.036492\n",
      "61 \t\t 0.035964\n",
      "76 \t\t 0.035464\n",
      "91 \t\t 0.034974\n"
     ]
    }
   ],
   "source": [
    "# Fit FunkSVD with the specified hyper parameters to the training data. Start with 5 latent features.\n",
    "user_mat5, offer_mat5, mse5 = rec.fit(combined_df, latent_features=5)"
   ]
  },
  {
   "cell_type": "code",
   "execution_count": 79,
   "id": "0973285d",
   "metadata": {},
   "outputs": [
    {
     "name": "stdout",
     "output_type": "stream",
     "text": [
      "Optimization Statistics\n",
      "Iterations | Mean Squared Error \n",
      "1 \t\t 0.357269\n",
      "16 \t\t 0.023163\n",
      "31 \t\t 0.020100\n",
      "46 \t\t 0.019616\n",
      "61 \t\t 0.019412\n",
      "76 \t\t 0.019255\n",
      "91 \t\t 0.019109\n"
     ]
    }
   ],
   "source": [
    "# Fit FunkSVD with the specified hyper parameters to the training data. 10 latent features.\n",
    "user_mat10, offer_mat10, mse10 = rec.fit(combined_df, latent_features=10)"
   ]
  },
  {
   "cell_type": "code",
   "execution_count": 80,
   "id": "2633e0b2",
   "metadata": {},
   "outputs": [
    {
     "name": "stdout",
     "output_type": "stream",
     "text": [
      "Optimization Statistics\n",
      "Iterations | Mean Squared Error \n",
      "1 \t\t 0.571072\n",
      "16 \t\t 0.017503\n",
      "31 \t\t 0.013733\n",
      "46 \t\t 0.013208\n",
      "61 \t\t 0.013062\n",
      "76 \t\t 0.012979\n",
      "91 \t\t 0.012909\n"
     ]
    }
   ],
   "source": [
    "# Fit FunkSVD with the specified hyper parameters to the training data. 15 latent features.\n",
    "user_mat15, offer_mat15, mse15 = rec.fit(combined_df, latent_features=15)"
   ]
  },
  {
   "cell_type": "code",
   "execution_count": 81,
   "id": "36a9e8cb",
   "metadata": {},
   "outputs": [
    {
     "name": "stdout",
     "output_type": "stream",
     "text": [
      "Optimization Statistics\n",
      "Iterations | Mean Squared Error \n",
      "1 \t\t 0.790829\n",
      "16 \t\t 0.017163\n",
      "31 \t\t 0.013613\n",
      "46 \t\t 0.013127\n",
      "61 \t\t 0.012982\n",
      "76 \t\t 0.012896\n",
      "91 \t\t 0.012825\n"
     ]
    }
   ],
   "source": [
    "# Fit FunkSVD with the specified hyper parameters to the training data. 20 latent features.\n",
    "user_mat20, offer_mat20, mse20 = rec.fit(combined_df, latent_features=15)"
   ]
  },
  {
   "cell_type": "markdown",
   "id": "3ead60b2",
   "metadata": {},
   "source": [
    "#### Plot the MSEs from the four FunkSVD fits"
   ]
  },
  {
   "cell_type": "code",
   "execution_count": 85,
   "id": "262d3ed2",
   "metadata": {},
   "outputs": [
    {
     "data": {
      "image/png": "[encoded data removed]",
      "text/plain": [
       "<Figure size 1400x600 with 1 Axes>"
      ]
     },
     "metadata": {},
     "output_type": "display_data"
    }
   ],
   "source": [
    "# set up plots\n",
    "iters = 100\n",
    "plt.figure(figsize = (14, 6))\n",
    "plt.plot(range(iters), mse5, label = '5 Latent Features')\n",
    "plt.plot(range(iters), mse10, label = '10 Latent Features')\n",
    "plt.plot(range(iters), mse15, label = '15 Latent Features')\n",
    "plt.plot(range(iters), mse20, label = '20 Latent Features')\n",
    "\n",
    "plt.yticks([0.0, 0.1, 0.2, 0.3, 0.4, 0.5, 0.6, 0.7, 0.8, 0.9, 1.0])\n",
    "\n",
    "plt.xlabel('Number of Iterations', weight = 'bold')\n",
    "plt.ylabel('Mean Square Error (MSE)', weight = 'bold')\n",
    "plt.title('MSE vs. Number of Iterations based on Latent Features (training data)', weight = 'bold')\n",
    "\n",
    "plt.legend();"
   ]
  },
  {
   "cell_type": "code",
   "execution_count": 97,
   "id": "9376b6ac",
   "metadata": {},
   "outputs": [],
   "source": [
    "def predict_offer(user_matrix, offer_matrix, customer_id, offer_id):\n",
    "    '''\n",
    "    INPUT:\n",
    "    user_matrix - user by latent factor matrix\n",
    "    offer_matrix - latent factor by offer matrix\n",
    "    customer_id - the customer_id \n",
    "    offer_id - the offer_id\n",
    "    \n",
    "    OUTPUT:\n",
    "    pred - the predicted rating for customer_id-offer_id according to FunkSVD\n",
    "    '''\n",
    "    try:\n",
    "        # Create series of customers and offers in the right order\n",
    "        customer_ids_series = np.array(train_user_item.index)\n",
    "        offer_ids_series = np.array(train_user_item.columns)\n",
    "    \n",
    "        # customer row and offer column\n",
    "        customer_row = np.where(customer_ids_series == customer_id)[0][0]\n",
    "        offer_col = np.where(offer_ids_series == offer_id)[0][0]\n",
    "    \n",
    "        # Take dot product of that row and column in U and V to make prediction\n",
    "        pred = np.dot(user_matrix[customer_row, :], offer_matrix[:, offer_col])\n",
    "        \n",
    "        return pred\n",
    "        \n",
    "    except:\n",
    "        #print('A prediction cannot be made for this customer_id / offer_id pair.')\n",
    "    \n",
    "        return "
   ]
  },
  {
   "cell_type": "code",
   "execution_count": 98,
   "id": "0fb7abd2",
   "metadata": {},
   "outputs": [
    {
     "data": {
      "text/plain": [
       "1.0681162294617081"
      ]
     },
     "execution_count": 98,
     "metadata": {},
     "output_type": "execute_result"
    }
   ],
   "source": [
    "# test prediction function for valid customer_id\n",
    "customer = 11265\n",
    "offer = 5\n",
    "pred_val = predict_offer(user_mat20, offer_mat20, customer, offer)\n",
    "pred_val"
   ]
  },
  {
   "cell_type": "code",
   "execution_count": 108,
   "id": "36f6a1dd",
   "metadata": {},
   "outputs": [],
   "source": [
    "# test prediction function for valid customer_id\n",
    "customer = 999999\n",
    "offer = 5\n",
    "pred_val = predict_offer(user_mat20, offer_mat20, customer, offer)\n",
    "pred_val"
   ]
  },
  {
   "cell_type": "code",
   "execution_count": 113,
   "id": "5e2df2b1",
   "metadata": {},
   "outputs": [],
   "source": [
    "def validate_prediction(val_user_item, user_mat, offer_mat, latent_features):\n",
    "    '''\n",
    "    '''\n",
    "    \n",
    "    num_complete = np.count_nonzero(~np.isnan(val_user_item))\n",
    "    \n",
    "    # initialize sse_accum and diff\n",
    "    sse_accum = 0\n",
    "    diff = 0\n",
    "    \n",
    "    # initialize accuracy list\n",
    "    accuracy = []\n",
    "    \n",
    "    for cust_id in val_user_item.index:\n",
    "        for offer_id in val_user_item.columns:\n",
    "            if ~np.isnan(val_user_item.loc[cust_id, offer_id]):\n",
    "                predict_value = predict_offer(user_mat, offer_mat, cust_id, offer_id)\n",
    "                \n",
    "                if predict_value != None:\n",
    "                    diff = val_user_item.loc[cust_id, offer_id] - predict_offer(user_mat, offer_mat, cust_id, offer_id)\n",
    "                    sse_accum += diff**2\n",
    "                    accuracy.append(abs(diff))\n",
    "                    \n",
    "    # calculate MSE, RMSE, and accuracy test\n",
    "    mse = sse_accum / num_complete\n",
    "    rmse = sqrt(mse)\n",
    "    accuracy_test = 1 - sum(accuracy) / num_complete \n",
    "    \n",
    "    print('MSE for validation of {} latent features is: {}'.format(latent_features, mse))\n",
    "    print('RMSE for validation of {} latent features is: {}'.format(latent_features, rmse))\n",
    "    print('Accuracy for validation of {} latent features is: {}'.format(latent_features, accuracy_test))\n",
    "    \n",
    "    return "
   ]
  },
  {
   "cell_type": "code",
   "execution_count": 114,
   "id": "31ffa846",
   "metadata": {},
   "outputs": [
    {
     "name": "stdout",
     "output_type": "stream",
     "text": [
      "MSE for validation of 20 latent features is: 0.7771963813490763\n",
      "RMSE for validation of 20 latent features is: 0.8815874212743036\n",
      "Accuracy for validation of 20 latent features is: 0.21828943221708452\n"
     ]
    }
   ],
   "source": [
    "# validation for 20 latent features\n",
    "validate_prediction(val_user_item, user_mat20, offer_mat20, 20)"
   ]
  },
  {
   "cell_type": "code",
   "execution_count": 115,
   "id": "ab763990",
   "metadata": {},
   "outputs": [
    {
     "name": "stdout",
     "output_type": "stream",
     "text": [
      "MSE for validation of 15 latent features is: 0.7577465712576962\n",
      "RMSE for validation of 15 latent features is: 0.8704863992376309\n",
      "Accuracy for validation of 15 latent features is: 0.22816520740640667\n"
     ]
    }
   ],
   "source": [
    "# validation for 15 latent features\n",
    "validate_prediction(val_user_item, user_mat15, offer_mat15, 15)"
   ]
  },
  {
   "cell_type": "code",
   "execution_count": 116,
   "id": "0b33d713",
   "metadata": {},
   "outputs": [
    {
     "name": "stdout",
     "output_type": "stream",
     "text": [
      "MSE for validation of 10 latent features is: 0.7719721619924921\n",
      "RMSE for validation of 10 latent features is: 0.8786194637000093\n",
      "Accuracy for validation of 10 latent features is: 0.2210114065821046\n"
     ]
    }
   ],
   "source": [
    "# validation for 10 latent features\n",
    "validate_prediction(val_user_item, user_mat10, offer_mat10, 10)"
   ]
  },
  {
   "cell_type": "code",
   "execution_count": 117,
   "id": "e0275058",
   "metadata": {},
   "outputs": [
    {
     "name": "stdout",
     "output_type": "stream",
     "text": [
      "MSE for validation of 5 latent features is: 0.7784217362635362\n",
      "RMSE for validation of 5 latent features is: 0.8822821182952402\n",
      "Accuracy for validation of 5 latent features is: 0.2179933107809987\n"
     ]
    }
   ],
   "source": [
    "# validation for 5 latent features\n",
    "validate_prediction(val_user_item, user_mat5, offer_mat5, 5)"
   ]
  },
  {
   "cell_type": "code",
   "execution_count": 198,
   "id": "f6de0da6",
   "metadata": {},
   "outputs": [],
   "source": [
    "def val2(user_mat, offer_mat):\n",
    "    '''\n",
    "    '''\n",
    "    offer_idx = offer_mat.index.intersection (user_mat.index)\n",
    "    offer_cols = offer_mat.columns\n",
    "\n",
    "    # initialize sse_accum and diff variables, and accuracy list\n",
    "    sse_accum = 0\n",
    "    diff = 0\n",
    "    accuracy = []\n",
    "\n",
    "    num_complete = np.count_nonzero(~np.isnan(val_user_item))\n",
    "    \n",
    "    for i in offer_idx: \n",
    "        for j in offer_cols: \n",
    "            if offer_mat.at [i,j]>=0:\n",
    "                # compute the error as the actual minus the dot product of the user and offer latent features\n",
    "                diff = offer_mat.at [i,j] - user_mat.at [i,j]\n",
    "                        \n",
    "                # Keep track of the sum of squared errors accuracy for the matrix\n",
    "                sse_accum += diff**2\n",
    "                accuracy.append(abs(diff))\n",
    "\n",
    "    # calculate MSE, RMSE, and accuracy test\n",
    "    mse = sse_accum / num_complete\n",
    "    rmse = sqrt(mse)\n",
    "    accuracy_test = 1 - sum(accuracy)/ num_complete \n",
    "    \n",
    "    print('MSE for this validation is: {}'.format(mse))\n",
    "    print('RMSE for this validation is: {}'.format(rmse))\n",
    "    print('Accuracy for this validation is: {}'.format(accuracy_test))\n",
    "    \n",
    "    return"
   ]
  },
  {
   "cell_type": "code",
   "execution_count": 199,
   "id": "1fd14de3",
   "metadata": {},
   "outputs": [
    {
     "name": "stdout",
     "output_type": "stream",
     "text": [
      "MSE for this validation is: 0.14751749384157892\n",
      "RMSE for this validation is: 0.3840800617600176\n",
      "Accuracy for this validation is: 0.8524825061584211\n"
     ]
    }
   ],
   "source": [
    "val2(train_user_item, val_user_item)"
   ]
  },
  {
   "cell_type": "code",
   "execution_count": 201,
   "id": "100db8b7",
   "metadata": {},
   "outputs": [],
   "source": [
    "user_mat20_df = pd.DataFrame(user_mat20)"
   ]
  },
  {
   "cell_type": "code",
   "execution_count": 202,
   "id": "f5bac438",
   "metadata": {},
   "outputs": [
    {
     "data": {
      "text/html": [
       "<div>\n",
       "<style scoped>\n",
       "    .dataframe tbody tr th:only-of-type {\n",
       "        vertical-align: middle;\n",
       "    }\n",
       "\n",
       "    .dataframe tbody tr th {\n",
       "        vertical-align: top;\n",
       "    }\n",
       "\n",
       "    .dataframe thead th {\n",
       "        text-align: right;\n",
       "    }\n",
       "</style>\n",
       "<table border=\"1\" class=\"dataframe\">\n",
       "  <thead>\n",
       "    <tr style=\"text-align: right;\">\n",
       "      <th></th>\n",
       "      <th>0</th>\n",
       "      <th>1</th>\n",
       "      <th>2</th>\n",
       "      <th>3</th>\n",
       "      <th>4</th>\n",
       "      <th>5</th>\n",
       "      <th>6</th>\n",
       "      <th>7</th>\n",
       "      <th>8</th>\n",
       "      <th>9</th>\n",
       "      <th>10</th>\n",
       "      <th>11</th>\n",
       "      <th>12</th>\n",
       "      <th>13</th>\n",
       "      <th>14</th>\n",
       "      <th>15</th>\n",
       "      <th>16</th>\n",
       "      <th>17</th>\n",
       "      <th>18</th>\n",
       "      <th>19</th>\n",
       "    </tr>\n",
       "  </thead>\n",
       "  <tbody>\n",
       "    <tr>\n",
       "      <th>0</th>\n",
       "      <td>0.322695</td>\n",
       "      <td>0.867363</td>\n",
       "      <td>0.888960</td>\n",
       "      <td>0.153926</td>\n",
       "      <td>0.147670</td>\n",
       "      <td>0.200339</td>\n",
       "      <td>0.300682</td>\n",
       "      <td>0.259750</td>\n",
       "      <td>0.718011</td>\n",
       "      <td>0.807078</td>\n",
       "      <td>0.961542</td>\n",
       "      <td>0.398811</td>\n",
       "      <td>0.819573</td>\n",
       "      <td>0.817037</td>\n",
       "      <td>0.185619</td>\n",
       "      <td>0.722172</td>\n",
       "      <td>0.189020</td>\n",
       "      <td>-0.043424</td>\n",
       "      <td>0.410381</td>\n",
       "      <td>0.867449</td>\n",
       "    </tr>\n",
       "    <tr>\n",
       "      <th>1</th>\n",
       "      <td>0.252855</td>\n",
       "      <td>0.298659</td>\n",
       "      <td>1.004473</td>\n",
       "      <td>0.682693</td>\n",
       "      <td>0.170106</td>\n",
       "      <td>0.061190</td>\n",
       "      <td>0.893473</td>\n",
       "      <td>0.238962</td>\n",
       "      <td>0.751133</td>\n",
       "      <td>0.420458</td>\n",
       "      <td>0.105449</td>\n",
       "      <td>0.048560</td>\n",
       "      <td>0.712054</td>\n",
       "      <td>0.654813</td>\n",
       "      <td>0.373847</td>\n",
       "      <td>0.782342</td>\n",
       "      <td>0.186357</td>\n",
       "      <td>0.390041</td>\n",
       "      <td>0.496090</td>\n",
       "      <td>0.289620</td>\n",
       "    </tr>\n",
       "    <tr>\n",
       "      <th>2</th>\n",
       "      <td>0.855403</td>\n",
       "      <td>0.275531</td>\n",
       "      <td>0.005729</td>\n",
       "      <td>0.749736</td>\n",
       "      <td>0.573023</td>\n",
       "      <td>0.890439</td>\n",
       "      <td>0.451990</td>\n",
       "      <td>0.321078</td>\n",
       "      <td>0.607845</td>\n",
       "      <td>0.012906</td>\n",
       "      <td>0.495153</td>\n",
       "      <td>0.686241</td>\n",
       "      <td>0.143671</td>\n",
       "      <td>0.489461</td>\n",
       "      <td>0.530279</td>\n",
       "      <td>0.694368</td>\n",
       "      <td>0.597142</td>\n",
       "      <td>0.789316</td>\n",
       "      <td>0.404252</td>\n",
       "      <td>0.207496</td>\n",
       "    </tr>\n",
       "    <tr>\n",
       "      <th>3</th>\n",
       "      <td>0.367998</td>\n",
       "      <td>0.691698</td>\n",
       "      <td>0.143464</td>\n",
       "      <td>0.370430</td>\n",
       "      <td>0.824336</td>\n",
       "      <td>0.359386</td>\n",
       "      <td>0.721738</td>\n",
       "      <td>0.854633</td>\n",
       "      <td>0.648206</td>\n",
       "      <td>0.049929</td>\n",
       "      <td>0.354369</td>\n",
       "      <td>0.275358</td>\n",
       "      <td>0.212150</td>\n",
       "      <td>0.212205</td>\n",
       "      <td>0.894152</td>\n",
       "      <td>0.423612</td>\n",
       "      <td>0.308699</td>\n",
       "      <td>0.055345</td>\n",
       "      <td>0.597417</td>\n",
       "      <td>0.598847</td>\n",
       "    </tr>\n",
       "    <tr>\n",
       "      <th>4</th>\n",
       "      <td>0.717938</td>\n",
       "      <td>0.420250</td>\n",
       "      <td>0.581287</td>\n",
       "      <td>0.014934</td>\n",
       "      <td>0.598630</td>\n",
       "      <td>0.580727</td>\n",
       "      <td>0.789571</td>\n",
       "      <td>0.600377</td>\n",
       "      <td>0.906483</td>\n",
       "      <td>0.286452</td>\n",
       "      <td>0.874746</td>\n",
       "      <td>0.144424</td>\n",
       "      <td>0.198611</td>\n",
       "      <td>0.868066</td>\n",
       "      <td>0.694760</td>\n",
       "      <td>0.940284</td>\n",
       "      <td>0.915209</td>\n",
       "      <td>0.068731</td>\n",
       "      <td>0.393995</td>\n",
       "      <td>0.336225</td>\n",
       "    </tr>\n",
       "  </tbody>\n",
       "</table>\n",
       "</div>"
      ],
      "text/plain": [
       "         0         1         2         3         4         5         6   \\\n",
       "0  0.322695  0.867363  0.888960  0.153926  0.147670  0.200339  0.300682   \n",
       "1  0.252855  0.298659  1.004473  0.682693  0.170106  0.061190  0.893473   \n",
       "2  0.855403  0.275531  0.005729  0.749736  0.573023  0.890439  0.451990   \n",
       "3  0.367998  0.691698  0.143464  0.370430  0.824336  0.359386  0.721738   \n",
       "4  0.717938  0.420250  0.581287  0.014934  0.598630  0.580727  0.789571   \n",
       "\n",
       "         7         8         9         10        11        12        13  \\\n",
       "0  0.259750  0.718011  0.807078  0.961542  0.398811  0.819573  0.817037   \n",
       "1  0.238962  0.751133  0.420458  0.105449  0.048560  0.712054  0.654813   \n",
       "2  0.321078  0.607845  0.012906  0.495153  0.686241  0.143671  0.489461   \n",
       "3  0.854633  0.648206  0.049929  0.354369  0.275358  0.212150  0.212205   \n",
       "4  0.600377  0.906483  0.286452  0.874746  0.144424  0.198611  0.868066   \n",
       "\n",
       "         14        15        16        17        18        19  \n",
       "0  0.185619  0.722172  0.189020 -0.043424  0.410381  0.867449  \n",
       "1  0.373847  0.782342  0.186357  0.390041  0.496090  0.289620  \n",
       "2  0.530279  0.694368  0.597142  0.789316  0.404252  0.207496  \n",
       "3  0.894152  0.423612  0.308699  0.055345  0.597417  0.598847  \n",
       "4  0.694760  0.940284  0.915209  0.068731  0.393995  0.336225  "
      ]
     },
     "execution_count": 202,
     "metadata": {},
     "output_type": "execute_result"
    }
   ],
   "source": [
    "user_mat20_df.head()"
   ]
  },
  {
   "cell_type": "code",
   "execution_count": 203,
   "id": "451e0f3a",
   "metadata": {},
   "outputs": [
    {
     "data": {
      "text/html": [
       "<div>\n",
       "<style scoped>\n",
       "    .dataframe tbody tr th:only-of-type {\n",
       "        vertical-align: middle;\n",
       "    }\n",
       "\n",
       "    .dataframe tbody tr th {\n",
       "        vertical-align: top;\n",
       "    }\n",
       "\n",
       "    .dataframe thead th {\n",
       "        text-align: right;\n",
       "    }\n",
       "</style>\n",
       "<table border=\"1\" class=\"dataframe\">\n",
       "  <thead>\n",
       "    <tr style=\"text-align: right;\">\n",
       "      <th></th>\n",
       "      <th>0</th>\n",
       "      <th>1</th>\n",
       "      <th>2</th>\n",
       "      <th>3</th>\n",
       "      <th>4</th>\n",
       "      <th>5</th>\n",
       "      <th>6</th>\n",
       "      <th>7</th>\n",
       "      <th>8</th>\n",
       "      <th>9</th>\n",
       "      <th>10</th>\n",
       "    </tr>\n",
       "  </thead>\n",
       "  <tbody>\n",
       "    <tr>\n",
       "      <th>0</th>\n",
       "      <td>0.101275</td>\n",
       "      <td>0.095106</td>\n",
       "      <td>0.127280</td>\n",
       "      <td>0.091442</td>\n",
       "      <td>0.091479</td>\n",
       "      <td>0.088398</td>\n",
       "      <td>0.105648</td>\n",
       "      <td>0.106694</td>\n",
       "      <td>0.089917</td>\n",
       "      <td>0.099773</td>\n",
       "      <td>0.100979</td>\n",
       "    </tr>\n",
       "    <tr>\n",
       "      <th>1</th>\n",
       "      <td>0.089515</td>\n",
       "      <td>0.089082</td>\n",
       "      <td>0.085287</td>\n",
       "      <td>0.108755</td>\n",
       "      <td>0.101048</td>\n",
       "      <td>0.094227</td>\n",
       "      <td>0.083657</td>\n",
       "      <td>0.114830</td>\n",
       "      <td>0.099509</td>\n",
       "      <td>0.113570</td>\n",
       "      <td>0.099298</td>\n",
       "    </tr>\n",
       "    <tr>\n",
       "      <th>2</th>\n",
       "      <td>0.110532</td>\n",
       "      <td>0.122577</td>\n",
       "      <td>0.084266</td>\n",
       "      <td>0.097565</td>\n",
       "      <td>0.093848</td>\n",
       "      <td>0.098137</td>\n",
       "      <td>0.106932</td>\n",
       "      <td>0.102976</td>\n",
       "      <td>0.080437</td>\n",
       "      <td>0.082079</td>\n",
       "      <td>0.101195</td>\n",
       "    </tr>\n",
       "    <tr>\n",
       "      <th>3</th>\n",
       "      <td>0.078173</td>\n",
       "      <td>0.109784</td>\n",
       "      <td>0.105039</td>\n",
       "      <td>0.087211</td>\n",
       "      <td>0.098665</td>\n",
       "      <td>0.110055</td>\n",
       "      <td>0.078686</td>\n",
       "      <td>0.100733</td>\n",
       "      <td>0.083159</td>\n",
       "      <td>0.100549</td>\n",
       "      <td>0.099803</td>\n",
       "    </tr>\n",
       "    <tr>\n",
       "      <th>4</th>\n",
       "      <td>0.099610</td>\n",
       "      <td>0.088458</td>\n",
       "      <td>0.076334</td>\n",
       "      <td>0.100498</td>\n",
       "      <td>0.096214</td>\n",
       "      <td>0.103927</td>\n",
       "      <td>0.091908</td>\n",
       "      <td>0.109710</td>\n",
       "      <td>0.106596</td>\n",
       "      <td>0.081536</td>\n",
       "      <td>0.097973</td>\n",
       "    </tr>\n",
       "  </tbody>\n",
       "</table>\n",
       "</div>"
      ],
      "text/plain": [
       "         0         1         2         3         4         5         6   \\\n",
       "0  0.101275  0.095106  0.127280  0.091442  0.091479  0.088398  0.105648   \n",
       "1  0.089515  0.089082  0.085287  0.108755  0.101048  0.094227  0.083657   \n",
       "2  0.110532  0.122577  0.084266  0.097565  0.093848  0.098137  0.106932   \n",
       "3  0.078173  0.109784  0.105039  0.087211  0.098665  0.110055  0.078686   \n",
       "4  0.099610  0.088458  0.076334  0.100498  0.096214  0.103927  0.091908   \n",
       "\n",
       "         7         8         9         10  \n",
       "0  0.106694  0.089917  0.099773  0.100979  \n",
       "1  0.114830  0.099509  0.113570  0.099298  \n",
       "2  0.102976  0.080437  0.082079  0.101195  \n",
       "3  0.100733  0.083159  0.100549  0.099803  \n",
       "4  0.109710  0.106596  0.081536  0.097973  "
      ]
     },
     "execution_count": 203,
     "metadata": {},
     "output_type": "execute_result"
    }
   ],
   "source": [
    "offer_mat20_df = pd.DataFrame(offer_mat20)\n",
    "offer_mat20_df.head()"
   ]
  },
  {
   "cell_type": "code",
   "execution_count": 204,
   "id": "7d305b32",
   "metadata": {},
   "outputs": [
    {
     "name": "stdout",
     "output_type": "stream",
     "text": [
      "MSE for this validation is: 0.0005343876912476633\n",
      "RMSE for this validation is: 0.02311682701513474\n",
      "Accuracy for this validation is: 0.9991008713720798\n"
     ]
    }
   ],
   "source": [
    "val2(user_mat20_df, offer_mat20_df)"
   ]
  },
  {
   "cell_type": "code",
   "execution_count": 206,
   "id": "c9eda40a",
   "metadata": {},
   "outputs": [
    {
     "data": {
      "text/html": [
       "<div>\n",
       "<style scoped>\n",
       "    .dataframe tbody tr th:only-of-type {\n",
       "        vertical-align: middle;\n",
       "    }\n",
       "\n",
       "    .dataframe tbody tr th {\n",
       "        vertical-align: top;\n",
       "    }\n",
       "\n",
       "    .dataframe thead th {\n",
       "        text-align: right;\n",
       "    }\n",
       "</style>\n",
       "<table border=\"1\" class=\"dataframe\">\n",
       "  <thead>\n",
       "    <tr style=\"text-align: right;\">\n",
       "      <th></th>\n",
       "      <th>0</th>\n",
       "      <th>1</th>\n",
       "      <th>2</th>\n",
       "      <th>3</th>\n",
       "      <th>4</th>\n",
       "      <th>5</th>\n",
       "      <th>6</th>\n",
       "      <th>7</th>\n",
       "      <th>8</th>\n",
       "      <th>9</th>\n",
       "      <th>10</th>\n",
       "      <th>11</th>\n",
       "      <th>12</th>\n",
       "      <th>13</th>\n",
       "      <th>14</th>\n",
       "    </tr>\n",
       "  </thead>\n",
       "  <tbody>\n",
       "    <tr>\n",
       "      <th>0</th>\n",
       "      <td>0.291878</td>\n",
       "      <td>0.041272</td>\n",
       "      <td>0.292261</td>\n",
       "      <td>0.222774</td>\n",
       "      <td>0.164914</td>\n",
       "      <td>0.854287</td>\n",
       "      <td>0.834715</td>\n",
       "      <td>0.288138</td>\n",
       "      <td>0.539565</td>\n",
       "      <td>0.695564</td>\n",
       "      <td>0.965846</td>\n",
       "      <td>0.376648</td>\n",
       "      <td>0.302417</td>\n",
       "      <td>0.48833</td>\n",
       "      <td>0.317009</td>\n",
       "    </tr>\n",
       "    <tr>\n",
       "      <th>1</th>\n",
       "      <td>0.804888</td>\n",
       "      <td>0.750601</td>\n",
       "      <td>0.730062</td>\n",
       "      <td>0.080878</td>\n",
       "      <td>0.958392</td>\n",
       "      <td>0.257789</td>\n",
       "      <td>0.164933</td>\n",
       "      <td>0.221591</td>\n",
       "      <td>0.937490</td>\n",
       "      <td>0.725252</td>\n",
       "      <td>0.894092</td>\n",
       "      <td>0.065463</td>\n",
       "      <td>0.379394</td>\n",
       "      <td>0.67122</td>\n",
       "      <td>0.156467</td>\n",
       "    </tr>\n",
       "  </tbody>\n",
       "</table>\n",
       "</div>"
      ],
      "text/plain": [
       "         0         1         2         3         4         5         6   \\\n",
       "0  0.291878  0.041272  0.292261  0.222774  0.164914  0.854287  0.834715   \n",
       "1  0.804888  0.750601  0.730062  0.080878  0.958392  0.257789  0.164933   \n",
       "\n",
       "         7         8         9         10        11        12       13  \\\n",
       "0  0.288138  0.539565  0.695564  0.965846  0.376648  0.302417  0.48833   \n",
       "1  0.221591  0.937490  0.725252  0.894092  0.065463  0.379394  0.67122   \n",
       "\n",
       "         14  \n",
       "0  0.317009  \n",
       "1  0.156467  "
      ]
     },
     "execution_count": 206,
     "metadata": {},
     "output_type": "execute_result"
    }
   ],
   "source": [
    "user_mat15_df = pd.DataFrame(user_mat15)\n",
    "user_mat15_df.head(2)"
   ]
  },
  {
   "cell_type": "code",
   "execution_count": 208,
   "id": "b8028c08",
   "metadata": {},
   "outputs": [
    {
     "data": {
      "text/html": [
       "<div>\n",
       "<style scoped>\n",
       "    .dataframe tbody tr th:only-of-type {\n",
       "        vertical-align: middle;\n",
       "    }\n",
       "\n",
       "    .dataframe tbody tr th {\n",
       "        vertical-align: top;\n",
       "    }\n",
       "\n",
       "    .dataframe thead th {\n",
       "        text-align: right;\n",
       "    }\n",
       "</style>\n",
       "<table border=\"1\" class=\"dataframe\">\n",
       "  <thead>\n",
       "    <tr style=\"text-align: right;\">\n",
       "      <th></th>\n",
       "      <th>0</th>\n",
       "      <th>1</th>\n",
       "      <th>2</th>\n",
       "      <th>3</th>\n",
       "      <th>4</th>\n",
       "      <th>5</th>\n",
       "      <th>6</th>\n",
       "      <th>7</th>\n",
       "      <th>8</th>\n",
       "      <th>9</th>\n",
       "      <th>10</th>\n",
       "    </tr>\n",
       "  </thead>\n",
       "  <tbody>\n",
       "    <tr>\n",
       "      <th>0</th>\n",
       "      <td>0.141519</td>\n",
       "      <td>0.150032</td>\n",
       "      <td>0.138298</td>\n",
       "      <td>0.131045</td>\n",
       "      <td>0.108332</td>\n",
       "      <td>0.127211</td>\n",
       "      <td>0.130179</td>\n",
       "      <td>0.125933</td>\n",
       "      <td>0.149238</td>\n",
       "      <td>0.158565</td>\n",
       "      <td>0.140499</td>\n",
       "    </tr>\n",
       "    <tr>\n",
       "      <th>1</th>\n",
       "      <td>0.129268</td>\n",
       "      <td>0.115655</td>\n",
       "      <td>0.136665</td>\n",
       "      <td>0.167043</td>\n",
       "      <td>0.136684</td>\n",
       "      <td>0.152186</td>\n",
       "      <td>0.145058</td>\n",
       "      <td>0.167676</td>\n",
       "      <td>0.130052</td>\n",
       "      <td>0.119919</td>\n",
       "      <td>0.132842</td>\n",
       "    </tr>\n",
       "  </tbody>\n",
       "</table>\n",
       "</div>"
      ],
      "text/plain": [
       "         0         1         2         3         4         5         6   \\\n",
       "0  0.141519  0.150032  0.138298  0.131045  0.108332  0.127211  0.130179   \n",
       "1  0.129268  0.115655  0.136665  0.167043  0.136684  0.152186  0.145058   \n",
       "\n",
       "         7         8         9         10  \n",
       "0  0.125933  0.149238  0.158565  0.140499  \n",
       "1  0.167676  0.130052  0.119919  0.132842  "
      ]
     },
     "execution_count": 208,
     "metadata": {},
     "output_type": "execute_result"
    }
   ],
   "source": [
    "offer_mat15_df = pd.DataFrame(offer_mat15)\n",
    "offer_mat15_df.head(2)"
   ]
  },
  {
   "cell_type": "code",
   "execution_count": 209,
   "id": "ef2dfd83",
   "metadata": {},
   "outputs": [
    {
     "name": "stdout",
     "output_type": "stream",
     "text": [
      "MSE for this validation is: 0.0003532560137574089\n",
      "RMSE for this validation is: 0.01879510611189543\n",
      "Accuracy for this validation is: 0.999391784401307\n"
     ]
    }
   ],
   "source": [
    "val2(user_mat15_df, offer_mat15_df)"
   ]
  },
  {
   "cell_type": "code",
   "execution_count": 131,
   "id": "aa7a589c",
   "metadata": {},
   "outputs": [],
   "source": [
    "import numpy as np\n",
    "import pandas as pd\n",
    "\n",
    "class Recommender():\n",
    "    '''\n",
    "    This Recommender uses FunkSVD to make predictions of exact ratings.  And uses either FunkSVD or a Knowledge Based recommendation (highest ranked) to make recommendations for users.  Finally, if given a movie, the recommender will provide movies that are most similar as a Content Based Recommender.\n",
    "    '''\n",
    "    def __init__(self):\n",
    "        '''\n",
    "        I didn't have any required attributes needed when creating my class.\n",
    "        '''\n",
    "        \n",
    "    def fit(self, df, latent_features=4, learning_rate=0.0001, iters=100):\n",
    "        '''\n",
    "        Purpose:\n",
    "            This function performs matrix factorization using a basic form of FunkSVD with no regularization\n",
    "    \n",
    "        INPUT:\n",
    "            ratings_mat - (numpy array) a matrix with users as rows, movies as columns, and ratings as values\n",
    "            latent_features - (int) the number of latent features used\n",
    "            learning_rate - (float) the learning rate \n",
    "            iters - (int) the number of iterations\n",
    "    \n",
    "        OUTPUT:\n",
    "            user_mat - (numpy array) a user by latent feature matrix\n",
    "            movie_mat - (numpy array) a latent feature by movie matrix\n",
    "        '''\n",
    "        # create user item matrix\n",
    "        user_items = df[['customer_id', 'offer_id', 'offer_viewed']]\n",
    "        self.user_item_df = user_items.groupby(['customer_id', 'offer_id'])['offer_viewed'].max().unstack()\n",
    "        #self.user_item_df = user_item_matrix.notnull().astype(int)\n",
    "        self.user_item_mat= np.array(self.user_item_df)\n",
    "\n",
    "        # Store more inputs\n",
    "        self.latent_features = latent_features\n",
    "        self.learning_rate = learning_rate\n",
    "        self.iters = iters\n",
    "\n",
    "        # Set up useful values to be used through the rest of the function\n",
    "        self.n_users = self.user_item_mat.shape[0]  # number of rows in the matrix\n",
    "        self.n_offers = self.user_item_mat.shape[1] # number of movies in the matrix\n",
    "        self.num_ratings = np.count_nonzero(~np.isnan(self.user_item_mat))  # total number of ratings in the matrix\n",
    "        self.user_ids_series = np.array(self.user_item_df.index)\n",
    "        self.movie_ids_series = np.array(self.user_item_df.columns)\n",
    "\n",
    "        # initialize the user and movie matrices with random values\n",
    "        # helpful link: https://numpy.org/doc/stable/reference/random/generated/numpy.random.rand.html\n",
    "        user_mat = np.random.rand(self.n_users, self.latent_features)   # customer matrix filled with random values of shape customer x latent\n",
    "        offer_mat = np.random.rand(self.latent_features, self.n_offers) # offer matrix filled with random values of shape latent x offers\n",
    "\n",
    "        sse_accum = 0 # initialize sse at 0 for first iteration\n",
    "        mse_iter = [] # initialize MSE iteration list\n",
    "    \n",
    "        # keep track of iteration and MSE\n",
    "        print(\"Optimization Statistics\")\n",
    "        print(\"Iterations | Mean Squared Error \")\n",
    "\n",
    "        # for each iteration\n",
    "        for iteration in range(iters):\n",
    "\n",
    "            # update our sse\n",
    "            old_sse = sse_accum\n",
    "            sse_accum = 0\n",
    "        \n",
    "            # For each user-offer pair\n",
    "            for i in range(self.n_users):\n",
    "                for j in range(self.n_offers):\n",
    "                \n",
    "                    # if the rating exists\n",
    "                    if self.user_item_mat[i, j] > 0:\n",
    "                    \n",
    "                        # compute the error as the actual minus the dot product of the user and offer latent features\n",
    "                        diff = self.user_item_mat[i, j] - np.dot(user_mat[i, :], offer_mat[:, j])\n",
    "\n",
    "                        # Keep track of the sum of squared errors for the matrix\n",
    "                        sse_accum += diff**2\n",
    "\n",
    "                        # update the values in each matrix in the direction of the gradient\n",
    "                        for k in range(latent_features):\n",
    "                            user_mat[i, k] += learning_rate * (2*diff*offer_mat[k, j])\n",
    "                            offer_mat[k, j] += learning_rate * (2*diff*user_mat[i, k])\n",
    "\n",
    "            # print results every 15 iterations\n",
    "            if iteration % 15 == 0:\n",
    "                print(\"%d \\t\\t %f\" % (iteration+1, sse_accum / self.num_ratings))\n",
    "            \n",
    "            # save mse for plots\n",
    "            mse = sse_accum / self.num_ratings\n",
    "            mse_iter.append(mse)\n",
    "        \n",
    "        return user_mat, offer_mat, mse_iter"
   ]
  },
  {
   "cell_type": "code",
   "execution_count": 132,
   "id": "4e875b26",
   "metadata": {},
   "outputs": [],
   "source": [
    "rec = Recommender()"
   ]
  },
  {
   "cell_type": "code",
   "execution_count": 135,
   "id": "41d93d1e",
   "metadata": {},
   "outputs": [
    {
     "name": "stdout",
     "output_type": "stream",
     "text": [
      "Optimization Statistics\n",
      "Iterations | Mean Squared Error \n",
      "1 \t\t 0.053208\n",
      "16 \t\t 0.037804\n",
      "31 \t\t 0.035613\n",
      "46 \t\t 0.034365\n",
      "61 \t\t 0.033549\n",
      "76 \t\t 0.032983\n",
      "91 \t\t 0.032567\n"
     ]
    }
   ],
   "source": [
    "user_mat, offer_mat, mse_iter = rec.fit(train_df)"
   ]
  },
  {
   "cell_type": "code",
   "execution_count": 137,
   "id": "02a2f4d5",
   "metadata": {},
   "outputs": [
    {
     "name": "stdout",
     "output_type": "stream",
     "text": [
      "Optimization Statistics\n",
      "Iterations | Mean Squared Error \n",
      "1 \t\t 0.980409\n",
      "16 \t\t 0.027718\n",
      "31 \t\t 0.022354\n",
      "46 \t\t 0.019185\n",
      "61 \t\t 0.017248\n",
      "76 \t\t 0.016032\n",
      "91 \t\t 0.015247\n"
     ]
    }
   ],
   "source": [
    "user_mat10, offer_mat10, mse_iter = rec.fit(train_df, latent_features=10)"
   ]
  },
  {
   "cell_type": "code",
   "execution_count": null,
   "id": "d470b3fa",
   "metadata": {},
   "outputs": [],
   "source": []
  }
 ],
 "metadata": {
  "kernelspec": {
   "display_name": "Python [conda env:root] *",
   "language": "python",
   "name": "conda-root-py"
  },
  "language_info": {
   "codemirror_mode": {
    "name": "ipython",
    "version": 3
   },
   "file_extension": ".py",
   "mimetype": "text/x-python",
   "name": "python",
   "nbconvert_exporter": "python",
   "pygments_lexer": "ipython3",
   "version": "3.9.16"
  }
 },
 "nbformat": 4,
 "nbformat_minor": 5
}
